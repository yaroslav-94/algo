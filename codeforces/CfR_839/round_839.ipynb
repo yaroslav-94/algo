{
 "cells": [
  {
   "cell_type": "markdown",
   "id": "77f99f3f",
   "metadata": {},
   "source": [
    "## Codeforces Round #839 (Div. 3)\n",
    "Less 1600"
   ]
  },
  {
   "cell_type": "markdown",
   "id": "1420b92e",
   "metadata": {},
   "source": [
    "### a+b"
   ]
  },
  {
   "cell_type": "code",
   "execution_count": null,
   "id": "bbbce8f1",
   "metadata": {
    "scrolled": true
   },
   "outputs": [],
   "source": [
    "answer = []\n",
    "n = int(input())\n",
    "for i in range(n):\n",
    "    a, b = map(int, input().split('+'))\n",
    "    answer.append(a+b)\n",
    "for i in range(n):\n",
    "    print(answer[i])"
   ]
  },
  {
   "cell_type": "markdown",
   "id": "f9af12a4",
   "metadata": {},
   "source": [
    "### matrix"
   ]
  },
  {
   "cell_type": "code",
   "execution_count": null,
   "id": "c9ea6810",
   "metadata": {},
   "outputs": [],
   "source": [
    "answer = []\n",
    "t = int(input())\n",
    "for i in range(t):\n",
    "    line1 = list(map(int, input().split()))\n",
    "    line2 = list(map(int, input().split()))\n",
    "    matrix = [line1, line2]\n",
    "    fl = False\n",
    "    for i in range(4):\n",
    "        matrix = [[matrix[1][0], matrix[0][0]], [matrix[1][1], matrix[0][1]]]\n",
    "        if (matrix[0][0] < matrix[0][1]) and (matrix[1][0] < matrix[1][1]) and (matrix[0][0] < matrix[1][0]) and (matrix[0][1] < matrix[1][1]):\n",
    "            fl = True\n",
    "            break\n",
    "    \n",
    "    if fl:\n",
    "        answer.append('YES')\n",
    "    else:\n",
    "        answer.append('NO')\n",
    "        \n",
    "for i in range(t):\n",
    "    print(answer[i])\n"
   ]
  },
  {
   "cell_type": "code",
   "execution_count": null,
   "id": "7a4d0ee1",
   "metadata": {},
   "outputs": [],
   "source": [
    "6\n",
    "\n",
    "1 3   Y+\n",
    "5 7\n",
    "\n",
    "8 10   Y+\n",
    "3 4    \n",
    "\n",
    "8 10  N+\n",
    "4 3\n",
    "\n",
    "6 1 Y+\n",
    "9 2\n",
    "\n",
    "7 5 Y+ \n",
    "4 2\n",
    "\n",
    "1 2 N\n",
    "4 3"
   ]
  },
  {
   "cell_type": "markdown",
   "id": "f71eaf19",
   "metadata": {},
   "source": [
    "## raznosti"
   ]
  },
  {
   "cell_type": "code",
   "execution_count": null,
   "id": "ba3e4fd1",
   "metadata": {
    "scrolled": true
   },
   "outputs": [],
   "source": [
    "t = int(input())\n",
    "answer = []\n",
    "for i in range(t):\n",
    "    k, n = map(int, input().split())\n",
    "    arr = [1]\n",
    "    for i in range(1, k):\n",
    "        arr.append(arr[-1]+i)\n",
    "    if arr[-1]>n:\n",
    "        for i in range(k):\n",
    "            if n-arr[i]<len(arr)-i-1:\n",
    "                arr[i] = arr[i-1]+1\n",
    "    answer.append(' '.join(str(i) for i in arr))\n",
    "    \n",
    "for i in range(t):\n",
    "    print(answer[i])"
   ]
  },
  {
   "cell_type": "code",
   "execution_count": null,
   "id": "4404f035",
   "metadata": {},
   "outputs": [],
   "source": [
    "# 3\n",
    "a = [1, 2, 4, 7, 8, 9, 10, 11]\n",
    "for i in range(len(a)-1):\n",
    "    print(a[i+1]-a[i])"
   ]
  },
  {
   "cell_type": "code",
   "execution_count": null,
   "id": "dbff367d",
   "metadata": {},
   "outputs": [],
   "source": [
    "5 9   - 3 - 3 \n",
    "4 12  - 3 - 3\n",
    "3 3   - 1 - 1\n",
    "3 4   - 2 - 2\n",
    "4 4   - 1 - 1\n",
    "4 6   - 2 - 2\n",
    "8 11  - 3 - 3\n"
   ]
  },
  {
   "cell_type": "code",
   "execution_count": null,
   "id": "d086b9b0",
   "metadata": {},
   "outputs": [],
   "source": [
    "def raz(k, n):\n",
    "    arr = [1]\n",
    "    for i in range(1, k):\n",
    "        arr.append(arr[-1]+i)\n",
    "    if arr[-1]>n:\n",
    "        for i in range(k):\n",
    "            if n-arr[i]<len(arr)-i-1:\n",
    "                arr[i] = arr[i-1]+1\n",
    "    return arr\n",
    "\n",
    "def find_un_raz(arr):\n",
    "    answer = []\n",
    "    for i in range(len(arr)-1):\n",
    "        answer.append(arr[i+1]-arr[i])\n",
    "    return len(set(answer))\n",
    "\n",
    "\n",
    "assert find_un_raz(raz(5, 9)) == find_un_raz([1, 3, 4, 7, 8]), \"Test 5 9\"\n",
    "assert find_un_raz(raz(4, 12)) == find_un_raz([2, 4, 7, 12]), \"Test 4 12\"\n",
    "assert find_un_raz(raz(3, 3)) == find_un_raz([1, 2, 3]), \"Test 3 3\"\n",
    "assert find_un_raz(raz(3, 4)) == find_un_raz([1, 3, 4]), \"Test 3 4\"\n",
    "assert find_un_raz(raz(4, 4)) == find_un_raz([1, 2, 3, 4]), \"Test 4 4\"\n",
    "assert find_un_raz(raz(4, 6)) == find_un_raz([2, 4, 5, 6]), \"Test 4 6\"\n",
    "assert find_un_raz(raz(8, 11)) == find_un_raz([1, 2, 3, 5, 6, 7, 8, 11]), \"Test 8 11\""
   ]
  },
  {
   "cell_type": "code",
   "execution_count": null,
   "id": "d3afca1e",
   "metadata": {},
   "outputs": [],
   "source": []
  },
  {
   "cell_type": "code",
   "execution_count": null,
   "id": "51769c51",
   "metadata": {},
   "outputs": [],
   "source": []
  },
  {
   "cell_type": "code",
   "execution_count": null,
   "id": "b5f22aae",
   "metadata": {},
   "outputs": [],
   "source": []
  },
  {
   "cell_type": "code",
   "execution_count": null,
   "id": "c5972a5b",
   "metadata": {},
   "outputs": [],
   "source": []
  },
  {
   "cell_type": "code",
   "execution_count": null,
   "id": "5a961a82",
   "metadata": {},
   "outputs": [],
   "source": []
  },
  {
   "cell_type": "code",
   "execution_count": 34,
   "id": "5bca8b1a",
   "metadata": {},
   "outputs": [
    {
     "name": "stdout",
     "output_type": "stream",
     "text": [
      "1\n",
      "1\n",
      "5 3 3 3 5\n",
      "4\n"
     ]
    }
   ],
   "source": [
    "# где-то здесь рекурсия и двоичный поиск\n",
    "\n",
    "t = int(input())\n",
    "answer = []\n",
    "for i in range(t):\n",
    "    _, arr = input(), list(map(int, input().split()))\n",
    "    \n",
    "    if arr == sorted(arr):\n",
    "        answer.append(0)\n",
    "    else:\n",
    "        max_min = 2*max(arr)\n",
    "        fl = 0\n",
    "        while max_min>0:\n",
    "            arr_new = [abs(arr[i]-max_min) for i in range(len(arr))]\n",
    "            if arr_new == sorted(arr_new):\n",
    "                fl = 1\n",
    "                answer.append(max_min)\n",
    "                break\n",
    "            elif (max(arr_new))//2>0:\n",
    "                max_min -= (max(arr_new))//2\n",
    "            else:\n",
    "                break\n",
    "        if fl == 0:\n",
    "            answer.append(-1)\n",
    "    \n",
    "for i in range(t):\n",
    "    print(answer[i])\n"
   ]
  },
  {
   "cell_type": "code",
   "execution_count": null,
   "id": "7fc0568b",
   "metadata": {},
   "outputs": [],
   "source": [
    "5 3 4 5                                 -1\n",
    "42 43 42                                -1"
   ]
  },
  {
   "cell_type": "code",
   "execution_count": 20,
   "id": "5c9e5c5c",
   "metadata": {},
   "outputs": [
    {
     "name": "stdout",
     "output_type": "stream",
     "text": [
      "True\n",
      "True\n",
      "True\n",
      "True\n",
      "True\n",
      "True\n"
     ]
    }
   ],
   "source": [
    "arr = [5, 3, 3, 3, 5]\n",
    "new_arr = []\n",
    "answer = 4\n",
    "for i in arr:\n",
    "    new_arr.append(abs(i-answer))\n",
    "print(new_arr == sorted(new_arr))\n",
    "\n",
    "\n",
    "arr = [1, 2, 3, 4, 5, 6, 7, 8]\n",
    "new_arr = []\n",
    "answer = 1\n",
    "for i in arr:\n",
    "    new_arr.append(abs(i-answer))\n",
    "print(new_arr == sorted(new_arr))\n",
    "\n",
    "\n",
    "arr = [10, 5, 4, 3, 2, 1]\n",
    "new_arr = []\n",
    "answer = 11\n",
    "for i in arr:\n",
    "    new_arr.append(abs(i-answer))\n",
    "print(new_arr == sorted(new_arr))\n",
    "\n",
    "\n",
    "arr = [3, 3, 1]\n",
    "new_arr = []\n",
    "answer = 4\n",
    "for i in arr:\n",
    "    new_arr.append(abs(i-answer))\n",
    "print(new_arr == sorted(new_arr))\n",
    "\n",
    "\n",
    "arr = [100000000, 99999999]\n",
    "new_arr = []\n",
    "answer = 199999999\n",
    "for i in arr:\n",
    "    new_arr.append(abs(i-answer))\n",
    "print(new_arr == sorted(new_arr))\n",
    "\n",
    "\n",
    "arr = [29613295, 52036613, 75100585, 78027446, 81409090, 73215]\n",
    "new_arr = []\n",
    "answer = 40741153\n",
    "for i in arr:\n",
    "    new_arr.append(abs(i-answer))\n",
    "print(new_arr == sorted(new_arr))"
   ]
  },
  {
   "cell_type": "code",
   "execution_count": null,
   "id": "9a67de1a",
   "metadata": {},
   "outputs": [],
   "source": []
  },
  {
   "cell_type": "code",
   "execution_count": null,
   "id": "949ccc3f",
   "metadata": {},
   "outputs": [],
   "source": []
  },
  {
   "cell_type": "code",
   "execution_count": 37,
   "id": "b09a6f74",
   "metadata": {},
   "outputs": [],
   "source": [
    "def find_number(arr):\n",
    "    answer = []\n",
    "    max_min = (max(arr)+min(arr))\n",
    "    fl = 0\n",
    "    if arr == sorted(arr):\n",
    "        answer.append(0)\n",
    "    else:\n",
    "        max_min = 2*max(arr)\n",
    "        fl = 0\n",
    "        while max_min>0:\n",
    "            arr_new = [abs(arr[i]-max_min) for i in range(len(arr))]\n",
    "            if arr_new == sorted(arr_new):\n",
    "                fl = 1\n",
    "                answer.append(max_min)\n",
    "                break\n",
    "            elif (max(arr_new))//2>0:\n",
    "                max_min -= (max(arr_new))//2\n",
    "            else:\n",
    "                break\n",
    "        if fl == 0:\n",
    "            answer.append(-1)\n",
    "    return answer[0]\n",
    "\n",
    "def check_answer(arr, answer):\n",
    "    new_arr = []\n",
    "    if answer==-1:\n",
    "        return False\n",
    "    for i in arr:\n",
    "        new_arr.append(abs(i-answer))\n",
    "    \n",
    "    return new_arr == sorted(new_arr)\n",
    "    \n",
    "assert check_answer(arr=[5, 3, 3, 3, 5], answer=find_number(arr=[5, 3, 3, 3, 5])) is True, \"Test 1\"\n",
    "assert check_answer(arr=[5, 3, 4, 5], answer=find_number(arr=[5, 3, 4, 5])) is False, \"Test 2\"\n",
    "assert check_answer(arr=[1, 2, 3, 4, 5, 6, 7, 8], answer=find_number(arr=[1, 2, 3, 4, 5, 6, 7, 8])) is True, \"Test 3\"\n",
    "assert check_answer(arr=[10, 5, 4, 3, 2, 1], answer=find_number(arr=[10, 5, 4, 3, 2, 1])) is True, \"Test 4\"\n",
    "assert check_answer(arr=[3, 3, 1], answer=find_number(arr=[3, 3, 1])) is True, \"Test 5\"\n",
    "assert check_answer(arr=[42, 43, 42], answer=find_number(arr=[42, 43, 42])) is False, \"Test 6\"\n",
    "assert check_answer(arr=[100000000, 99999999], answer=find_number(arr=[100000000, 99999999])) , \"Test 7\"\n",
    "assert check_answer(arr=[29613295, 52036613, 75100585, 78027446, 81409090, 73215], \n",
    "                    answer=find_number(arr=[29613295, 52036613, 75100585, 78027446, 81409090, 73215])) is True, \"Test 8\""
   ]
  },
  {
   "cell_type": "code",
   "execution_count": null,
   "id": "eb33d03d",
   "metadata": {},
   "outputs": [],
   "source": []
  },
  {
   "cell_type": "code",
   "execution_count": 35,
   "id": "a2c57fc3",
   "metadata": {
    "scrolled": true
   },
   "outputs": [
    {
     "name": "stdout",
     "output_type": "stream",
     "text": [
      "[499999999, 499999998, 499999997, 499999996, 499999995, 499999994, 499999993, 499999992]\n",
      "[249999998, 249999997, 249999996, 249999995, 249999994, 249999993, 249999992, 249999991]\n",
      "[374999998, 374999997, 374999996, 374999995, 374999994, 374999993, 374999992, 374999991]\n",
      "[312499997, 312499996, 312499995, 312499994, 312499993, 312499992, 312499991, 312499990]\n",
      "[343749997, 343749996, 343749995, 343749994, 343749993, 343749992, 343749991, 343749990]\n",
      "[328124996, 328124995, 328124994, 328124993, 328124992, 328124991, 328124990, 328124989]\n",
      "[335937496, 335937495, 335937494, 335937493, 335937492, 335937491, 335937490, 335937489]\n",
      "[332031245, 332031244, 332031243, 332031242, 332031241, 332031240, 332031239, 332031238]\n",
      "[333984370, 333984369, 333984368, 333984367, 333984366, 333984365, 333984364, 333984363]\n",
      "[333007807, 333007806, 333007805, 333007804, 333007803, 333007802, 333007801, 333007800]\n",
      "[333496088, 333496087, 333496086, 333496085, 333496084, 333496083, 333496082, 333496081]\n",
      "[333251947, 333251946, 333251945, 333251944, 333251943, 333251942, 333251941, 333251940]\n",
      "[333374017, 333374016, 333374015, 333374014, 333374013, 333374012, 333374011, 333374010]\n",
      "[333312981, 333312980, 333312979, 333312978, 333312977, 333312976, 333312975, 333312974]\n",
      "[333343498, 333343497, 333343496, 333343495, 333343494, 333343493, 333343492, 333343491]\n",
      "[333328239, 333328238, 333328237, 333328236, 333328235, 333328234, 333328233, 333328232]\n",
      "[333335868, 333335867, 333335866, 333335865, 333335864, 333335863, 333335862, 333335861]\n",
      "[333332053, 333332052, 333332051, 333332050, 333332049, 333332048, 333332047, 333332046]\n",
      "[333333960, 333333959, 333333958, 333333957, 333333956, 333333955, 333333954, 333333953]\n",
      "[333333006, 333333005, 333333004, 333333003, 333333002, 333333001, 333333000, 333332999]\n",
      "[333333482, 333333481, 333333480, 333333479, 333333478, 333333477, 333333476, 333333475]\n",
      "[333333243, 333333242, 333333241, 333333240, 333333239, 333333238, 333333237, 333333236]\n",
      "[333333362, 333333361, 333333360, 333333359, 333333358, 333333357, 333333356, 333333355]\n",
      "[333333302, 333333301, 333333300, 333333299, 333333298, 333333297, 333333296, 333333295]\n",
      "[333333331, 333333330, 333333329, 333333328, 333333327, 333333326, 333333325, 333333324]\n",
      "[333333316, 333333315, 333333314, 333333313, 333333312, 333333311, 333333310, 333333309]\n",
      "[333333323, 333333322, 333333321, 333333320, 333333319, 333333318, 333333317, 333333316]\n",
      "[333333319, 333333318, 333333317, 333333316, 333333315, 333333314, 333333313, 333333312]\n",
      "[333333320, 333333319, 333333318, 333333317, 333333316, 333333315, 333333314, 333333313]\n",
      "[-1]\n"
     ]
    },
    {
     "ename": "AssertionError",
     "evalue": "Test 3",
     "output_type": "error",
     "traceback": [
      "\u001b[1;31m---------------------------------------------------------------------------\u001b[0m",
      "\u001b[1;31mAssertionError\u001b[0m                            Traceback (most recent call last)",
      "\u001b[1;32m<ipython-input-35-e7eb714fdd35>\u001b[0m in \u001b[0;36m<module>\u001b[1;34m\u001b[0m\n\u001b[0;32m     34\u001b[0m \u001b[1;31m# assert check_answer(arr=[5, 3, 3, 3, 5], answer=find_number(arr=[5, 3, 3, 3, 5])) is True, \"Test 1\"\u001b[0m\u001b[1;33m\u001b[0m\u001b[1;33m\u001b[0m\u001b[1;33m\u001b[0m\u001b[0m\n\u001b[0;32m     35\u001b[0m \u001b[1;31m# assert check_answer(arr=[5, 3, 4, 5], answer=find_number(arr=[5, 3, 4, 5])) is False, \"Test 2\"\u001b[0m\u001b[1;33m\u001b[0m\u001b[1;33m\u001b[0m\u001b[1;33m\u001b[0m\u001b[0m\n\u001b[1;32m---> 36\u001b[1;33m \u001b[1;32massert\u001b[0m \u001b[0mcheck_answer\u001b[0m\u001b[1;33m(\u001b[0m\u001b[0marr\u001b[0m\u001b[1;33m=\u001b[0m\u001b[1;33m[\u001b[0m\u001b[1;36m1\u001b[0m\u001b[1;33m,\u001b[0m \u001b[1;36m2\u001b[0m\u001b[1;33m,\u001b[0m \u001b[1;36m3\u001b[0m\u001b[1;33m,\u001b[0m \u001b[1;36m4\u001b[0m\u001b[1;33m,\u001b[0m \u001b[1;36m5\u001b[0m\u001b[1;33m,\u001b[0m \u001b[1;36m6\u001b[0m\u001b[1;33m,\u001b[0m \u001b[1;36m7\u001b[0m\u001b[1;33m,\u001b[0m \u001b[1;36m8\u001b[0m\u001b[1;33m]\u001b[0m\u001b[1;33m,\u001b[0m \u001b[0manswer\u001b[0m\u001b[1;33m=\u001b[0m\u001b[0mfind_number\u001b[0m\u001b[1;33m(\u001b[0m\u001b[0marr\u001b[0m\u001b[1;33m=\u001b[0m\u001b[1;33m[\u001b[0m\u001b[1;36m1\u001b[0m\u001b[1;33m,\u001b[0m \u001b[1;36m2\u001b[0m\u001b[1;33m,\u001b[0m \u001b[1;36m3\u001b[0m\u001b[1;33m,\u001b[0m \u001b[1;36m4\u001b[0m\u001b[1;33m,\u001b[0m \u001b[1;36m5\u001b[0m\u001b[1;33m,\u001b[0m \u001b[1;36m6\u001b[0m\u001b[1;33m,\u001b[0m \u001b[1;36m7\u001b[0m\u001b[1;33m,\u001b[0m \u001b[1;36m8\u001b[0m\u001b[1;33m]\u001b[0m\u001b[1;33m)\u001b[0m\u001b[1;33m)\u001b[0m \u001b[1;32mis\u001b[0m \u001b[1;32mTrue\u001b[0m\u001b[1;33m,\u001b[0m \u001b[1;34m\"Test 3\"\u001b[0m\u001b[1;33m\u001b[0m\u001b[1;33m\u001b[0m\u001b[0m\n\u001b[0m\u001b[0;32m     37\u001b[0m \u001b[1;32massert\u001b[0m \u001b[0mcheck_answer\u001b[0m\u001b[1;33m(\u001b[0m\u001b[0marr\u001b[0m\u001b[1;33m=\u001b[0m\u001b[1;33m[\u001b[0m\u001b[1;36m10\u001b[0m\u001b[1;33m,\u001b[0m \u001b[1;36m5\u001b[0m\u001b[1;33m,\u001b[0m \u001b[1;36m4\u001b[0m\u001b[1;33m,\u001b[0m \u001b[1;36m3\u001b[0m\u001b[1;33m,\u001b[0m \u001b[1;36m2\u001b[0m\u001b[1;33m,\u001b[0m \u001b[1;36m1\u001b[0m\u001b[1;33m]\u001b[0m\u001b[1;33m,\u001b[0m \u001b[0manswer\u001b[0m\u001b[1;33m=\u001b[0m\u001b[0mfind_number\u001b[0m\u001b[1;33m(\u001b[0m\u001b[0marr\u001b[0m\u001b[1;33m=\u001b[0m\u001b[1;33m[\u001b[0m\u001b[1;36m10\u001b[0m\u001b[1;33m,\u001b[0m \u001b[1;36m5\u001b[0m\u001b[1;33m,\u001b[0m \u001b[1;36m4\u001b[0m\u001b[1;33m,\u001b[0m \u001b[1;36m3\u001b[0m\u001b[1;33m,\u001b[0m \u001b[1;36m2\u001b[0m\u001b[1;33m,\u001b[0m \u001b[1;36m1\u001b[0m\u001b[1;33m]\u001b[0m\u001b[1;33m)\u001b[0m\u001b[1;33m)\u001b[0m \u001b[1;32mis\u001b[0m \u001b[1;32mTrue\u001b[0m\u001b[1;33m,\u001b[0m \u001b[1;34m\"Test 4\"\u001b[0m\u001b[1;33m\u001b[0m\u001b[1;33m\u001b[0m\u001b[0m\n\u001b[0;32m     38\u001b[0m \u001b[1;32massert\u001b[0m \u001b[0mcheck_answer\u001b[0m\u001b[1;33m(\u001b[0m\u001b[0marr\u001b[0m\u001b[1;33m=\u001b[0m\u001b[1;33m[\u001b[0m\u001b[1;36m3\u001b[0m\u001b[1;33m,\u001b[0m \u001b[1;36m3\u001b[0m\u001b[1;33m,\u001b[0m \u001b[1;36m1\u001b[0m\u001b[1;33m]\u001b[0m\u001b[1;33m,\u001b[0m \u001b[0manswer\u001b[0m\u001b[1;33m=\u001b[0m\u001b[0mfind_number\u001b[0m\u001b[1;33m(\u001b[0m\u001b[0marr\u001b[0m\u001b[1;33m=\u001b[0m\u001b[1;33m[\u001b[0m\u001b[1;36m3\u001b[0m\u001b[1;33m,\u001b[0m \u001b[1;36m3\u001b[0m\u001b[1;33m,\u001b[0m \u001b[1;36m1\u001b[0m\u001b[1;33m]\u001b[0m\u001b[1;33m)\u001b[0m\u001b[1;33m)\u001b[0m \u001b[1;32mis\u001b[0m \u001b[1;32mTrue\u001b[0m\u001b[1;33m,\u001b[0m \u001b[1;34m\"Test 5\"\u001b[0m\u001b[1;33m\u001b[0m\u001b[1;33m\u001b[0m\u001b[0m\n",
      "\u001b[1;31mAssertionError\u001b[0m: Test 3"
     ]
    }
   ],
   "source": [
    "def find_number(arr):\n",
    "    answer = []\n",
    "    max_min = (max(arr)+min(arr))\n",
    "    fl = 0\n",
    "    left_num, right_num = 0, 10**9\n",
    "    arr_last = arr\n",
    "    while left_num<right_num-1:\n",
    "        middle = (left_num+right_num)//2\n",
    "        arr_new = [middle-i for i in arr]\n",
    "        print(arr_new)\n",
    "        if arr_new == sorted(arr_new):\n",
    "            fl = 1\n",
    "            answer.append(middle)\n",
    "            break\n",
    "        elif sum(arr_last)<sum(arr_new):\n",
    "            right_num = middle-1\n",
    "        else:\n",
    "            left_num = middle\n",
    "        arr_last = arr_new\n",
    "    if fl == 0:\n",
    "        answer.append(-1)\n",
    "    print(answer)\n",
    "    return answer[0]\n",
    "\n",
    "def check_answer(arr, answer):\n",
    "    new_arr = []\n",
    "    if answer==-1:\n",
    "        return False\n",
    "    for i in arr:\n",
    "        new_arr.append(abs(i-answer))\n",
    "    \n",
    "    return new_arr == sorted(new_arr)\n",
    "    \n",
    "# assert check_answer(arr=[5, 3, 3, 3, 5], answer=find_number(arr=[5, 3, 3, 3, 5])) is True, \"Test 1\"\n",
    "# assert check_answer(arr=[5, 3, 4, 5], answer=find_number(arr=[5, 3, 4, 5])) is False, \"Test 2\"\n",
    "assert check_answer(arr=[1, 2, 3, 4, 5, 6, 7, 8], answer=find_number(arr=[1, 2, 3, 4, 5, 6, 7, 8])) is True, \"Test 3\"\n",
    "assert check_answer(arr=[10, 5, 4, 3, 2, 1], answer=find_number(arr=[10, 5, 4, 3, 2, 1])) is True, \"Test 4\"\n",
    "assert check_answer(arr=[3, 3, 1], answer=find_number(arr=[3, 3, 1])) is True, \"Test 5\"\n",
    "assert check_answer(arr=[42, 43, 42], answer=find_number(arr=[42, 43, 42])) is False, \"Test 6\"\n",
    "assert check_answer(arr=[100000000, 99999999], answer=find_number(arr=[100000000, 99999999])) , \"Test 7\"\n",
    "assert check_answer(arr=[29613295, 52036613, 75100585, 78027446, 81409090, 73215], \n",
    "                    answer=find_number(arr=[29613295, 52036613, 75100585, 78027446, 81409090, 73215])) is True, \"Test 8\""
   ]
  },
  {
   "cell_type": "code",
   "execution_count": null,
   "id": "880ce6ca",
   "metadata": {},
   "outputs": [],
   "source": []
  },
  {
   "cell_type": "code",
   "execution_count": null,
   "id": "98d06bb5",
   "metadata": {},
   "outputs": [],
   "source": []
  },
  {
   "cell_type": "code",
   "execution_count": null,
   "id": "f8277e79",
   "metadata": {},
   "outputs": [],
   "source": []
  },
  {
   "cell_type": "code",
   "execution_count": null,
   "id": "95f805dc",
   "metadata": {},
   "outputs": [],
   "source": []
  },
  {
   "cell_type": "code",
   "execution_count": null,
   "id": "649cc090",
   "metadata": {},
   "outputs": [],
   "source": []
  },
  {
   "cell_type": "code",
   "execution_count": null,
   "id": "05d2d792",
   "metadata": {},
   "outputs": [],
   "source": []
  }
 ],
 "metadata": {
  "kernelspec": {
   "display_name": "Python 3",
   "language": "python",
   "name": "python3"
  },
  "language_info": {
   "codemirror_mode": {
    "name": "ipython",
    "version": 3
   },
   "file_extension": ".py",
   "mimetype": "text/x-python",
   "name": "python",
   "nbconvert_exporter": "python",
   "pygments_lexer": "ipython3",
   "version": "3.7.13"
  }
 },
 "nbformat": 4,
 "nbformat_minor": 5
}
