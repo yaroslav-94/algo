{
 "cells": [
  {
   "cell_type": "markdown",
   "id": "553ca9f7",
   "metadata": {},
   "source": [
    "### Задача 1\n",
    "Описание: \n",
    "- url: https://leetcode.com/problems/sort-characters-by-frequency/\n",
    "- Дана строка s, отсортируйте ее в порядке убывания частоты встречаемости символов. Частота символа — это количество раз, которое он появляется в строке. Вернуть отсортированную строку. Если ответов несколько, верните любой из них."
   ]
  },
  {
   "cell_type": "code",
   "execution_count": 28,
   "id": "30c04b33",
   "metadata": {},
   "outputs": [],
   "source": [
    "class Solution:\n",
    "    def frequencySort(self, s: str) -> str:\n",
    "        d = {}\n",
    "        for c in s:\n",
    "            if c not in d:\n",
    "                d[c] = 1\n",
    "            else:\n",
    "                d[c] += 1\n",
    "        \n",
    "        answer = ''\n",
    "        while d:\n",
    "            max_key = ''\n",
    "            max_val = 0\n",
    "            for key, val in d.items():\n",
    "                if max_val < val:\n",
    "                    max_key = key\n",
    "                    max_val = val\n",
    "            answer += max_key*max_val\n",
    "            d.pop(max_key)\n",
    "        return answer\n",
    "    \n",
    "    \n",
    "a = Solution()\n",
    "assert a.frequencySort(s = \"tree\") == \"eetr\", \"Test 1\"\n",
    "assert a.frequencySort(s = \"cccaaa\") == \"cccaaa\", \"Test 2\"\n",
    "assert a.frequencySort(s = \"Aabb\") == \"bbAa\", \"Test 3\""
   ]
  },
  {
   "cell_type": "markdown",
   "id": "0fd93145",
   "metadata": {},
   "source": [
    "### Задача 2\n",
    "Описание: \n",
    "- url: https://leetcode.com/problems/minimum-average-difference/description/\n",
    "- Дан целочисленный массив nums с нулевым индексом длины n. Средняя разница индекса i — это абсолютная разница между средним значением первых i + 1 элементов nums и средним значением последних n — i — 1 элементов. Оба средних значения должны быть округлены в меньшую сторону до ближайшего целого числа. Вернуть индекс с минимальной средней разницей. Если таких индексов несколько, вернуть наименьший из них.\n"
   ]
  },
  {
   "cell_type": "code",
   "execution_count": 29,
   "id": "6e93db45",
   "metadata": {},
   "outputs": [],
   "source": [
    "from typing import List\n",
    "\n",
    "\n",
    "class Solution:\n",
    "    def minimumAverageDifference(self, nums: List[int]) -> int:\n",
    "        sum_left, sum_right = 0, sum(nums)\n",
    "        min_sum = sum_right\n",
    "        ind = 0\n",
    "        for i in range(1, len(nums)):\n",
    "            sum_left += nums[i-1]\n",
    "            sum_right -= nums[i-1]\n",
    "            if min_sum>abs(sum_left//i-sum_right//(len(nums)-i)):\n",
    "                min_sum = abs(sum_left//i-sum_right//(len(nums)-i))\n",
    "                ind = i-1\n",
    "        if min_sum>abs(sum(nums)//len(nums)):\n",
    "            ind = len(nums)-1\n",
    "        return ind\n",
    "            \n",
    "    \n",
    "a = Solution()\n",
    "assert a.minimumAverageDifference(nums = [2,5,3,9,5,3]) == 3, \"Test 1\"\n",
    "assert a.minimumAverageDifference(nums = [0]) == 0, \"Test 2\"\n",
    "assert a.minimumAverageDifference(nums=[1,1,1,1,1]) == 0, \"Test 3\"\n",
    "assert a.minimumAverageDifference(nums=[4,2,0]) == 2, \"Test 4\""
   ]
  },
  {
   "cell_type": "markdown",
   "id": "648393b7",
   "metadata": {},
   "source": [
    "### Задача 3\n",
    "Описание: \n",
    "- url: https://leetcode.com/problems/merge-similar-items/description/\n",
    "- Даны два массива двумерных целых чисел, items1 и items2, представляющие два набора элементов. Каждый элемент массива имеет следующие свойства:\n",
    "    - items[i] = [valuei, weighti], где valuei представляет стоимость, а weighti представляет вес i-го элемента.\n",
    "    - Ценность каждого предмета в items уникальна.\n",
    "Вернуть двумерный целочисленный массив ret, где ret[i] = [value[i], weight[i]], где weight[i] представляет собой сумму весов всех элементов со значением value[i].\n",
    "\n",
    "Примечание: ret следует возвращать в порядке возрастания значения."
   ]
  },
  {
   "cell_type": "code",
   "execution_count": 30,
   "id": "ccefe38d",
   "metadata": {},
   "outputs": [],
   "source": [
    "from typing import List\n",
    "\n",
    "\n",
    "class Solution:\n",
    "    def mergeSimilarItems(self, items1: List[List[int]], items2: List[List[int]]) -> List[List[int]]:\n",
    "        \n",
    "        d1 = {\n",
    "            it[0]: it[1] for it in items1\n",
    "        }\n",
    "        \n",
    "        for it in items2:\n",
    "            if it[0] in d1.keys():\n",
    "                d1[it[0]] += it[1]\n",
    "            else:\n",
    "                d1[it[0]] = it[1]\n",
    "            \n",
    "        return sorted([[key, val] for key, val in d1.items()])\n",
    "    \n",
    "    \n",
    "a = Solution()\n",
    "assert a.mergeSimilarItems(items1 = [[1,1],[4,5],[3,8]], items2 = [[3,1],[1,5]]) == [[1,6],[3,9],[4,5]], \"Test 1\"\n",
    "assert a.mergeSimilarItems(items1 = [[1,1],[3,2],[2,3]], items2 = [[2,1],[3,2],[1,3]]) == [[1,4],[2,4],[3,4]], \"Test 2\"\n",
    "assert a.mergeSimilarItems(items1 = [[1,3],[2,2]], items2 = [[7,1],[2,2],[1,4]]) == [[1,7],[2,4],[7,1]], \"Test 3\""
   ]
  },
  {
   "cell_type": "markdown",
   "id": "933103c9",
   "metadata": {},
   "source": [
    "### Задача 4\n",
    "Описание: \n",
    "- url: https://leetcode.com/problems/climbing-stairs/description/\n",
    "- Вы поднимаетесь по лестнице. Требуется n шагов, чтобы добраться до вершины. Каждый раз вы можете подняться на 1 или 2 ступеньки. Сколькими различными способами вы можете подняться на вершину?"
   ]
  },
  {
   "cell_type": "code",
   "execution_count": 31,
   "id": "4a403d7c",
   "metadata": {},
   "outputs": [],
   "source": [
    "class Solution:\n",
    "    def climbStairs(self, n: int) -> int:\n",
    "        \n",
    "        left, right = 0, 1\n",
    "        for _ in range(n-1):\n",
    "            left, right = right, left+right\n",
    "        return left+right\n",
    "    \n",
    "    \n",
    "a = Solution()\n",
    "assert a.climbStairs(n = 2) == 2, \"Test 1\"\n",
    "assert a.climbStairs(n = 3) == 3, \"Test 2\"\n",
    "assert a.climbStairs(n = 4) == 5, \"Test 3\"\n",
    "assert a.climbStairs(n = 5) == 8, \"Test 4\""
   ]
  },
  {
   "cell_type": "code",
   "execution_count": null,
   "id": "1f06c1dc",
   "metadata": {},
   "outputs": [],
   "source": []
  },
  {
   "cell_type": "code",
   "execution_count": null,
   "id": "6099498c",
   "metadata": {},
   "outputs": [],
   "source": []
  },
  {
   "cell_type": "code",
   "execution_count": null,
   "id": "bca57662",
   "metadata": {},
   "outputs": [],
   "source": []
  },
  {
   "cell_type": "code",
   "execution_count": null,
   "id": "9325ce88",
   "metadata": {},
   "outputs": [],
   "source": []
  },
  {
   "cell_type": "code",
   "execution_count": null,
   "id": "567818f1",
   "metadata": {},
   "outputs": [],
   "source": []
  },
  {
   "cell_type": "code",
   "execution_count": null,
   "id": "838e2570",
   "metadata": {},
   "outputs": [],
   "source": []
  },
  {
   "cell_type": "code",
   "execution_count": null,
   "id": "f74c72d4",
   "metadata": {},
   "outputs": [],
   "source": []
  },
  {
   "cell_type": "code",
   "execution_count": null,
   "id": "b03c173d",
   "metadata": {},
   "outputs": [],
   "source": []
  },
  {
   "cell_type": "code",
   "execution_count": null,
   "id": "9d93f7a4",
   "metadata": {},
   "outputs": [],
   "source": []
  },
  {
   "cell_type": "code",
   "execution_count": null,
   "id": "cb3c7d0f",
   "metadata": {},
   "outputs": [],
   "source": []
  },
  {
   "cell_type": "code",
   "execution_count": null,
   "id": "e0a635b9",
   "metadata": {},
   "outputs": [],
   "source": []
  },
  {
   "cell_type": "code",
   "execution_count": null,
   "id": "77c72165",
   "metadata": {},
   "outputs": [],
   "source": []
  },
  {
   "cell_type": "code",
   "execution_count": null,
   "id": "1b646686",
   "metadata": {},
   "outputs": [],
   "source": []
  },
  {
   "cell_type": "code",
   "execution_count": null,
   "id": "418507b2",
   "metadata": {},
   "outputs": [],
   "source": []
  }
 ],
 "metadata": {
  "kernelspec": {
   "display_name": "Python 3",
   "language": "python",
   "name": "python3"
  },
  "language_info": {
   "codemirror_mode": {
    "name": "ipython",
    "version": 3
   },
   "file_extension": ".py",
   "mimetype": "text/x-python",
   "name": "python",
   "nbconvert_exporter": "python",
   "pygments_lexer": "ipython3",
   "version": "3.7.13"
  }
 },
 "nbformat": 4,
 "nbformat_minor": 5
}
