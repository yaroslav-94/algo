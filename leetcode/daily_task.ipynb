{
 "cells": [
  {
   "cell_type": "markdown",
   "id": "553ca9f7",
   "metadata": {},
   "source": [
    "### Задача 1\n",
    "Описание: \n",
    "- url: https://leetcode.com/problems/sort-characters-by-frequency/\n",
    "- Дана строка s, отсортируйте ее в порядке убывания частоты встречаемости символов. Частота символа — это количество раз, которое он появляется в строке. Вернуть отсортированную строку. Если ответов несколько, верните любой из них."
   ]
  },
  {
   "cell_type": "code",
   "execution_count": 1,
   "id": "30c04b33",
   "metadata": {},
   "outputs": [],
   "source": [
    "class Solution:\n",
    "    def frequencySort(self, s: str) -> str:\n",
    "        d = {}\n",
    "        for c in s:\n",
    "            if c not in d:\n",
    "                d[c] = 1\n",
    "            else:\n",
    "                d[c] += 1\n",
    "        \n",
    "        answer = ''\n",
    "        while d:\n",
    "            max_key = ''\n",
    "            max_val = 0\n",
    "            for key, val in d.items():\n",
    "                if max_val < val:\n",
    "                    max_key = key\n",
    "                    max_val = val\n",
    "            answer += max_key*max_val\n",
    "            d.pop(max_key)\n",
    "        return answer\n",
    "    \n",
    "    \n",
    "a = Solution()\n",
    "assert a.frequencySort(s = \"tree\") == \"eetr\", \"Test 1\"\n",
    "assert a.frequencySort(s = \"cccaaa\") == \"cccaaa\", \"Test 2\"\n",
    "assert a.frequencySort(s = \"Aabb\") == \"bbAa\", \"Test 3\""
   ]
  },
  {
   "cell_type": "markdown",
   "id": "0fd93145",
   "metadata": {},
   "source": [
    "### Задача 2\n",
    "Описание: \n",
    "- url: https://leetcode.com/problems/minimum-average-difference/description/\n",
    "- Дан целочисленный массив nums с нулевым индексом длины n. Средняя разница индекса i — это абсолютная разница между средним значением первых i + 1 элементов nums и средним значением последних n — i — 1 элементов. Оба средних значения должны быть округлены в меньшую сторону до ближайшего целого числа. Вернуть индекс с минимальной средней разницей. Если таких индексов несколько, вернуть наименьший из них.\n"
   ]
  },
  {
   "cell_type": "code",
   "execution_count": 2,
   "id": "6e93db45",
   "metadata": {},
   "outputs": [],
   "source": [
    "from typing import List\n",
    "\n",
    "\n",
    "class Solution:\n",
    "    def minimumAverageDifference(self, nums: List[int]) -> int:\n",
    "        sum_left, sum_right = 0, sum(nums)\n",
    "        min_sum = sum_right\n",
    "        ind = 0\n",
    "        for i in range(1, len(nums)):\n",
    "            sum_left += nums[i-1]\n",
    "            sum_right -= nums[i-1]\n",
    "            if min_sum>abs(sum_left//i-sum_right//(len(nums)-i)):\n",
    "                min_sum = abs(sum_left//i-sum_right//(len(nums)-i))\n",
    "                ind = i-1\n",
    "        if min_sum>abs(sum(nums)//len(nums)):\n",
    "            ind = len(nums)-1\n",
    "        return ind\n",
    "            \n",
    "    \n",
    "a = Solution()\n",
    "assert a.minimumAverageDifference(nums = [2,5,3,9,5,3]) == 3, \"Test 1\"\n",
    "assert a.minimumAverageDifference(nums = [0]) == 0, \"Test 2\"\n",
    "assert a.minimumAverageDifference(nums=[1,1,1,1,1]) == 0, \"Test 3\"\n",
    "assert a.minimumAverageDifference(nums=[4,2,0]) == 2, \"Test 4\""
   ]
  },
  {
   "cell_type": "code",
   "execution_count": null,
   "id": "d2e3d718",
   "metadata": {},
   "outputs": [],
   "source": []
  },
  {
   "cell_type": "code",
   "execution_count": null,
   "id": "a1e4b594",
   "metadata": {},
   "outputs": [],
   "source": []
  },
  {
   "cell_type": "code",
   "execution_count": null,
   "id": "01ff8798",
   "metadata": {},
   "outputs": [],
   "source": []
  },
  {
   "cell_type": "code",
   "execution_count": null,
   "id": "4a403d7c",
   "metadata": {},
   "outputs": [],
   "source": []
  },
  {
   "cell_type": "code",
   "execution_count": null,
   "id": "1f06c1dc",
   "metadata": {},
   "outputs": [],
   "source": []
  },
  {
   "cell_type": "code",
   "execution_count": null,
   "id": "6099498c",
   "metadata": {},
   "outputs": [],
   "source": []
  },
  {
   "cell_type": "code",
   "execution_count": null,
   "id": "bca57662",
   "metadata": {},
   "outputs": [],
   "source": []
  },
  {
   "cell_type": "code",
   "execution_count": null,
   "id": "9325ce88",
   "metadata": {},
   "outputs": [],
   "source": []
  },
  {
   "cell_type": "code",
   "execution_count": null,
   "id": "567818f1",
   "metadata": {},
   "outputs": [],
   "source": []
  },
  {
   "cell_type": "code",
   "execution_count": null,
   "id": "838e2570",
   "metadata": {},
   "outputs": [],
   "source": []
  }
 ],
 "metadata": {
  "kernelspec": {
   "display_name": "Python 3",
   "language": "python",
   "name": "python3"
  },
  "language_info": {
   "codemirror_mode": {
    "name": "ipython",
    "version": 3
   },
   "file_extension": ".py",
   "mimetype": "text/x-python",
   "name": "python",
   "nbconvert_exporter": "python",
   "pygments_lexer": "ipython3",
   "version": "3.7.13"
  }
 },
 "nbformat": 4,
 "nbformat_minor": 5
}
