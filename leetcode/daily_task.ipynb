{
 "cells": [
  {
   "cell_type": "markdown",
   "id": "553ca9f7",
   "metadata": {},
   "source": [
    "### Задача 1\n",
    "Описание: \n",
    "- url: https://leetcode.com/problems/sort-characters-by-frequency/\n",
    "- Дана строка s, отсортируйте ее в порядке убывания частоты встречаемости символов. Частота символа — это количество раз, которое он появляется в строке. Вернуть отсортированную строку. Если ответов несколько, верните любой из них."
   ]
  },
  {
   "cell_type": "code",
   "execution_count": 43,
   "id": "30c04b33",
   "metadata": {},
   "outputs": [],
   "source": [
    "class Solution:\n",
    "    def frequencySort(self, s: str) -> str:\n",
    "        d = {}\n",
    "        for c in s:\n",
    "            if c not in d:\n",
    "                d[c] = 1\n",
    "            else:\n",
    "                d[c] += 1\n",
    "        \n",
    "        answer = ''\n",
    "        while d:\n",
    "            max_key = ''\n",
    "            max_val = 0\n",
    "            for key, val in d.items():\n",
    "                if max_val < val:\n",
    "                    max_key = key\n",
    "                    max_val = val\n",
    "            answer += max_key*max_val\n",
    "            d.pop(max_key)\n",
    "        return answer\n",
    "    \n",
    "    \n",
    "a = Solution()\n",
    "assert a.frequencySort(s = \"tree\") == \"eetr\", \"Test 1\"\n",
    "assert a.frequencySort(s = \"cccaaa\") == \"cccaaa\", \"Test 2\"\n",
    "assert a.frequencySort(s = \"Aabb\") == \"bbAa\", \"Test 3\""
   ]
  },
  {
   "cell_type": "markdown",
   "id": "0fd93145",
   "metadata": {},
   "source": [
    "### Задача 2\n",
    "Описание: \n",
    "- url: https://leetcode.com/problems/minimum-average-difference/description/\n",
    "- Дан целочисленный массив nums с нулевым индексом длины n. Средняя разница индекса i — это абсолютная разница между средним значением первых i + 1 элементов nums и средним значением последних n — i — 1 элементов. Оба средних значения должны быть округлены в меньшую сторону до ближайшего целого числа. Вернуть индекс с минимальной средней разницей. Если таких индексов несколько, вернуть наименьший из них.\n"
   ]
  },
  {
   "cell_type": "code",
   "execution_count": 44,
   "id": "6e93db45",
   "metadata": {},
   "outputs": [],
   "source": [
    "from typing import List\n",
    "\n",
    "\n",
    "class Solution:\n",
    "    def minimumAverageDifference(self, nums: List[int]) -> int:\n",
    "        sum_left, sum_right = 0, sum(nums)\n",
    "        min_sum = sum_right\n",
    "        ind = 0\n",
    "        for i in range(1, len(nums)):\n",
    "            sum_left += nums[i-1]\n",
    "            sum_right -= nums[i-1]\n",
    "            if min_sum>abs(sum_left//i-sum_right//(len(nums)-i)):\n",
    "                min_sum = abs(sum_left//i-sum_right//(len(nums)-i))\n",
    "                ind = i-1\n",
    "        if min_sum>abs(sum(nums)//len(nums)):\n",
    "            ind = len(nums)-1\n",
    "        return ind\n",
    "            \n",
    "    \n",
    "a = Solution()\n",
    "assert a.minimumAverageDifference(nums = [2,5,3,9,5,3]) == 3, \"Test 1\"\n",
    "assert a.minimumAverageDifference(nums = [0]) == 0, \"Test 2\"\n",
    "assert a.minimumAverageDifference(nums=[1,1,1,1,1]) == 0, \"Test 3\"\n",
    "assert a.minimumAverageDifference(nums=[4,2,0]) == 2, \"Test 4\""
   ]
  },
  {
   "cell_type": "markdown",
   "id": "648393b7",
   "metadata": {},
   "source": [
    "### Задача 3\n",
    "Описание: \n",
    "- url: https://leetcode.com/problems/merge-similar-items/description/\n",
    "- Даны два массива двумерных целых чисел, items1 и items2, представляющие два набора элементов. Каждый элемент массива имеет следующие свойства:\n",
    "    - items[i] = [valuei, weighti], где valuei представляет стоимость, а weighti представляет вес i-го элемента.\n",
    "    - Ценность каждого предмета в items уникальна.\n",
    "Вернуть двумерный целочисленный массив ret, где ret[i] = [value[i], weight[i]], где weight[i] представляет собой сумму весов всех элементов со значением value[i].\n",
    "\n",
    "Примечание: ret следует возвращать в порядке возрастания значения."
   ]
  },
  {
   "cell_type": "code",
   "execution_count": 45,
   "id": "ccefe38d",
   "metadata": {},
   "outputs": [],
   "source": [
    "from typing import List\n",
    "\n",
    "\n",
    "class Solution:\n",
    "    def mergeSimilarItems(self, items1: List[List[int]], items2: List[List[int]]) -> List[List[int]]:\n",
    "        \n",
    "        d1 = {\n",
    "            it[0]: it[1] for it in items1\n",
    "        }\n",
    "        \n",
    "        for it in items2:\n",
    "            if it[0] in d1.keys():\n",
    "                d1[it[0]] += it[1]\n",
    "            else:\n",
    "                d1[it[0]] = it[1]\n",
    "            \n",
    "        return sorted([[key, val] for key, val in d1.items()])\n",
    "    \n",
    "    \n",
    "a = Solution()\n",
    "assert a.mergeSimilarItems(items1 = [[1,1],[4,5],[3,8]], items2 = [[3,1],[1,5]]) == [[1,6],[3,9],[4,5]], \"Test 1\"\n",
    "assert a.mergeSimilarItems(items1 = [[1,1],[3,2],[2,3]], items2 = [[2,1],[3,2],[1,3]]) == [[1,4],[2,4],[3,4]], \"Test 2\"\n",
    "assert a.mergeSimilarItems(items1 = [[1,3],[2,2]], items2 = [[7,1],[2,2],[1,4]]) == [[1,7],[2,4],[7,1]], \"Test 3\""
   ]
  },
  {
   "cell_type": "markdown",
   "id": "933103c9",
   "metadata": {},
   "source": [
    "### Задача 4\n",
    "Описание: \n",
    "- url: https://leetcode.com/problems/climbing-stairs/description/\n",
    "- Вы поднимаетесь по лестнице. Требуется n шагов, чтобы добраться до вершины. Каждый раз вы можете подняться на 1 или 2 ступеньки. Сколькими различными способами вы можете подняться на вершину?"
   ]
  },
  {
   "cell_type": "code",
   "execution_count": 46,
   "id": "4a403d7c",
   "metadata": {},
   "outputs": [],
   "source": [
    "class Solution:\n",
    "    def climbStairs(self, n: int) -> int:\n",
    "        \n",
    "        left, right = 0, 1\n",
    "        for _ in range(n-1):\n",
    "            left, right = right, left+right\n",
    "        return left+right\n",
    "    \n",
    "    \n",
    "a = Solution()\n",
    "assert a.climbStairs(n = 2) == 2, \"Test 1\"\n",
    "assert a.climbStairs(n = 3) == 3, \"Test 2\"\n",
    "assert a.climbStairs(n = 4) == 5, \"Test 3\"\n",
    "assert a.climbStairs(n = 5) == 8, \"Test 4\""
   ]
  },
  {
   "cell_type": "markdown",
   "id": "65fd1229",
   "metadata": {},
   "source": [
    "### Задача 5\n",
    "Описание: \n",
    "- url: https://leetcode.com/problems/longest-subsequence-with-limited-sum/\n",
    "- Дан целочисленный массив nums длины n и целочисленный массив запросов длины m. Вернуть ответ в виде массива длины m, где answer[i] — это максимальный размер подпоследовательности, которую вы можете взять из nums так, чтобы сумма ее элементов была меньше или равна query[i]. Подпоследовательность — это массив, который может быть получен из другого массива путем удаления некоторых элементов или их отсутствия без изменения порядка оставшихся элементов."
   ]
  },
  {
   "cell_type": "code",
   "execution_count": 47,
   "id": "6099498c",
   "metadata": {},
   "outputs": [],
   "source": [
    "from typing import List\n",
    "\n",
    "\n",
    "class Solution:\n",
    "    def answerQueries(self, nums: List[int], queries: List[int]) -> List[int]:\n",
    "        nums.sort()\n",
    "        answer = []\n",
    "        for i in queries:\n",
    "            j = 0\n",
    "            while j<len(nums) and nums[j]<=i:\n",
    "                i -= nums[j]\n",
    "                j += 1\n",
    "            answer.append(j)\n",
    "        return answer\n",
    "\n",
    "            \n",
    "a = Solution()\n",
    "assert a.answerQueries(nums = [4,5,2,1], queries = [3,10,21]) == [2,3,4], \"Test 1\"\n",
    "assert a.answerQueries(nums = [2,3,4,5], queries = [1]) == [0], \"Test 2\""
   ]
  },
  {
   "cell_type": "markdown",
   "id": "65dfcdbf",
   "metadata": {},
   "source": [
    "### Задача 6\n",
    "Описание: \n",
    "- url: https://leetcode.com/problems/word-pattern/\n",
    "- Дан pattern и строка s. Нужно проверить - представима ли строка в таком же паттерне"
   ]
  },
  {
   "cell_type": "code",
   "execution_count": 48,
   "id": "9325ce88",
   "metadata": {},
   "outputs": [],
   "source": [
    "class Solution:\n",
    "    def wordPattern(self, pattern: str, s: str) -> bool:\n",
    "        s_patt = s.split(' ')\n",
    "        if len(pattern) != len(s_patt) or len(set(pattern)) != len(set(s_patt)):\n",
    "            return False\n",
    "        return len(set(zip(pattern, s_patt))) == len(set(pattern))\n",
    "   \n",
    "        \n",
    "a = Solution()\n",
    "assert a.wordPattern(pattern = \"abba\", s = \"dog cat cat dog\") == True, \"Test 1\"\n",
    "assert a.wordPattern(pattern = \"abba\", s = \"dog cat cat fish\") == False, \"Test 2\"\n",
    "assert a.wordPattern(pattern = \"aaaa\", s = \"dog cat cat dog\") == False, \"Test 3\"\n",
    "assert a.wordPattern(pattern = \"abc\", s = \"b c a\") == True, \"Test 4\"\n",
    "assert a.wordPattern(pattern = \"ab\", s = \"happy hacking\") == True, \"Test 5\""
   ]
  },
  {
   "cell_type": "markdown",
   "id": "4902eebd",
   "metadata": {},
   "source": [
    "### Задача 7\n",
    "Описание: \n",
    "- url: https://leetcode.com/problems/detect-capital/\n",
    "- Мы определяем правильное использование заглавной буквы по ледующим правилам:\n",
    "    - Все слово из заглавных букв\n",
    "    - Все слово из строчных букв\n",
    "    - Только первая буква заглавная\n",
    "Дана строка word. Вернуть True если заглавные буквы использованы верно"
   ]
  },
  {
   "cell_type": "code",
   "execution_count": 49,
   "id": "838e2570",
   "metadata": {},
   "outputs": [],
   "source": [
    "class Solution:\n",
    "    def detectCapitalUse(self, word: str) -> bool:\n",
    "        count_cap = 0\n",
    "        index_first = -1\n",
    "        for i in range(len(word)):\n",
    "            if word[i] == word[i].capitalize():\n",
    "                count_cap += 1\n",
    "                if index_first == -1:\n",
    "                    index_first = i\n",
    "        if index_first>0:\n",
    "            return False\n",
    "        elif index_first == 0 and count_cap==1:\n",
    "            return True\n",
    "        if len(word) == count_cap:\n",
    "            return True\n",
    "        return count_cap == 0\n",
    "    \n",
    "    \n",
    "a = Solution()\n",
    "assert a.detectCapitalUse(word = \"USA\") == True, \"Test 1\"\n",
    "assert a.detectCapitalUse(word = \"FlaG\") == False, \"Test 2\"\n",
    "assert a.detectCapitalUse(word = \"leetcode\") == True, \"Test 3\"\n",
    "assert a.detectCapitalUse(word = \"Google\") == True, \"Test 4\"\n",
    "assert a.detectCapitalUse(word = \"qfgY\") == False, \"Test 5\""
   ]
  },
  {
   "cell_type": "markdown",
   "id": "af543aea",
   "metadata": {},
   "source": [
    "### Задача 8\n",
    "Описание: \n",
    "- url: https://leetcode.com/problems/delete-columns-to-make-sorted/\n",
    "- Дан массив из n строк strs одинаковой длины. Строки можно расположить друг на другом в виде матрицы. Вы хотите удалить в матрице столбцы, которые не отсортированы в лексикографическом порядке. Верните количество столбцов, которые нужно удалить"
   ]
  },
  {
   "cell_type": "code",
   "execution_count": 50,
   "id": "b03c173d",
   "metadata": {},
   "outputs": [],
   "source": [
    "from typing import List\n",
    "\n",
    "\n",
    "class Solution:\n",
    "    def minDeletionSize(self, strs: List[str]) -> int:\n",
    "        answer = 0\n",
    "        for ind in range(len(strs[0])):\n",
    "            symb = [a[ind] for a in strs]\n",
    "            if symb != sorted(symb):\n",
    "                answer += 1\n",
    "        return answer\n",
    "    \n",
    "    \n",
    "a = Solution()\n",
    "assert a.minDeletionSize(strs = [\"cba\",\"daf\",\"ghi\"]) == 1, \"Test 1\"\n",
    "assert a.minDeletionSize(strs = [\"a\",\"b\"]) == 0, \"Test 2\"\n",
    "assert a.minDeletionSize(strs = [\"zyx\",\"wvu\",\"tsr\"]) == 3, \"Test 3\""
   ]
  },
  {
   "cell_type": "markdown",
   "id": "19676950",
   "metadata": {},
   "source": [
    "### Задача 9\n",
    "Описание: \n",
    "- url: https://leetcode.com/problems/odd-string-difference/\n",
    "- Дан массив слов из строк одинаковой длины. Предположим, что длина каждой строки равна n. Каждая строка words[i] может быть преобразована в массив разностных целых чисел difference[i] длины n - 1, где difference[i][j] = words[i][j+1] - words[i][j], где 0 <= j <= n - 2. Обратите внимание, что разница между двумя буквами — это разница между их позициями в алфавите, т. е. позиция «a» равна 0, «b» равна 1, а «z» равна 25.\n",
    "\n",
    "Например, для строки «acb» разностный целочисленный массив равен [2 - 0, 1 - 2] = [2, -1].\n",
    "Все строки в словах имеют одинаковый целочисленный массив разностей, кроме одной. Вы должны найти эту строку.\n",
    "\n",
    "Вернуть строку в словах, которая имеет другой разностный целочисленный массив."
   ]
  },
  {
   "cell_type": "code",
   "execution_count": 51,
   "id": "9d93f7a4",
   "metadata": {},
   "outputs": [],
   "source": [
    "from typing import List\n",
    "\n",
    "\n",
    "class Solution:\n",
    "    def oddString(self, words: List[str]) -> str:\n",
    "        d_raz = {}\n",
    "        for w in words:\n",
    "            arr = []\n",
    "            for j in range(len(words[0])-1):\n",
    "                arr.append(ord(w[j+1])-ord(w[j]))\n",
    "            arr = ' '.join(str(i) for i in arr)\n",
    "            if arr not in d_raz:\n",
    "                d_raz[arr] = [w]\n",
    "            else:\n",
    "                d_raz[arr].append(w)\n",
    "        for key, item in d_raz.items():\n",
    "            if len(item) == 1:\n",
    "                return item[0]\n",
    "    \n",
    "    \n",
    "a = Solution()\n",
    "assert a.oddString(words = [\"adc\",\"wzy\",\"abc\"]) == \"abc\", \"Test 1\"\n",
    "assert a.oddString(words = [\"aaa\",\"bob\",\"ccc\",\"ddd\"]) == \"bob\", \"Test 2\"\n",
    "assert a.oddString(words = [\"aa\",\"aa\",\"ab\"]) == \"ab\", \"Test 3\"\n",
    "assert a.oddString(words = [\"abm\",\"bcn\",\"alm\"]) == \"alm\", \"Test 4\"\n"
   ]
  },
  {
   "cell_type": "markdown",
   "id": "27c1113f",
   "metadata": {},
   "source": [
    "### Задача 10 (medium)\n",
    "Описание: \n",
    "- url: https://leetcode.com/problems/minimum-rounds-to-complete-all-tasks/\n",
    "- Дан массив tasks, в котором tasks[i] обозначает уровень сложности задачи. В каждом раунде вы можете выполнить 2 или 3 задания одинаковой сложности. Вернуть минимум раундов, за которые можно выполнить все задачи, или -1 в противном случае"
   ]
  },
  {
   "cell_type": "code",
   "execution_count": 52,
   "id": "77c72165",
   "metadata": {},
   "outputs": [],
   "source": [
    "class Solution:\n",
    "    def minimumRounds(self, tasks: List[int]) -> int:\n",
    "        answer = 0\n",
    "        uniq_dif = {}\n",
    "        \n",
    "        for i in tasks:\n",
    "            if i not in uniq_dif:\n",
    "                uniq_dif[i] = 1\n",
    "            else:\n",
    "                uniq_dif[i] += 1\n",
    "        \n",
    "        for key, val in uniq_dif.items():\n",
    "            if val == 1:\n",
    "                return -1\n",
    "            if val%3 == 0:\n",
    "                answer += val//3\n",
    "            else:\n",
    "                answer += val//3 + 1\n",
    "                \n",
    "        return answer\n",
    "    \n",
    "    \n",
    "a = Solution()\n",
    "assert a.minimumRounds(tasks = [2,2,3,3,2,4,4,4,4,4]) == 4, \"Test 1\"\n",
    "assert a.minimumRounds(tasks = [2,3,3]) == -1, \"Test 2\""
   ]
  },
  {
   "cell_type": "markdown",
   "id": "8548da74",
   "metadata": {},
   "source": [
    "### Задача 11 (medium)\n",
    "Описание: \n",
    "- url: https://leetcode.com/problems/minimum-number-of-arrows-to-burst-balloons/\n",
    "- На плоской стене, изображающей плоскость XY, приклеены несколько сферических воздушных шаров. Воздушные шары представлены в виде двухмерного целочисленного массива точек, где points[i] = [xstart, xend] обозначает воздушный шар, горизонтальный диаметр которого простирается между xstart и xend. Вы не знаете точные координаты y воздушных шаров. Стрелы могут стрелять вертикально (в положительном направлении y) из разных точек вдоль оси x. Воздушный шар с xstart и xend лопается от стрелы, выпущенной в x, если xstart <= x <= xend. Количество стрел, которые можно выпустить, не ограничено. Выпущенная стрела продолжает бесконечно лететь вверх, разрывая все воздушные шары на своем пути. Даны координаты шаров в массиве, вернуть минимальное количество стрел, которое нужно пустить, чтобы взорвать все воздушные шары."
   ]
  },
  {
   "cell_type": "code",
   "execution_count": 53,
   "id": "418507b2",
   "metadata": {},
   "outputs": [],
   "source": [
    "from typing import List\n",
    "  \n",
    "    \n",
    "class Solution:\n",
    "    def findMinArrowShots(self, points: List[List[int]]) -> int:\n",
    "        points.sort(key=lambda x: x[1])\n",
    "        answer = 1\n",
    "        index = 1\n",
    "        right = points[0][1]\n",
    "        \n",
    "        while index<len(points):\n",
    "            if points[index][0]<=right<=points[index][1]:\n",
    "                index += 1\n",
    "            else:\n",
    "                right = points[index][1]\n",
    "                answer += 1\n",
    "                index += 1\n",
    "            \n",
    "        return answer\n",
    "    \n",
    "a = Solution()\n",
    "assert a.findMinArrowShots(points = [[10,16],[2,8],[1,6],[7,12]]) == 2, \"Test 1\"\n",
    "assert a.findMinArrowShots(points = [[1,2],[3,4],[5,6],[7,8]]) == 4, \"Test 2\"\n",
    "assert a.findMinArrowShots(points = [[1,2],[2,3],[3,4],[4,5]]) == 2, \"Test 3\"\n",
    "assert a.findMinArrowShots(points = [[9,12],[1,10],[4,11],[8,12],[3,9],[6,9],[6,7]]) == 2, \"Test 4\""
   ]
  },
  {
   "cell_type": "code",
   "execution_count": null,
   "id": "2b64bb82",
   "metadata": {},
   "outputs": [],
   "source": []
  },
  {
   "cell_type": "code",
   "execution_count": null,
   "id": "7c93dbbc",
   "metadata": {},
   "outputs": [],
   "source": []
  },
  {
   "cell_type": "code",
   "execution_count": null,
   "id": "8a7eef9a",
   "metadata": {},
   "outputs": [],
   "source": []
  },
  {
   "cell_type": "code",
   "execution_count": null,
   "id": "aa774359",
   "metadata": {},
   "outputs": [],
   "source": []
  },
  {
   "cell_type": "code",
   "execution_count": null,
   "id": "d78b0fa5",
   "metadata": {},
   "outputs": [],
   "source": []
  },
  {
   "cell_type": "code",
   "execution_count": null,
   "id": "b8e80fcf",
   "metadata": {},
   "outputs": [],
   "source": []
  },
  {
   "cell_type": "code",
   "execution_count": null,
   "id": "353af672",
   "metadata": {},
   "outputs": [],
   "source": []
  },
  {
   "cell_type": "code",
   "execution_count": null,
   "id": "fe36d7d6",
   "metadata": {},
   "outputs": [],
   "source": []
  },
  {
   "cell_type": "code",
   "execution_count": null,
   "id": "23a9b040",
   "metadata": {},
   "outputs": [],
   "source": []
  },
  {
   "cell_type": "code",
   "execution_count": null,
   "id": "94b4ea32",
   "metadata": {},
   "outputs": [],
   "source": []
  },
  {
   "cell_type": "code",
   "execution_count": null,
   "id": "99c72a18",
   "metadata": {},
   "outputs": [],
   "source": []
  },
  {
   "cell_type": "code",
   "execution_count": null,
   "id": "6f67e66e",
   "metadata": {},
   "outputs": [],
   "source": []
  },
  {
   "cell_type": "code",
   "execution_count": null,
   "id": "ca0d75d9",
   "metadata": {},
   "outputs": [],
   "source": []
  },
  {
   "cell_type": "code",
   "execution_count": null,
   "id": "9acfdcae",
   "metadata": {},
   "outputs": [],
   "source": []
  },
  {
   "cell_type": "code",
   "execution_count": null,
   "id": "545a4e96",
   "metadata": {},
   "outputs": [],
   "source": []
  },
  {
   "cell_type": "code",
   "execution_count": null,
   "id": "246bcb53",
   "metadata": {},
   "outputs": [],
   "source": []
  },
  {
   "cell_type": "code",
   "execution_count": null,
   "id": "57588162",
   "metadata": {},
   "outputs": [],
   "source": []
  },
  {
   "cell_type": "code",
   "execution_count": null,
   "id": "d551e429",
   "metadata": {},
   "outputs": [],
   "source": []
  },
  {
   "cell_type": "code",
   "execution_count": null,
   "id": "779a661e",
   "metadata": {},
   "outputs": [],
   "source": []
  },
  {
   "cell_type": "code",
   "execution_count": null,
   "id": "38bfe80e",
   "metadata": {},
   "outputs": [],
   "source": []
  },
  {
   "cell_type": "code",
   "execution_count": null,
   "id": "18de459f",
   "metadata": {},
   "outputs": [],
   "source": []
  },
  {
   "cell_type": "code",
   "execution_count": null,
   "id": "1c318b49",
   "metadata": {},
   "outputs": [],
   "source": []
  },
  {
   "cell_type": "code",
   "execution_count": null,
   "id": "2eaeebb3",
   "metadata": {},
   "outputs": [],
   "source": []
  },
  {
   "cell_type": "code",
   "execution_count": null,
   "id": "f1192df6",
   "metadata": {},
   "outputs": [],
   "source": []
  },
  {
   "cell_type": "code",
   "execution_count": null,
   "id": "fbcf6968",
   "metadata": {},
   "outputs": [],
   "source": []
  },
  {
   "cell_type": "code",
   "execution_count": null,
   "id": "140e55eb",
   "metadata": {},
   "outputs": [],
   "source": []
  },
  {
   "cell_type": "code",
   "execution_count": null,
   "id": "fac53e03",
   "metadata": {},
   "outputs": [],
   "source": []
  },
  {
   "cell_type": "code",
   "execution_count": null,
   "id": "2357aa47",
   "metadata": {},
   "outputs": [],
   "source": []
  },
  {
   "cell_type": "code",
   "execution_count": null,
   "id": "9f2f1c5b",
   "metadata": {},
   "outputs": [],
   "source": []
  }
 ],
 "metadata": {
  "kernelspec": {
   "display_name": "Python 3",
   "language": "python",
   "name": "python3"
  },
  "language_info": {
   "codemirror_mode": {
    "name": "ipython",
    "version": 3
   },
   "file_extension": ".py",
   "mimetype": "text/x-python",
   "name": "python",
   "nbconvert_exporter": "python",
   "pygments_lexer": "ipython3",
   "version": "3.7.13"
  }
 },
 "nbformat": 4,
 "nbformat_minor": 5
}
