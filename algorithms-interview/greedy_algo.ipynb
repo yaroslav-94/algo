{
 "cells": [
  {
   "cell_type": "code",
   "execution_count": null,
   "id": "46770293",
   "metadata": {},
   "outputs": [],
   "source": []
  },
  {
   "cell_type": "markdown",
   "id": "cc36de9f",
   "metadata": {},
   "source": [
    "### Задача 1\n",
    "Описание: \n",
    "- url: https://leetcode.com/problems/maximum-69-number/\n",
    "- Дано число num из 9 и 6. Вернуть максимальное число, которое получается заменой 6 на 9 один раз."
   ]
  },
  {
   "cell_type": "code",
   "execution_count": 25,
   "id": "df943f49",
   "metadata": {},
   "outputs": [],
   "source": [
    "class Solution:\n",
    "    def maximum69Number (self, num: int) -> int:\n",
    "        arr = []\n",
    "        while num:\n",
    "            arr.append(num%10)\n",
    "            num = num//10\n",
    "        arr = arr[::-1]\n",
    "        for i in range(len(arr)):\n",
    "            if arr[i] == 6:\n",
    "                arr[i] = 9\n",
    "                break\n",
    "        return int(''.join(str(i) for i in arr))\n",
    "    \n",
    "    \n",
    "a = Solution()\n",
    "assert a.maximum69Number(9669) == 9969, \"Test 1\"\n",
    "assert a.maximum69Number(9996) == 9999, \"Test 2\"\n",
    "assert a.maximum69Number(9999) == 9999, \"Test 3\"\n",
    "assert a.maximum69Number(669) == 969, \"Test 4\""
   ]
  },
  {
   "cell_type": "code",
   "execution_count": null,
   "id": "eec88c8b",
   "metadata": {},
   "outputs": [],
   "source": []
  },
  {
   "cell_type": "markdown",
   "id": "690bd695",
   "metadata": {},
   "source": [
    "### Задача 2 (medium)\n",
    "Описание: \n",
    "- url: https://leetcode.com/problems/max-increase-to-keep-city-skyline/\n",
    "- Есть город, состоящий из n x n блоков, где каждый блок содержит одно здание в форме вертикальной квадратного столбца. Дана целочисленная матричная сетка размера n x n с индексом 0, где grid[r][c] представляет собой высоту здания, расположенного в блоке в строке r и столбце c.\n",
    "\n",
    "Горизонт города - это внешний контур, образованный всем зданием, если смотреть на город с расстояния. Горизонт с каждой стороны света на север, восток, юг и запад может быть разным.\n",
    "\n",
    "Разрешено увеличивать высоту любого количества зданий на любую величину (количество может быть разным для каждого здания). Высота здания нулевой высоты также может быть увеличена. Однако увеличение высоты здания не должно влиять на горизонт города ни с какой стороны света.\n",
    "\n",
    "Вернуть максимальную общую сумму, на которую можно увеличить высоту зданий, не меняя линию горизонта города со всех сторон света."
   ]
  },
  {
   "cell_type": "code",
   "execution_count": 26,
   "id": "6d3c41a7",
   "metadata": {},
   "outputs": [],
   "source": [
    "from typing import List\n",
    "\n",
    "\n",
    "class Solution:\n",
    "    def maxIncreaseKeepingSkyline(self, grid: List[List[int]]) -> int:\n",
    "        answer = 0\n",
    "        new_arr = []\n",
    "        for i in range(len(grid)):\n",
    "            for j in range(len(grid)):\n",
    "                min_max = min(max(grid[i]), max([row[j] for row in grid]))\n",
    "                if grid[i][j]<min_max:\n",
    "                    answer += min_max-grid[i][j]\n",
    "        return answer\n",
    "    \n",
    "    \n",
    "a = Solution()\n",
    "assert a.maxIncreaseKeepingSkyline(grid = [[3,0,8,4],[2,4,5,7],[9,2,6,3],[0,3,1,0]]) == 35, \"Test1 \"\n",
    "assert a.maxIncreaseKeepingSkyline(grid = [[0,0,0],[0,0,0],[0,0,0]]) == 0, \"Test 2\""
   ]
  },
  {
   "cell_type": "code",
   "execution_count": null,
   "id": "574d56d3",
   "metadata": {},
   "outputs": [],
   "source": []
  },
  {
   "cell_type": "code",
   "execution_count": null,
   "id": "403925c1",
   "metadata": {},
   "outputs": [],
   "source": [
    "     "
   ]
  },
  {
   "cell_type": "code",
   "execution_count": null,
   "id": "f7d4ad60",
   "metadata": {},
   "outputs": [],
   "source": []
  },
  {
   "cell_type": "code",
   "execution_count": null,
   "id": "7d98770e",
   "metadata": {},
   "outputs": [],
   "source": []
  },
  {
   "cell_type": "code",
   "execution_count": null,
   "id": "cc4c1238",
   "metadata": {},
   "outputs": [],
   "source": []
  },
  {
   "cell_type": "code",
   "execution_count": null,
   "id": "292cbcec",
   "metadata": {},
   "outputs": [],
   "source": []
  },
  {
   "cell_type": "code",
   "execution_count": null,
   "id": "07f048c5",
   "metadata": {},
   "outputs": [],
   "source": []
  },
  {
   "cell_type": "code",
   "execution_count": null,
   "id": "ce75326e",
   "metadata": {},
   "outputs": [],
   "source": []
  },
  {
   "cell_type": "code",
   "execution_count": null,
   "id": "5b5b8b81",
   "metadata": {},
   "outputs": [],
   "source": []
  },
  {
   "cell_type": "code",
   "execution_count": null,
   "id": "a6de281a",
   "metadata": {},
   "outputs": [],
   "source": []
  },
  {
   "cell_type": "code",
   "execution_count": null,
   "id": "1f65b7e7",
   "metadata": {},
   "outputs": [],
   "source": []
  },
  {
   "cell_type": "code",
   "execution_count": null,
   "id": "b5ab56f6",
   "metadata": {},
   "outputs": [],
   "source": []
  },
  {
   "cell_type": "code",
   "execution_count": null,
   "id": "9b9f0284",
   "metadata": {},
   "outputs": [],
   "source": []
  },
  {
   "cell_type": "code",
   "execution_count": null,
   "id": "b7fb1796",
   "metadata": {},
   "outputs": [],
   "source": []
  }
 ],
 "metadata": {
  "kernelspec": {
   "display_name": "Python 3",
   "language": "python",
   "name": "python3"
  },
  "language_info": {
   "codemirror_mode": {
    "name": "ipython",
    "version": 3
   },
   "file_extension": ".py",
   "mimetype": "text/x-python",
   "name": "python",
   "nbconvert_exporter": "python",
   "pygments_lexer": "ipython3",
   "version": "3.7.13"
  }
 },
 "nbformat": 4,
 "nbformat_minor": 5
}
