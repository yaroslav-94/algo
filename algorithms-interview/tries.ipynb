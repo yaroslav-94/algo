{
 "cells": [
  {
   "cell_type": "code",
   "execution_count": null,
   "id": "231d4922",
   "metadata": {},
   "outputs": [],
   "source": []
  },
  {
   "cell_type": "markdown",
   "id": "83c4b911",
   "metadata": {},
   "source": [
    "### Задача 1\n",
    "Описание: \n",
    "- url: https://leetcode.com/problems/binary-tree-preorder-traversal/\n",
    "- Дан корень бинарного дерева, вернуть обходные значения всех его узлов\n"
   ]
  },
  {
   "cell_type": "code",
   "execution_count": 1,
   "id": "66bfb2ab",
   "metadata": {},
   "outputs": [
    {
     "ename": "NameError",
     "evalue": "name 'TreeNode' is not defined",
     "output_type": "error",
     "traceback": [
      "\u001b[1;31m---------------------------------------------------------------------------\u001b[0m",
      "\u001b[1;31mNameError\u001b[0m                                 Traceback (most recent call last)",
      "\u001b[1;32m<ipython-input-1-b2c7e81a73db>\u001b[0m in \u001b[0;36m<module>\u001b[1;34m\u001b[0m\n\u001b[0;32m      7\u001b[0m \u001b[1;33m\u001b[0m\u001b[0m\n\u001b[0;32m      8\u001b[0m \u001b[1;33m\u001b[0m\u001b[0m\n\u001b[1;32m----> 9\u001b[1;33m \u001b[1;32mclass\u001b[0m \u001b[0mSolution\u001b[0m\u001b[1;33m:\u001b[0m\u001b[1;33m\u001b[0m\u001b[1;33m\u001b[0m\u001b[0m\n\u001b[0m\u001b[0;32m     10\u001b[0m     \u001b[1;32mdef\u001b[0m \u001b[0mpreorderTraversal\u001b[0m\u001b[1;33m(\u001b[0m\u001b[0mself\u001b[0m\u001b[1;33m,\u001b[0m \u001b[0mroot\u001b[0m\u001b[1;33m:\u001b[0m \u001b[0mTreeNode\u001b[0m\u001b[1;33m)\u001b[0m \u001b[1;33m->\u001b[0m \u001b[0mList\u001b[0m\u001b[1;33m[\u001b[0m\u001b[0mint\u001b[0m\u001b[1;33m]\u001b[0m\u001b[1;33m:\u001b[0m\u001b[1;33m\u001b[0m\u001b[1;33m\u001b[0m\u001b[0m\n\u001b[0;32m     11\u001b[0m         \u001b[1;32mdef\u001b[0m \u001b[0mdfs\u001b[0m\u001b[1;33m(\u001b[0m\u001b[0mroot\u001b[0m\u001b[1;33m,\u001b[0m \u001b[0mres\u001b[0m\u001b[1;33m)\u001b[0m\u001b[1;33m:\u001b[0m\u001b[1;33m\u001b[0m\u001b[1;33m\u001b[0m\u001b[0m\n",
      "\u001b[1;32m<ipython-input-1-b2c7e81a73db>\u001b[0m in \u001b[0;36mSolution\u001b[1;34m()\u001b[0m\n\u001b[0;32m      8\u001b[0m \u001b[1;33m\u001b[0m\u001b[0m\n\u001b[0;32m      9\u001b[0m \u001b[1;32mclass\u001b[0m \u001b[0mSolution\u001b[0m\u001b[1;33m:\u001b[0m\u001b[1;33m\u001b[0m\u001b[1;33m\u001b[0m\u001b[0m\n\u001b[1;32m---> 10\u001b[1;33m     \u001b[1;32mdef\u001b[0m \u001b[0mpreorderTraversal\u001b[0m\u001b[1;33m(\u001b[0m\u001b[0mself\u001b[0m\u001b[1;33m,\u001b[0m \u001b[0mroot\u001b[0m\u001b[1;33m:\u001b[0m \u001b[0mTreeNode\u001b[0m\u001b[1;33m)\u001b[0m \u001b[1;33m->\u001b[0m \u001b[0mList\u001b[0m\u001b[1;33m[\u001b[0m\u001b[0mint\u001b[0m\u001b[1;33m]\u001b[0m\u001b[1;33m:\u001b[0m\u001b[1;33m\u001b[0m\u001b[1;33m\u001b[0m\u001b[0m\n\u001b[0m\u001b[0;32m     11\u001b[0m         \u001b[1;32mdef\u001b[0m \u001b[0mdfs\u001b[0m\u001b[1;33m(\u001b[0m\u001b[0mroot\u001b[0m\u001b[1;33m,\u001b[0m \u001b[0mres\u001b[0m\u001b[1;33m)\u001b[0m\u001b[1;33m:\u001b[0m\u001b[1;33m\u001b[0m\u001b[1;33m\u001b[0m\u001b[0m\n\u001b[0;32m     12\u001b[0m             \u001b[1;32mif\u001b[0m \u001b[1;32mnot\u001b[0m \u001b[0mroot\u001b[0m\u001b[1;33m:\u001b[0m\u001b[1;33m\u001b[0m\u001b[1;33m\u001b[0m\u001b[0m\n",
      "\u001b[1;31mNameError\u001b[0m: name 'TreeNode' is not defined"
     ]
    }
   ],
   "source": [
    "# Definition for a binary tree node.\n",
    "# class TreeNode:\n",
    "#     def __init__(self, val=0, left=None, right=None):\n",
    "#         self.val = val\n",
    "#         self.left = left\n",
    "#         self.right = right\n",
    "\n",
    "\n",
    "class Solution:\n",
    "    def preorderTraversal(self, root: TreeNode) -> List[int]:\n",
    "        def dfs(root, res):\n",
    "            if not root: \n",
    "                return\n",
    "            res.append(root.val)\n",
    "            dfs(root.left, res)\n",
    "            dfs(root.right, res)\n",
    "            return res\n",
    "            if not root: \n",
    "                return []\n",
    "        return dfs(root, [])\n",
    "    \n",
    "    \n",
    "a = Solution()\n",
    "# assert a.preorderTraversal(root = [1,None,2,3]) == [1,2,3], \"Test 1\"\n",
    "# assert a.preorderTraversal(root = []) == [], \"Test 2\"\n",
    "# assert a.preorderTraversal(root = [1]) == [1], \"Test 3\""
   ]
  },
  {
   "cell_type": "markdown",
   "id": "6a17304d",
   "metadata": {},
   "source": [
    "### Задача 2\n",
    "Описание: \n",
    "- url: https://leetcode.com/problems/same-tree/\n",
    "- Даны 2 корня бинарных деревьев p и q. Написать функцию, котороя проверяет одинаковы ли эти деревья. Деревья одинаковы если имеют одинаковую структуру и одинаковые значения"
   ]
  },
  {
   "cell_type": "code",
   "execution_count": null,
   "id": "199d9499",
   "metadata": {},
   "outputs": [],
   "source": [
    "# Definition for a binary tree node.\n",
    "# class TreeNode:\n",
    "#     def __init__(self, val=0, left=None, right=None):\n",
    "#         self.val = val\n",
    "#         self.left = left\n",
    "#         self.right = right\n",
    "class Solution:\n",
    "    def isSameTree(self, p: Optional[TreeNode], q: Optional[TreeNode]) -> bool:\n",
    "        def checker(a: Optional[TreeNode], b: Optional[TreeNode]):\n",
    "            if not a and not b:\n",
    "                return True\n",
    "            elif not a and b or a and not b:\n",
    "                return False\n",
    "            elif a.val != b.val:\n",
    "                return False\n",
    "            else:\n",
    "                True\n",
    "            return checker(a.right, b.right) and checker(a.left, b.left)\n",
    "        return checker(p, q)\n",
    "    \n",
    "a = Solution()\n",
    "# assert a.isSameTree(p = [1,2,3], q = [1,2,3]) == True, \"Test 1\"\n",
    "# assert a.isSameTree(p = [1,2], q = [1,None,2]) == False, \"Test 2\"\n",
    "# assert a.isSameTree(p = [1,2,1], q = [1,1,2]) == False, \"Test 3\""
   ]
  },
  {
   "cell_type": "markdown",
   "id": "48f2151b",
   "metadata": {},
   "source": [
    "### Задача 3\n",
    "Описание: \n",
    "- url: https://leetcode.com/problems/diameter-of-binary-tree/\n",
    "- Дан корень бинарного дерева, верните длину диаметра дерева. Диаметр бинарного дерева — это длина самого длинного пути между любыми двумя узлами дерева. Этот путь может проходить или не проходить через корень. Длина пути между двумя узлами представлена количеством ребер между ними."
   ]
  },
  {
   "cell_type": "code",
   "execution_count": null,
   "id": "66cf01ac",
   "metadata": {},
   "outputs": [],
   "source": [
    "# Definition for a binary tree node.\n",
    "# class TreeNode:\n",
    "#     def __init__(self, val=0, left=None, right=None):\n",
    "#         self.val = val\n",
    "#         self.left = left\n",
    "#         self.right = right\n",
    "class Solution:\n",
    "    def diameterOfBinaryTree(self, root: Optional[TreeNode]) -> int:\n",
    "        self.max_d = 0\n",
    "        def dfs(root):\n",
    "            if not root: \n",
    "                return 0\n",
    "            left = 1+dfs(root.left)\n",
    "            right = 1+dfs(root.right)\n",
    "            d = left+right-2\n",
    "            self.max_d = max(self.max_d, d)\n",
    "            return max(left, right)\n",
    "        dfs(root)\n",
    "        return self.max_d"
   ]
  },
  {
   "cell_type": "markdown",
   "id": "3a1332f8",
   "metadata": {},
   "source": [
    "### Задача 4 (hard)\n",
    "Описание: \n",
    "- url: https://leetcode.com/problems/longest-path-with-different-adjacent-characters\n",
    "- Вам дано дерево (т. е. связный неориентированный граф, не имеющий циклов) с корнем в узле 0, состоящее из n узлов, пронумерованных от 0 до n - 1. Дерево представлено 0-индексированным родительским массивом размера n, где родитель [i] является родителем узла i. Поскольку узел 0 является корнем, parent[0] == -1.\n",
    "\n",
    "Вам также задана строка s длины n, где s[i] — символ, присвоенный узлу i.\n",
    "\n",
    "Возвращает длину самого длинного пути в дереве, чтобы ни одна пара соседних узлов на пути не имела одинаковых назначенных им символов."
   ]
  },
  {
   "cell_type": "code",
   "execution_count": null,
   "id": "23973d9c",
   "metadata": {},
   "outputs": [],
   "source": [
    "class Solution:\n",
    "    def longestPath(self, parent: List[int], s: str) -> int:\n",
    "        n = len(parent)\n",
    "        ans = 0\n",
    "        graph = [[] for _ in range(n)]\n",
    "\n",
    "        for i in range(1, n):\n",
    "            graph[parent[i]].append(i)\n",
    "\n",
    "        def longestPathDownFrom(u: int) -> int:\n",
    "            nonlocal ans\n",
    "            max1 = 0\n",
    "            max2 = 0\n",
    "\n",
    "            for v in graph[u]:\n",
    "                res = longestPathDownFrom(v)\n",
    "                if s[u] == s[v]:\n",
    "                    continue\n",
    "                if res > max1:\n",
    "                    max2 = max1\n",
    "                    max1 = res\n",
    "                elif res > max2:\n",
    "                    max2 = res\n",
    "\n",
    "            ans = max(ans, 1 + max1 + max2)\n",
    "            return 1 + max1\n",
    "\n",
    "        longestPathDownFrom(0)\n",
    "        return ans"
   ]
  },
  {
   "cell_type": "markdown",
   "id": "4cae45ab",
   "metadata": {},
   "source": [
    "### Задача 5 (hard)\n",
    "Описание: \n",
    "- url: https://leetcode.com/problems/number-of-good-paths/\n",
    "- Дано дерево (то есть связный неориентированный граф без циклов), состоящее из n узлов, пронумерованных от 0 до n - 1, и ровно n - 1 ребер. Дан целочисленный массив vals с ненулевым индексом длины n, где vals[i] обозначает значение i-го узла. Вам также дан двумерный целочисленный массив ребер, где ребра [i] = [ai, bi] означают, что существует неориентированное ребро, соединяющее узлы ai и bi. Вернуть количество различных хороших путей. Обратите внимание, что путь и его реверс считаются одним и тем же путем. Например, 0 -> 1 считается таким же, как 1 -> 0. Единственный узел также считается допустимым путем. Хороший путь — это простой путь, который удовлетворяет следующим условиям:\n",
    "    - Начальный узел и конечный узел имеют одинаковое значение.\n",
    "    - Все узлы между начальным узлом и конечным узлом имеют значения, меньшие или равные начальному узлу (т. е. значение начального узла должно быть максимальным значением на пути).\n"
   ]
  },
  {
   "cell_type": "code",
   "execution_count": 38,
   "id": "0dd3a49d",
   "metadata": {},
   "outputs": [],
   "source": [
    "import collections\n",
    "\n",
    "# class Solution:\n",
    "#     def numberOfGoodPaths(self, vals: List[int], edges: List[List[int]]) -> int:\n",
    "#         res = n = len(vals)\n",
    "#         parents = list(range(n))\n",
    "#         count = [Counter({vals[i]: 1}) for i in range(n)]\n",
    "#         edges = sorted([max(vals[i], vals[j]), i, j] for i, j in edges)\n",
    "        \n",
    "#         def find(x):\n",
    "#             if parents[x] != x:\n",
    "#                 parents[x] = find(parents[x])\n",
    "#             return parents[x]\n",
    "        \n",
    "#         for v, i, j in edges:\n",
    "#             fi, fj = find(i), find(j)\n",
    "#             ci, cj = count[fi][v], count[fj][v]\n",
    "#             res += ci * cj\n",
    "#             parents[fj] = fi\n",
    "#             count[fi] = Counter({v: ci + cj})\n",
    "#         return res\n",
    "\n",
    "\n",
    "class UnionFind:\n",
    "    def __init__(self, N):\n",
    "        self.parent = [i for i in range(N)]\n",
    "        self.size = [1]*N\n",
    "        \n",
    "    def find(self, x):\n",
    "        if self.parent[x] != x:\n",
    "            self.parent[x] = self.find(self.parent[x])\n",
    "        return self.parent[x]\n",
    "    \n",
    "    def union(self, a, b):\n",
    "        ua = self.find(a)\n",
    "        ub = self.find(b)\n",
    "        \n",
    "        if self.size[ua]>self.size[ub]:\n",
    "            self.parent[ub] = ua\n",
    "            self.size[ua] += self.size[ub]\n",
    "        else:\n",
    "            self.parent[ua] = ub\n",
    "            self.size[ub] += self.size[ua]\n",
    "            \n",
    "    def size(self, x):\n",
    "        root = self.find(x)\n",
    "        return self.size[root]\n",
    "\n",
    "\n",
    "class Solution:\n",
    "    def numberOfGoodPaths(self, vals: List[int], edges: List[List[int]]) -> int:\n",
    "        N = len(vals)\n",
    "        uf = UnionFind(N)\n",
    "        total = 0\n",
    "        \n",
    "        tree = collections.defaultdict(list)\n",
    "        for i, j in edges:\n",
    "            tree[i].append(j)\n",
    "            tree[j].append(i)\n",
    "            \n",
    "        order = collections.defaultdict(list)\n",
    "        for index, v in enumerate(vals):\n",
    "            order[v].append(index)\n",
    "            \n",
    "        for v in sorted(order.keys()):\n",
    "            for index in order[v]:\n",
    "                for u in tree[index]:\n",
    "                    if vals[u] <= vals[index]:\n",
    "                        uf.union(index, u)\n",
    "                        \n",
    "            p = collections.Counter()\n",
    "            for index in order[v]:\n",
    "                p[uf.find(index)] += 1\n",
    "                total += p[uf.find(index)]\n",
    "                \n",
    "        \n",
    "        return total\n",
    "            \n",
    "a = Solution()\n",
    "assert a.numberOfGoodPaths(vals = [1,3,2,1,3], edges = [[0,1],[0,2],[2,3],[2,4]]) == 6, \"Test 1\"           \n",
    "assert a.numberOfGoodPaths(vals = [1,3,2,1,3], edges = [[0,1],[0,2],[2,3],[2,4]]) == 6, \"Test 1\"\n",
    "assert a.numberOfGoodPaths(vals = [1,1,2,2,3], edges = [[0,1],[1,2],[2,3],[2,4]]) == 7, \"Test 2\"\n",
    "assert a.numberOfGoodPaths(vals = [1], edges = []) == 1, \"Test 3\"\n",
    "assert a.numberOfGoodPaths(vals = [2,5,5,1,5,2,3,5,1,5], \n",
    "                           edges = [[0,1],[2,1],[3,2],[3,4],[3,5],[5,6],[1,7],[8,4],[9,7]]) == 20, \"Test 4\""
   ]
  },
  {
   "cell_type": "code",
   "execution_count": null,
   "id": "d0cf2e33",
   "metadata": {},
   "outputs": [],
   "source": []
  },
  {
   "cell_type": "code",
   "execution_count": null,
   "id": "234d575c",
   "metadata": {},
   "outputs": [],
   "source": []
  },
  {
   "cell_type": "code",
   "execution_count": null,
   "id": "b1cf12c5",
   "metadata": {},
   "outputs": [],
   "source": []
  },
  {
   "cell_type": "code",
   "execution_count": null,
   "id": "4e893142",
   "metadata": {},
   "outputs": [],
   "source": []
  },
  {
   "cell_type": "code",
   "execution_count": null,
   "id": "f29a20be",
   "metadata": {},
   "outputs": [],
   "source": []
  },
  {
   "cell_type": "code",
   "execution_count": null,
   "id": "6f5efd2a",
   "metadata": {},
   "outputs": [],
   "source": []
  },
  {
   "cell_type": "code",
   "execution_count": null,
   "id": "c42430dd",
   "metadata": {},
   "outputs": [],
   "source": []
  },
  {
   "cell_type": "code",
   "execution_count": null,
   "id": "95a4c576",
   "metadata": {},
   "outputs": [],
   "source": []
  },
  {
   "cell_type": "code",
   "execution_count": null,
   "id": "76733b6d",
   "metadata": {},
   "outputs": [],
   "source": []
  },
  {
   "cell_type": "code",
   "execution_count": null,
   "id": "d6a87f7b",
   "metadata": {},
   "outputs": [],
   "source": []
  },
  {
   "cell_type": "code",
   "execution_count": null,
   "id": "d8b3201f",
   "metadata": {},
   "outputs": [],
   "source": []
  },
  {
   "cell_type": "code",
   "execution_count": null,
   "id": "9d765481",
   "metadata": {},
   "outputs": [],
   "source": []
  },
  {
   "cell_type": "code",
   "execution_count": null,
   "id": "19eb7a20",
   "metadata": {},
   "outputs": [],
   "source": []
  },
  {
   "cell_type": "code",
   "execution_count": null,
   "id": "606b0d4a",
   "metadata": {},
   "outputs": [],
   "source": []
  },
  {
   "cell_type": "code",
   "execution_count": null,
   "id": "57a1e6e0",
   "metadata": {},
   "outputs": [],
   "source": []
  },
  {
   "cell_type": "code",
   "execution_count": null,
   "id": "1ae6f8da",
   "metadata": {},
   "outputs": [],
   "source": []
  },
  {
   "cell_type": "code",
   "execution_count": null,
   "id": "5ef740de",
   "metadata": {},
   "outputs": [],
   "source": []
  },
  {
   "cell_type": "code",
   "execution_count": null,
   "id": "28fc14f0",
   "metadata": {},
   "outputs": [],
   "source": []
  }
 ],
 "metadata": {
  "kernelspec": {
   "display_name": "Python 3",
   "language": "python",
   "name": "python3"
  },
  "language_info": {
   "codemirror_mode": {
    "name": "ipython",
    "version": 3
   },
   "file_extension": ".py",
   "mimetype": "text/x-python",
   "name": "python",
   "nbconvert_exporter": "python",
   "pygments_lexer": "ipython3",
   "version": "3.7.13"
  }
 },
 "nbformat": 4,
 "nbformat_minor": 5
}
