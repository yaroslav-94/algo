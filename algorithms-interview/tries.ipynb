{
 "cells": [
  {
   "cell_type": "code",
   "execution_count": null,
   "id": "231d4922",
   "metadata": {},
   "outputs": [],
   "source": []
  },
  {
   "cell_type": "markdown",
   "id": "83c4b911",
   "metadata": {},
   "source": [
    "### Задача 1\n",
    "Описание: \n",
    "- url: https://leetcode.com/problems/binary-tree-preorder-traversal/\n",
    "- Дан корень бинарного дерева, вернуть обходные значения всех его узлов\n"
   ]
  },
  {
   "cell_type": "code",
   "execution_count": 13,
   "id": "66bfb2ab",
   "metadata": {},
   "outputs": [],
   "source": [
    "# Definition for a binary tree node.\n",
    "# class TreeNode:\n",
    "#     def __init__(self, val=0, left=None, right=None):\n",
    "#         self.val = val\n",
    "#         self.left = left\n",
    "#         self.right = right\n",
    "\n",
    "\n",
    "class Solution:\n",
    "    def preorderTraversal(self, root: TreeNode) -> List[int]:\n",
    "        def dfs(root, res):\n",
    "            if not root: \n",
    "                return\n",
    "            res.append(root.val)\n",
    "            dfs(root.left, res)\n",
    "            dfs(root.right, res)\n",
    "            return res\n",
    "            if not root: \n",
    "                return []\n",
    "        return dfs(root, [])\n",
    "    \n",
    "    \n",
    "a = Solution()\n",
    "# assert a.preorderTraversal(root = [1,None,2,3]) == [1,2,3], \"Test 1\"\n",
    "# assert a.preorderTraversal(root = []) == [], \"Test 2\"\n",
    "# assert a.preorderTraversal(root = [1]) == [1], \"Test 3\"\n",
    "# assert a.preorderTraversal() == , \"Test \""
   ]
  },
  {
   "cell_type": "code",
   "execution_count": null,
   "id": "e7e9b2cf",
   "metadata": {},
   "outputs": [],
   "source": []
  },
  {
   "cell_type": "code",
   "execution_count": null,
   "id": "199d9499",
   "metadata": {},
   "outputs": [],
   "source": []
  },
  {
   "cell_type": "code",
   "execution_count": null,
   "id": "79097505",
   "metadata": {},
   "outputs": [],
   "source": []
  },
  {
   "cell_type": "code",
   "execution_count": null,
   "id": "66cf01ac",
   "metadata": {},
   "outputs": [],
   "source": []
  },
  {
   "cell_type": "code",
   "execution_count": null,
   "id": "9d1c191f",
   "metadata": {},
   "outputs": [],
   "source": []
  },
  {
   "cell_type": "code",
   "execution_count": null,
   "id": "23973d9c",
   "metadata": {},
   "outputs": [],
   "source": []
  },
  {
   "cell_type": "code",
   "execution_count": null,
   "id": "b0e46911",
   "metadata": {},
   "outputs": [],
   "source": []
  }
 ],
 "metadata": {
  "kernelspec": {
   "display_name": "Python 3",
   "language": "python",
   "name": "python3"
  },
  "language_info": {
   "codemirror_mode": {
    "name": "ipython",
    "version": 3
   },
   "file_extension": ".py",
   "mimetype": "text/x-python",
   "name": "python",
   "nbconvert_exporter": "python",
   "pygments_lexer": "ipython3",
   "version": "3.7.13"
  }
 },
 "nbformat": 4,
 "nbformat_minor": 5
}
