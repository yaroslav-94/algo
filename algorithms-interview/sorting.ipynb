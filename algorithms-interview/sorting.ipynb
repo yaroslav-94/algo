{
 "cells": [
  {
   "cell_type": "code",
   "execution_count": null,
   "id": "a7e656a3",
   "metadata": {},
   "outputs": [],
   "source": []
  },
  {
   "cell_type": "markdown",
   "id": "48b73e85",
   "metadata": {},
   "source": [
    "### Задача 1\n",
    "Описание: \n",
    "- url: https://leetcode.com/problems/merge-sorted-array/description/\n",
    "- Вам даны два массива целых чисел nums1 и nums2, отсортированные в неубывающем порядке, и два целых числа m и n, представляющие количество элементов в nums1 и nums2 соответственно. Объедините nums1 и nums2 в один массив, отсортированный в неубывающем порядке. Окончательный отсортированный массив не должен возвращаться функцией, а должен храниться внутри массива nums1. Чтобы приспособиться к этому, nums1 имеет длину m + n, где первые m элементов обозначают элементы, которые должны быть объединены, а последние n элементов устанавливаются равными 0 и должны игнорироваться. nums2 имеет длину n."
   ]
  },
  {
   "cell_type": "code",
   "execution_count": 19,
   "id": "118d5376",
   "metadata": {},
   "outputs": [
    {
     "name": "stdout",
     "output_type": "stream",
     "text": [
      "[1, 2, 2, 3, 5, 6]\n",
      "[1]\n",
      "[1]\n",
      "[1, 2]\n",
      "[1, 2, 2, 5, 6, 8]\n",
      "[-1, 0, 0, 1, 2, 2, 3, 3, 3]\n"
     ]
    },
    {
     "ename": "AssertionError",
     "evalue": "",
     "output_type": "error",
     "traceback": [
      "\u001b[1;31m---------------------------------------------------------------------------\u001b[0m",
      "\u001b[1;31mAssertionError\u001b[0m                            Traceback (most recent call last)",
      "\u001b[1;32m<ipython-input-19-3e53146e7da3>\u001b[0m in \u001b[0;36m<module>\u001b[1;34m\u001b[0m\n\u001b[0;32m     59\u001b[0m \u001b[1;32massert\u001b[0m \u001b[0ma\u001b[0m\u001b[1;33m.\u001b[0m\u001b[0mmerge\u001b[0m\u001b[1;33m(\u001b[0m\u001b[0mnums1\u001b[0m\u001b[1;33m=\u001b[0m\u001b[1;33m[\u001b[0m\u001b[1;36m2\u001b[0m\u001b[1;33m,\u001b[0m\u001b[1;36m0\u001b[0m\u001b[1;33m]\u001b[0m\u001b[1;33m,\u001b[0m \u001b[0mm\u001b[0m\u001b[1;33m=\u001b[0m\u001b[1;36m1\u001b[0m\u001b[1;33m,\u001b[0m \u001b[0mnums2\u001b[0m\u001b[1;33m=\u001b[0m\u001b[1;33m[\u001b[0m\u001b[1;36m1\u001b[0m\u001b[1;33m]\u001b[0m\u001b[1;33m,\u001b[0m \u001b[0mn\u001b[0m\u001b[1;33m=\u001b[0m\u001b[1;36m1\u001b[0m\u001b[1;33m)\u001b[0m \u001b[1;33m==\u001b[0m \u001b[1;33m[\u001b[0m\u001b[1;36m1\u001b[0m\u001b[1;33m,\u001b[0m \u001b[1;36m2\u001b[0m\u001b[1;33m]\u001b[0m\u001b[1;33m,\u001b[0m \u001b[1;34m\"Test 4\"\u001b[0m\u001b[1;33m\u001b[0m\u001b[1;33m\u001b[0m\u001b[0m\n\u001b[0;32m     60\u001b[0m \u001b[1;32massert\u001b[0m \u001b[0ma\u001b[0m\u001b[1;33m.\u001b[0m\u001b[0mmerge\u001b[0m\u001b[1;33m(\u001b[0m\u001b[0mnums1\u001b[0m \u001b[1;33m=\u001b[0m \u001b[1;33m[\u001b[0m\u001b[1;36m1\u001b[0m\u001b[1;33m,\u001b[0m\u001b[1;36m2\u001b[0m\u001b[1;33m,\u001b[0m\u001b[1;36m8\u001b[0m\u001b[1;33m,\u001b[0m\u001b[1;36m0\u001b[0m\u001b[1;33m,\u001b[0m\u001b[1;36m0\u001b[0m\u001b[1;33m,\u001b[0m\u001b[1;36m0\u001b[0m\u001b[1;33m]\u001b[0m\u001b[1;33m,\u001b[0m \u001b[0mm\u001b[0m \u001b[1;33m=\u001b[0m \u001b[1;36m3\u001b[0m\u001b[1;33m,\u001b[0m \u001b[0mnums2\u001b[0m \u001b[1;33m=\u001b[0m \u001b[1;33m[\u001b[0m\u001b[1;36m2\u001b[0m\u001b[1;33m,\u001b[0m\u001b[1;36m5\u001b[0m\u001b[1;33m,\u001b[0m\u001b[1;36m6\u001b[0m\u001b[1;33m]\u001b[0m\u001b[1;33m,\u001b[0m \u001b[0mn\u001b[0m \u001b[1;33m=\u001b[0m \u001b[1;36m3\u001b[0m\u001b[1;33m)\u001b[0m \u001b[1;33m==\u001b[0m \u001b[1;33m[\u001b[0m\u001b[1;36m1\u001b[0m\u001b[1;33m,\u001b[0m\u001b[1;36m2\u001b[0m\u001b[1;33m,\u001b[0m\u001b[1;36m2\u001b[0m\u001b[1;33m,\u001b[0m\u001b[1;36m5\u001b[0m\u001b[1;33m,\u001b[0m\u001b[1;36m6\u001b[0m\u001b[1;33m,\u001b[0m\u001b[1;36m8\u001b[0m\u001b[1;33m]\u001b[0m\u001b[1;33m,\u001b[0m \u001b[1;34m\"Test 5\"\u001b[0m\u001b[1;33m\u001b[0m\u001b[1;33m\u001b[0m\u001b[0m\n\u001b[1;32m---> 61\u001b[1;33m \u001b[1;32massert\u001b[0m \u001b[0ma\u001b[0m\u001b[1;33m.\u001b[0m\u001b[0mmerge\u001b[0m\u001b[1;33m(\u001b[0m\u001b[0mnums1\u001b[0m\u001b[1;33m=\u001b[0m\u001b[1;33m[\u001b[0m\u001b[1;33m-\u001b[0m\u001b[1;36m1\u001b[0m\u001b[1;33m,\u001b[0m\u001b[1;36m0\u001b[0m\u001b[1;33m,\u001b[0m\u001b[1;36m0\u001b[0m\u001b[1;33m,\u001b[0m\u001b[1;36m3\u001b[0m\u001b[1;33m,\u001b[0m\u001b[1;36m3\u001b[0m\u001b[1;33m,\u001b[0m\u001b[1;36m3\u001b[0m\u001b[1;33m,\u001b[0m\u001b[1;36m0\u001b[0m\u001b[1;33m,\u001b[0m\u001b[1;36m0\u001b[0m\u001b[1;33m,\u001b[0m\u001b[1;36m0\u001b[0m\u001b[1;33m]\u001b[0m\u001b[1;33m,\u001b[0m \u001b[0mm\u001b[0m\u001b[1;33m=\u001b[0m\u001b[1;36m6\u001b[0m\u001b[1;33m,\u001b[0m \u001b[0mnums2\u001b[0m\u001b[1;33m=\u001b[0m\u001b[1;33m[\u001b[0m\u001b[1;36m1\u001b[0m\u001b[1;33m,\u001b[0m\u001b[1;36m2\u001b[0m\u001b[1;33m,\u001b[0m\u001b[1;36m2\u001b[0m\u001b[1;33m]\u001b[0m\u001b[1;33m,\u001b[0m \u001b[0mn\u001b[0m\u001b[1;33m=\u001b[0m\u001b[1;36m3\u001b[0m\u001b[1;33m)\u001b[0m \u001b[1;33m==\u001b[0m \u001b[1;33m[\u001b[0m\u001b[1;33m-\u001b[0m\u001b[1;36m1\u001b[0m\u001b[1;33m,\u001b[0m\u001b[1;33m]\u001b[0m\u001b[1;33m\u001b[0m\u001b[1;33m\u001b[0m\u001b[0m\n\u001b[0m",
      "\u001b[1;31mAssertionError\u001b[0m: "
     ]
    }
   ],
   "source": [
    "from typing import List\n",
    "\n",
    "\n",
    "class Solution:\n",
    "    def merge(self, nums1: List[int], m: int, nums2: List[int], n: int) -> None:\n",
    "        \"\"\"\n",
    "        Do not return anything, modify nums1 in-place instead.\n",
    "        \"\"\"\n",
    "        i = m - 1\n",
    "        j = n - 1\n",
    "        # starting to put from the last element of nums1 and nums2\n",
    "        # to the last position of nums1\n",
    "        p = m + n - 1\n",
    "        while i >= 0 and j >= 0:\n",
    "            if nums1[i] > nums2[j]:\n",
    "                nums1[p] = nums1[i]\n",
    "                i -= 1\n",
    "            else:\n",
    "                nums1[p] = nums2[j]\n",
    "                j -= 1\n",
    "            p -= 1\n",
    "        # one nums has finished but not the other\n",
    "        # because we are putting in nums1 so only need to consider nums2\n",
    "        while j >= 0:\n",
    "            nums1[p] = nums2[j]\n",
    "            j -= 1\n",
    "            p -= 1\n",
    "\n",
    "\n",
    "class Solution:\n",
    "    def merge(self, nums1: List[int], m: int, nums2: List[int], n: int) -> None:\n",
    "        \"\"\"\n",
    "        Do not return anything, modify nums1 in-place instead.\n",
    "        \"\"\"\n",
    "        i_m, j_n = 0, 0\n",
    "        answer = []\n",
    "        while i_m<m and j_n<n:\n",
    "            if nums1[i_m]>=nums2[j_n]:\n",
    "                answer.append(nums2[j_n])\n",
    "                j_n += 1\n",
    "            elif nums1[i_m]<nums2[j_n]:\n",
    "                answer.append(nums1[i_m])\n",
    "                i_m += 1\n",
    "        if 0 <= j_n < n and n>0:\n",
    "            answer += nums2[j_n:n]\n",
    "        elif 0 <= i_m < m and m>0:\n",
    "            answer += nums1[i_m:m]\n",
    "        for i in range(len(nums1)):\n",
    "            if nums1[i] != answer[i]:\n",
    "                nums1[i] = answer[i]\n",
    "        print(nums1)\n",
    "        return nums1\n",
    "                    \n",
    "    \n",
    "a = Solution()\n",
    "assert a.merge(nums1 = [1,2,3,0,0,0], m = 3, nums2 = [2,5,6], n = 3) == [1,2,2,3,5,6], \"Test 1\"\n",
    "assert a.merge(nums1 = [1], m = 1, nums2 = [], n = 0) == [1], \"Test 2\"\n",
    "assert a.merge(nums1 = [0], m = 0, nums2 = [1], n = 1) == [1], \"Test 3\"\n",
    "assert a.merge(nums1=[2,0], m=1, nums2=[1], n=1) == [1, 2], \"Test 4\"\n",
    "assert a.merge(nums1 = [1,2,8,0,0,0], m = 3, nums2 = [2,5,6], n = 3) == [1,2,2,5,6,8], \"Test 5\"\n",
    "assert a.merge(nums1=[-1,0,0,3,3,3,0,0,0], m=6, nums2=[1,2,2], n=3) == [-1,]\n"
   ]
  },
  {
   "cell_type": "markdown",
   "id": "c558aab3",
   "metadata": {},
   "source": [
    "### Задача 2\n",
    "Описание: \n",
    "- url: https://leetcode.com/problems/minimum-number-of-moves-to-seat-everyone/description/\n",
    "- В комнате n мест и n студентов. Вам дан массив мест длины n, где места[i] — позиция i-го места. Вам также дан массив студентов длины n, где student[j] — позиция j-го студента. \n",
    "Вы можете выполнить следующий ход любое количество раз:\n",
    "    - Увеличить или уменьшить позицию i-го ученика на 1 (т. е. переместить i-го ученика с позиции x на x + 1 или x - 1)\n",
    "Найдите минимальное количество ходов, необходимое для того, чтобы переместить каждого ученика на место так, чтобы никакие два ученика не сидели на одном и том же месте.\n",
    "\n",
    "Обратите внимание, что вначале может быть несколько мест или студентов на одном и том же месте."
   ]
  },
  {
   "cell_type": "code",
   "execution_count": null,
   "id": "bb50f43b",
   "metadata": {},
   "outputs": [],
   "source": [
    "class Solution:\n",
    "    def minMovesToSeat(self, seats: List[int], students: List[int]) -> int:\n",
    "        seats.sort()\n",
    "        students.sort()\n",
    "        answer = sum([abs(students[i]-seats[i]) for i in range(len(seats))])\n",
    "        return answer\n",
    "    \n",
    "a = Solution()\n",
    "assert a.minMovesToSeat(seats = [3,1,5], students = [2,7,4]) == 4, \"Test 1\"\n",
    "assert a.minMovesToSeat(seats = [4,1,5,9], students = [1,3,2,6]) == 7, \"Test 2\"\n",
    "assert a.minMovesToSeat(seats = [2,2,6,6], students = [1,3,2,6]) == 4, \"Test 3\""
   ]
  },
  {
   "cell_type": "markdown",
   "id": "995375de",
   "metadata": {},
   "source": [
    "### Задача 3\n",
    "Описание: \n",
    "- url: https://leetcode.com/problems/sort-the-people/description/\n",
    "- Дан список строк из имен и список положительных целых чисе из роста людей. Оба массива длины n. Вернуть отсортированный массив имен по невозрастанию роста"
   ]
  },
  {
   "cell_type": "code",
   "execution_count": null,
   "id": "2191846d",
   "metadata": {},
   "outputs": [],
   "source": [
    "class Solution:\n",
    "    def sortPeople(self, names: List[str], heights: List[int]) -> List[str]:\n",
    "        \n",
    "        for i in range(len(names)):\n",
    "            for j in range(i, len(names)):\n",
    "                if heights[i]<heights[j]:\n",
    "                    heights[i], heights[j] = heights[j], heights[i]\n",
    "                    names[i], names[j] = names[j], names[i]\n",
    "        return names\n",
    "    \n",
    "a = Solution()\n",
    "assert a.sortPeople(names = [\"Mary\",\"John\",\"Emma\"], heights = [180,165,170]) == [\"Mary\",\"Emma\",\"John\"], \"Test 1\"\n",
    "assert a.sortPeople(names = [\"Alice\",\"Bob\",\"Bob\"], heights = [155,185,150]) == [\"Bob\",\"Alice\",\"Bob\"], \"Test 2\""
   ]
  },
  {
   "cell_type": "markdown",
   "id": "71bae511",
   "metadata": {},
   "source": [
    "### Задача 4 (medium)\n",
    "Описание: \n",
    "- url: https://leetcode.com/problems/find-players-with-zero-or-one-losses/description/\n",
    "- Вам дан целочисленный массив игр, где match[i] = [winner[i], loser[i]] указывает, что игрок winner[i] победил игрока loser[i] в матче.\n",
    "Вернуть список ответов размера 2, где:\n",
    "    - answer[0] — это список всех игроков, которые не проиграли ни одного матча.\n",
    "    - answer[1] — это список всех игроков, проигравших ровно один матч.\n",
    "Значения в двух списках должны быть возвращены в порядке возрастания."
   ]
  },
  {
   "cell_type": "code",
   "execution_count": null,
   "id": "1774715d",
   "metadata": {},
   "outputs": [],
   "source": [
    "class Solution:\n",
    "    def findWinners(self, matches: List[List[int]]) -> List[List[int]]:\n",
    "        \n",
    "        answer = {}\n",
    "        for pair in matches:\n",
    "            if pair[0] not in answer.keys():\n",
    "                answer[pair[0]] = [1, 0]\n",
    "            else:\n",
    "                answer[pair[0]][0] += 1\n",
    "                \n",
    "            if pair[1] not in answer.keys():\n",
    "                answer[pair[1]] = [0, 1]\n",
    "            else:\n",
    "                answer[pair[1]][1] += 1  \n",
    "                \n",
    "        wins = []\n",
    "        lose = []\n",
    "        for key, val in answer.items():\n",
    "            if val[0] > 0 and val[1] == 0:\n",
    "                wins.append(key)\n",
    "            elif val[1] == 1:\n",
    "                lose.append(key)\n",
    "\n",
    "        return [sorted(wins), sorted(lose)]\n",
    "    \n",
    "a = Solution()\n",
    "assert a.findWinners(matches=[[1,3],[2,3],[3,6],[5,6],[5,7],[4,5],[4,8],[4,9],[10,4],[10,9]]) == [[1,2,10],[4,5,7,8]], \"Test 1\"\n",
    "assert a.findWinners(matches=[[2,3],[1,3],[5,4],[6,4]]) == [[1,2,5,6],[]], \"Test 2\""
   ]
  },
  {
   "cell_type": "markdown",
   "id": "9d9c1244",
   "metadata": {},
   "source": [
    "### Задача 5 (medium)\n",
    "Описание: \n",
    "- url: https://leetcode.com/problems/reduce-array-size-to-the-half/description/\n",
    "- Дан массив из целых чисел. Нужно выбрать набор чисел, при удалении чисел из которого массив чисел будет меньше половины\n"
   ]
  },
  {
   "cell_type": "code",
   "execution_count": null,
   "id": "34a351df",
   "metadata": {},
   "outputs": [],
   "source": [
    "from typing import List\n",
    "\n",
    "import time\n",
    "\n",
    "class Solution:\n",
    "    \"\"\"Не работает для больших значений\"\"\"\n",
    "    def minSetSize(self, arr: List[int]) -> int:\n",
    "        dict_count = {i: arr.count(i) for i in set(arr)}\n",
    "        sum_uniq = 0\n",
    "        answer = []\n",
    "        \n",
    "        while sum_uniq<len(arr)//2:\n",
    "            max_val = 0\n",
    "            max_key = 0\n",
    "            for key, val in dict_count.items():\n",
    "                if max_val < val:\n",
    "                    max_val = val\n",
    "                    max_key = key\n",
    "            answer.append(max_key)\n",
    "            dict_count.pop(max_key)\n",
    "            sum_uniq += max_val\n",
    "            \n",
    "        return len(answer)\n",
    "            \n",
    "      \n",
    "import collections    \n",
    "class Solution(object):\n",
    "    def minSetSize(self, arr):\n",
    "        \"\"\"\n",
    "        :type arr: List[int]\n",
    "        :rtype: int\n",
    "        \"\"\"\n",
    "        c = collections.Counter(arr)\n",
    "        L = len(arr)//2\n",
    "        result = 0\n",
    "        for k,v in sorted(c.items(), key=lambda x:-x[1]):\n",
    "            if L>0:\n",
    "                result += 1\n",
    "                L -= v\n",
    "            else:\n",
    "                break\n",
    "        return result\n",
    "    \n",
    "    \n",
    "class Solution:\n",
    "    def minSetSize(self, arr: List[int]) -> int:\n",
    "        d={}\n",
    "        for i in range(len(arr)):\n",
    "            if arr[i] not in d:\n",
    "                d[arr[i]]=1\n",
    "            else:\n",
    "                d[arr[i]]+=1\n",
    "        di=list(d.values())\n",
    "        c=0\n",
    "        o=0\n",
    "        di.sort(reverse=True)\n",
    "        for i in di:\n",
    "            c+=i\n",
    "            o+=1\n",
    "            if c>= len(arr)//2:\n",
    "                return o\n",
    "    \n",
    "a = Solution()\n",
    "assert a.minSetSize(arr = [3,3,3,3,5,5,5,2,2,7]) == 2, \"Test 1\"\n",
    "assert a.minSetSize(arr = [7,7,7,7,7,7]) == 1, \"Test 2\"\n"
   ]
  },
  {
   "cell_type": "markdown",
   "id": "5031e17f",
   "metadata": {},
   "source": [
    "### Задача 6\n",
    "Описание: \n",
    "- url: https://leetcode.com/problems/maximum-product-difference-between-two-pairs/\n",
    "- Разница произведений между двумя парами (a, b) и (c, d) определяется как (a * b) - (c * d). Учитывая целочисленный массив nums, выберите четыре различных индекса w, x, y и z так, чтобы разница произведения между парами (nums[w], nums[x]) и (nums[y], nums[z]) была максимальной."
   ]
  },
  {
   "cell_type": "code",
   "execution_count": null,
   "id": "a2cfb5f5",
   "metadata": {},
   "outputs": [],
   "source": [
    "from typing import List\n",
    "\n",
    "\n",
    "class Solution:\n",
    "    def maxProductDifference(self, nums: List[int]) -> int:\n",
    "        nums.sort()\n",
    "        return nums[-2]*nums[-1] - nums[0]*nums[1]\n",
    "    \n",
    "    \n",
    "a = Solution()\n",
    "assert a.maxProductDifference(nums = [5,6,2,7,4]) == 34, \"Test 1\"\n",
    "assert a.maxProductDifference(nums = [4,2,5,9,7,4,8]) == 64, \"Test 2\""
   ]
  },
  {
   "cell_type": "markdown",
   "id": "6c5eb732",
   "metadata": {},
   "source": [
    "### Задача 7\n",
    "Описание: \n",
    "- url: https://leetcode.com/problems/minimum-sum-of-four-digit-number-after-splitting-digits/\n",
    "- Дано положительное целое число, состоящее ровно из четырех цифр. Разделите num на два новых целых числа new1 и new2, используя цифры, найденные в num. Ведущие нули разрешены в новых1 и новых2, и все цифры, найденные в num, должны использоваться. Вернуть минимально возможную сумму new1 и new2."
   ]
  },
  {
   "cell_type": "code",
   "execution_count": null,
   "id": "4e712344",
   "metadata": {},
   "outputs": [],
   "source": [
    "class Solution:\n",
    "    def minimumSum(self, num: int) -> int:\n",
    "        dig = []\n",
    "        while num >0:\n",
    "            dig.append(num%10)\n",
    "            num = num//10\n",
    "        min1 = dig.pop(dig.index(min(dig)))\n",
    "        min2 = dig.pop(dig.index(min(dig)))\n",
    "        return min1*10+min2*10+sum(dig)\n",
    "    \n",
    "a = Solution()\n",
    "assert a.minimumSum(num = 2932) == 52, \"Test 1\"\n",
    "assert a.minimumSum(num = 4009) == 13, \"Test 2\""
   ]
  },
  {
   "cell_type": "markdown",
   "id": "745aa192",
   "metadata": {},
   "source": [
    "### Задача 8\n",
    "Описание: \n",
    "- url: https://leetcode.com/problems/array-partition/\n",
    "- Дан целочисленный массив nums из 2n целых чисел, сгруппируйте эти целые числа в n пар (a1, b1), (a2, b2), ..., (an, bn) так, чтобы сумма min(ai, bi) для всех i максимизируется. Вернуть максимальную сумму."
   ]
  },
  {
   "cell_type": "code",
   "execution_count": null,
   "id": "0edc106d",
   "metadata": {},
   "outputs": [],
   "source": [
    "class Solution:\n",
    "    def arrayPairSum(self, nums: List[int]) -> int:\n",
    "        nums.sort()\n",
    "        return sum(nums[::2])\n",
    "    \n",
    "    \n",
    "a = Solution()\n",
    "assert a.arrayPairSum(nums = [1,4,3,2]) == 4, \"Test 1\"\n",
    "assert a.arrayPairSum(nums = [6,2,6,5,1,2]) == 9, \"Test 2\""
   ]
  },
  {
   "cell_type": "code",
   "execution_count": null,
   "id": "5a76a43c",
   "metadata": {},
   "outputs": [],
   "source": []
  },
  {
   "cell_type": "code",
   "execution_count": null,
   "id": "0955951c",
   "metadata": {},
   "outputs": [],
   "source": []
  },
  {
   "cell_type": "code",
   "execution_count": null,
   "id": "9ed60522",
   "metadata": {},
   "outputs": [],
   "source": []
  },
  {
   "cell_type": "code",
   "execution_count": null,
   "id": "33b3488f",
   "metadata": {},
   "outputs": [],
   "source": []
  },
  {
   "cell_type": "code",
   "execution_count": null,
   "id": "4f69a48f",
   "metadata": {},
   "outputs": [],
   "source": []
  },
  {
   "cell_type": "code",
   "execution_count": null,
   "id": "5e9aa6e1",
   "metadata": {},
   "outputs": [],
   "source": []
  },
  {
   "cell_type": "code",
   "execution_count": null,
   "id": "0c0e5201",
   "metadata": {},
   "outputs": [],
   "source": []
  },
  {
   "cell_type": "code",
   "execution_count": null,
   "id": "8a174b52",
   "metadata": {},
   "outputs": [],
   "source": []
  },
  {
   "cell_type": "code",
   "execution_count": null,
   "id": "a82561dc",
   "metadata": {},
   "outputs": [],
   "source": []
  },
  {
   "cell_type": "code",
   "execution_count": null,
   "id": "5e90f448",
   "metadata": {},
   "outputs": [],
   "source": []
  },
  {
   "cell_type": "code",
   "execution_count": null,
   "id": "cc430c81",
   "metadata": {},
   "outputs": [],
   "source": []
  },
  {
   "cell_type": "code",
   "execution_count": null,
   "id": "bcf70c0a",
   "metadata": {},
   "outputs": [],
   "source": []
  }
 ],
 "metadata": {
  "kernelspec": {
   "display_name": "Python 3",
   "language": "python",
   "name": "python3"
  },
  "language_info": {
   "codemirror_mode": {
    "name": "ipython",
    "version": 3
   },
   "file_extension": ".py",
   "mimetype": "text/x-python",
   "name": "python",
   "nbconvert_exporter": "python",
   "pygments_lexer": "ipython3",
   "version": "3.7.13"
  }
 },
 "nbformat": 4,
 "nbformat_minor": 5
}
