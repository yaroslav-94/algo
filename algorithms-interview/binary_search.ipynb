{
 "cells": [
  {
   "cell_type": "code",
   "execution_count": null,
   "id": "8cf75ff9",
   "metadata": {},
   "outputs": [],
   "source": []
  },
  {
   "cell_type": "markdown",
   "id": "d9055a69",
   "metadata": {},
   "source": [
    "### Задача 1\n",
    "Описание: \n",
    "- url: https://leetcode.com/problems/count-negative-numbers-in-a-sorted-matrix/\n",
    "- дана матрица размером $m*n$, элементы которой отсортиованы в неубывающем порядке по столбцам и строкам. Вернуть количество отрицательных значений в матрице"
   ]
  },
  {
   "cell_type": "code",
   "execution_count": 27,
   "id": "920a9ac6",
   "metadata": {},
   "outputs": [],
   "source": [
    "from typing import List\n",
    "\n",
    "\n",
    "class Solution:\n",
    "    def countNegatives(self, grid: List[List[int]]) -> int:\n",
    "        answer = 0\n",
    "        for arr in grid:\n",
    "            left, right = 0, len(arr)\n",
    "            if arr[0]<0:\n",
    "                answer += len(arr)\n",
    "            elif arr[-1]>=0:\n",
    "                pass\n",
    "            else:\n",
    "                while left+1<right:\n",
    "                    middle = (left+right)//2\n",
    "                    if arr[middle]>=0:\n",
    "                        left = middle\n",
    "                    else:\n",
    "                        right = middle\n",
    "                answer += len(arr)-right\n",
    "        return answer\n",
    "    \n",
    "a = Solution()\n",
    "assert a.countNegatives(grid=[[1,0,0,-1,-1]]) == 2, \"Test 0\"\n",
    "assert a.countNegatives(grid=[[4,3,2,-1],[3,2,1,-1],[1,1,-1,-2],[-1,-1,-2,-3]]) == 8, \"Test 1\"\n",
    "assert a.countNegatives(grid=[[3,2],[1,0]]) == 0, \"Test 2\"\n",
    "assert a.countNegatives(grid=[[4,3,3,1,1],[1,0,0,-1,-1],[-2,-2,-2,-2,-3],[-2,-2,-2,-3,-3],[-3,-3,-3,-3,-3]]) == 17, \"Test 3\""
   ]
  },
  {
   "cell_type": "code",
   "execution_count": null,
   "id": "2aac0063",
   "metadata": {},
   "outputs": [],
   "source": []
  },
  {
   "cell_type": "code",
   "execution_count": null,
   "id": "4458db2d",
   "metadata": {},
   "outputs": [],
   "source": []
  },
  {
   "cell_type": "code",
   "execution_count": null,
   "id": "c25d486e",
   "metadata": {},
   "outputs": [],
   "source": []
  },
  {
   "cell_type": "code",
   "execution_count": null,
   "id": "8e7ede88",
   "metadata": {},
   "outputs": [],
   "source": []
  }
 ],
 "metadata": {
  "kernelspec": {
   "display_name": "Python 3",
   "language": "python",
   "name": "python3"
  },
  "language_info": {
   "codemirror_mode": {
    "name": "ipython",
    "version": 3
   },
   "file_extension": ".py",
   "mimetype": "text/x-python",
   "name": "python",
   "nbconvert_exporter": "python",
   "pygments_lexer": "ipython3",
   "version": "3.7.13"
  }
 },
 "nbformat": 4,
 "nbformat_minor": 5
}
