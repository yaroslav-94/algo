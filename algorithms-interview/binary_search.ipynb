{
 "cells": [
  {
   "cell_type": "code",
   "execution_count": null,
   "id": "8cf75ff9",
   "metadata": {},
   "outputs": [],
   "source": []
  },
  {
   "cell_type": "markdown",
   "id": "d9055a69",
   "metadata": {},
   "source": [
    "### Задача 1\n",
    "Описание: \n",
    "- url: https://leetcode.com/problems/count-negative-numbers-in-a-sorted-matrix/\n",
    "- дана матрица размером $m*n$, элементы которой отсортиованы в неубывающем порядке по столбцам и строкам. Вернуть количество отрицательных значений в матрице"
   ]
  },
  {
   "cell_type": "code",
   "execution_count": 12,
   "id": "920a9ac6",
   "metadata": {},
   "outputs": [],
   "source": [
    "from typing import List\n",
    "\n",
    "\n",
    "class Solution:\n",
    "    def countNegatives(self, grid: List[List[int]]) -> int:\n",
    "        answer = 0\n",
    "        for arr in grid:\n",
    "            left, right = 0, len(arr)\n",
    "            if arr[0]<0:\n",
    "                answer += len(arr)\n",
    "            elif arr[-1]>=0:\n",
    "                pass\n",
    "            else:\n",
    "                while left+1<right:\n",
    "                    middle = (left+right)//2\n",
    "                    if arr[middle]>=0:\n",
    "                        left = middle\n",
    "                    else:\n",
    "                        right = middle\n",
    "                answer += len(arr)-right\n",
    "        return answer\n",
    "    \n",
    "a = Solution()\n",
    "assert a.countNegatives(grid=[[1,0,0,-1,-1]]) == 2, \"Test 0\"\n",
    "assert a.countNegatives(grid=[[4,3,2,-1],[3,2,1,-1],[1,1,-1,-2],[-1,-1,-2,-3]]) == 8, \"Test 1\"\n",
    "assert a.countNegatives(grid=[[3,2],[1,0]]) == 0, \"Test 2\"\n",
    "assert a.countNegatives(grid=[[4,3,3,1,1],[1,0,0,-1,-1],[-2,-2,-2,-2,-3],[-2,-2,-2,-3,-3],[-3,-3,-3,-3,-3]]) == 17, \"Test 3\""
   ]
  },
  {
   "cell_type": "markdown",
   "id": "458fd7ef",
   "metadata": {},
   "source": [
    "### Задача 2\n",
    "Описание: \n",
    "- url: https://leetcode.com/problems/special-array-with-x-elements-greater-than-or-equal-x/\n",
    "- Дан массив nums неотрицательных целых чисел. nums считается особым, если существует число x такое, что в nums есть ровно x чисел, которые больше или равны x. Обратите внимание, что x не обязательно должен быть элементом nums. Верните x, если массив особенный, иначе верните -1. Можно доказать, что если nums является особенным, значение x уникально."
   ]
  },
  {
   "cell_type": "code",
   "execution_count": 13,
   "id": "4458db2d",
   "metadata": {},
   "outputs": [],
   "source": [
    "from typing import List\n",
    "\n",
    "\n",
    "# class Solution:\n",
    "#     def specialArray(self, nums: List[int]) -> int:\n",
    "#         answer = -1\n",
    "#         len_nums = len(nums)\n",
    "#         for i in range(max(nums)+1):\n",
    "#             fl = 0\n",
    "#             for j in nums:\n",
    "#                 if j>=i:\n",
    "#                     fl += 1\n",
    "#             if fl == i:\n",
    "#                 answer = i\n",
    "#                 break\n",
    "#         return answer\n",
    "                    \n",
    "    \n",
    "class Solution:\n",
    "    def specialArray(self, nums: List[int]) -> int:\n",
    "        nums.sort(reverse=True)\n",
    "        left, right = 0, len(nums)\n",
    "        while left < right:\n",
    "            mid = left + (right - left) // 2\n",
    "            if mid < nums[mid]:\n",
    "                left = mid + 1\n",
    "            else:\n",
    "                right = mid       \n",
    "        return -1 if left < len(nums) and left == nums[left] else left\n",
    "    \n",
    "    \n",
    "a = Solution()\n",
    "assert a.specialArray(nums = [3,5]) == 2, \"Test 1\"\n",
    "assert a.specialArray(nums = [0,0]) == -1, \"Test 2\"\n",
    "assert a.specialArray(nums = [0,4,3,0,4]) == 3, \"Test 3\"\n",
    "assert a.specialArray(nums=[0,5,0,1,8,3,0,1]) == 3, \"Test 4\""
   ]
  },
  {
   "cell_type": "code",
   "execution_count": null,
   "id": "c25d486e",
   "metadata": {},
   "outputs": [],
   "source": []
  },
  {
   "cell_type": "code",
   "execution_count": null,
   "id": "8e7ede88",
   "metadata": {},
   "outputs": [],
   "source": []
  },
  {
   "cell_type": "code",
   "execution_count": null,
   "id": "a97f86a7",
   "metadata": {},
   "outputs": [],
   "source": []
  },
  {
   "cell_type": "code",
   "execution_count": null,
   "id": "678753a3",
   "metadata": {},
   "outputs": [],
   "source": []
  },
  {
   "cell_type": "code",
   "execution_count": null,
   "id": "6ee89761",
   "metadata": {},
   "outputs": [],
   "source": []
  },
  {
   "cell_type": "code",
   "execution_count": null,
   "id": "f1b9fa89",
   "metadata": {},
   "outputs": [],
   "source": []
  },
  {
   "cell_type": "code",
   "execution_count": null,
   "id": "f42f8dcf",
   "metadata": {},
   "outputs": [],
   "source": []
  },
  {
   "cell_type": "code",
   "execution_count": null,
   "id": "b40156ba",
   "metadata": {},
   "outputs": [],
   "source": []
  },
  {
   "cell_type": "code",
   "execution_count": null,
   "id": "3a172aae",
   "metadata": {},
   "outputs": [],
   "source": []
  },
  {
   "cell_type": "code",
   "execution_count": null,
   "id": "44d5961b",
   "metadata": {},
   "outputs": [],
   "source": []
  },
  {
   "cell_type": "code",
   "execution_count": null,
   "id": "4c6b1bfb",
   "metadata": {},
   "outputs": [],
   "source": []
  },
  {
   "cell_type": "code",
   "execution_count": null,
   "id": "37346e44",
   "metadata": {},
   "outputs": [],
   "source": []
  },
  {
   "cell_type": "code",
   "execution_count": null,
   "id": "d6ee8961",
   "metadata": {},
   "outputs": [],
   "source": []
  },
  {
   "cell_type": "code",
   "execution_count": null,
   "id": "7ff2269f",
   "metadata": {},
   "outputs": [],
   "source": []
  },
  {
   "cell_type": "code",
   "execution_count": null,
   "id": "4b3f104b",
   "metadata": {},
   "outputs": [],
   "source": []
  },
  {
   "cell_type": "code",
   "execution_count": null,
   "id": "be79d380",
   "metadata": {},
   "outputs": [],
   "source": []
  },
  {
   "cell_type": "code",
   "execution_count": null,
   "id": "7ece29aa",
   "metadata": {},
   "outputs": [],
   "source": []
  },
  {
   "cell_type": "code",
   "execution_count": null,
   "id": "bb141fd6",
   "metadata": {},
   "outputs": [],
   "source": []
  },
  {
   "cell_type": "code",
   "execution_count": null,
   "id": "60f2ce81",
   "metadata": {},
   "outputs": [],
   "source": []
  }
 ],
 "metadata": {
  "kernelspec": {
   "display_name": "Python 3",
   "language": "python",
   "name": "python3"
  },
  "language_info": {
   "codemirror_mode": {
    "name": "ipython",
    "version": 3
   },
   "file_extension": ".py",
   "mimetype": "text/x-python",
   "name": "python",
   "nbconvert_exporter": "python",
   "pygments_lexer": "ipython3",
   "version": "3.7.13"
  }
 },
 "nbformat": 4,
 "nbformat_minor": 5
}
