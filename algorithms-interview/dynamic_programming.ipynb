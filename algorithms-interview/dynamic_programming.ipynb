{
 "cells": [
  {
   "cell_type": "code",
   "execution_count": null,
   "id": "b0348b58",
   "metadata": {},
   "outputs": [],
   "source": []
  },
  {
   "cell_type": "markdown",
   "id": "e9229433",
   "metadata": {},
   "source": [
    "### Задача 1\n",
    "Описание: \n",
    "- url: https://leetcode.com/problems/counting-bits/\n",
    "- Дано натуральное число n. Вернуть массив, в котором будет n + 1 число, которое является суммой 1 в бинарной записи индекса в массиве"
   ]
  },
  {
   "cell_type": "code",
   "execution_count": 33,
   "id": "53db5f8d",
   "metadata": {},
   "outputs": [],
   "source": [
    "from typing import List\n",
    "\n",
    "\n",
    "class Solution:\n",
    "    def countBits(self, n: int) -> List[int]:\n",
    "        answer = [0]\n",
    "        for i in range(1, n+1):\n",
    "            bin_num = bin(i)[2:]\n",
    "            answer.append(bin_num.count('1'))\n",
    "        return answer\n",
    "    \n",
    "class Solution:\n",
    "    def countBits(self, n: int) -> List[int]:\n",
    "        answer = [0]\n",
    "        for i in range(1, n+1):\n",
    "            answer.append(answer[i//2] + i%2)\n",
    "        return answer\n",
    "    \n",
    "    \n",
    "a = Solution()\n",
    "assert a.countBits(n = 2) == [0,1,1], \"Test 1\"\n",
    "assert a.countBits(n = 5) == [0,1,1,2,1,2], \"Test 2\""
   ]
  },
  {
   "cell_type": "markdown",
   "id": "c74c3a17",
   "metadata": {},
   "source": [
    "### Задача 2\n",
    "Описание: \n",
    "- url: https://leetcode.com/problems/best-time-to-buy-and-sell-stock/\n",
    "- Дан массив prices, в котором prices[i] цена акции в i-й день. Вы хотите максимизировать результат покупки и продажи акции за один день, выбирая другой день в будущем с лучшей ценой. Вернуть лучшую разницу между ценой покупки и продажи акции. Если такого нет, вернуть 0"
   ]
  },
  {
   "cell_type": "code",
   "execution_count": 34,
   "id": "9ddf0a6e",
   "metadata": {},
   "outputs": [],
   "source": [
    "class Solution:\n",
    "    def maxProfit(self, prices: List[int]) -> int:\n",
    "        answer = 0\n",
    "        min_val = prices[0]\n",
    "        for i in range(1, len(prices)):\n",
    "            if prices[i]<min_val:\n",
    "                min_val = prices[i]\n",
    "            if prices[i]-min_val>answer:\n",
    "                answer = prices[i]-min_val\n",
    "        return answer"
   ]
  },
  {
   "cell_type": "markdown",
   "id": "bd9fd23b",
   "metadata": {},
   "source": [
    "### Задача 3 (medium)\n",
    "Описание: \n",
    "- url: https://leetcode.com/problems/best-time-to-buy-and-sell-stock-ii/\n",
    "- Дан массив prices, в котором prices[i] цена акции в i-й день. Вы хотите максимизировать результат покупки и продажи акции за все текущее время, выбирая другой день в будущем с лучшей ценой. Покупка и продажа может быть соверщена в один и тот же день. Вернуть лучшее значение в результате таких продаж."
   ]
  },
  {
   "cell_type": "code",
   "execution_count": 35,
   "id": "66b19998",
   "metadata": {},
   "outputs": [],
   "source": [
    "class Solution:\n",
    "    def maxProfit(self, prices: List[int]) -> int:\n",
    "        answer = 0\n",
    "        min_val = prices[0]\n",
    "        for i in range(len(prices)):\n",
    "            if min_val>prices[i]:\n",
    "                min_val = prices[i]\n",
    "            if prices[i]-min_val>0:\n",
    "                answer += prices[i]-min_val\n",
    "                min_val = prices[i]\n",
    "        return answer"
   ]
  },
  {
   "cell_type": "markdown",
   "id": "fb1f9d9d",
   "metadata": {},
   "source": [
    "### Задача 4 (hard)\n",
    "Описание: \n",
    "- url: https://leetcode.com/problems/edit-distance/\n",
    "- Даны две строки word1 и word2. Вернуть минимальное значение операций, которые необходимо совершить чтобы из word1 получилась word2. \n",
    "\n",
    "Есть 3 операции со словами: \n",
    "- вставить символ\n",
    "- удалить символ\n",
    "- обменять символ"
   ]
  },
  {
   "cell_type": "code",
   "execution_count": 36,
   "id": "9ded3909",
   "metadata": {},
   "outputs": [],
   "source": [
    "class Solution:\n",
    "    def minDistance(self, word1: str, word2: str) -> int:\n",
    "        n = len(word1)\n",
    "        m = len(word2)\n",
    "        d = [\n",
    "            [0 for _ in range(m + 1)] for _ in range(n + 1)\n",
    "        ]\n",
    "\n",
    "        for i in range(n + 1):\n",
    "            d[i][0] = i\n",
    "\n",
    "        for i in range(m + 1):\n",
    "            d[0][i] = i\n",
    "\n",
    "        for i in range(1, n + 1):\n",
    "            for j in range(1, m + 1):\n",
    "                c = 0 if word1[i - 1] == word2[j - 1] else 1\n",
    "\n",
    "                d[i][j] = min(\n",
    "                    d[i - 1][j] + 1,\n",
    "                    d[i][j - 1] + 1,\n",
    "                    d[i - 1][j - 1] + c\n",
    "                )\n",
    "\n",
    "        return d[n][m]"
   ]
  },
  {
   "cell_type": "markdown",
   "id": "20c525eb",
   "metadata": {},
   "source": [
    "### Задача 5 (hard)\n",
    "Описание: \n",
    "- url: https://leetcode.com/problems/best-time-to-buy-and-sell-stock-iii/\n",
    "- Дан массив prices, в котором prices[i] цена акции в i-й день. Вы хотите максимизировать результат покупки и продажи акции за 2 обмена, выбирая другой день в будущем с лучшей ценой. Покупка и продажа может быть соверщена в один и тот же день. Вернуть лучшее значение в результате таких продаж."
   ]
  },
  {
   "cell_type": "code",
   "execution_count": 37,
   "id": "d6bab7e0",
   "metadata": {},
   "outputs": [],
   "source": [
    "class Solution:\n",
    "    def maxProfit(self, prices: List[int]) -> int:\n",
    "        k = 2\n",
    "        sell = [0] * (k+1)\n",
    "        hold = [float('-inf')] * (k+1)\n",
    "\n",
    "        for i in range(len(prices)):\n",
    "            # Для каждого нового значения в списке перечитываем итог\n",
    "            for j in range(k, 0, -1):\n",
    "                # считаем максимальную цену продажи из текущей и суммы из ожидания с новым значением\n",
    "                sell[j] = max(sell[j], hold[j]+prices[i])\n",
    "                # считаем максимальное значение ожидания из текущего и предыдущей цены продажи минус текущее значение\n",
    "                hold[j] = max(hold[j], sell[j - 1] - prices[i])\n",
    "\n",
    "        return sell[k]"
   ]
  },
  {
   "cell_type": "code",
   "execution_count": null,
   "id": "e1a2b967",
   "metadata": {},
   "outputs": [],
   "source": []
  },
  {
   "cell_type": "code",
   "execution_count": null,
   "id": "c21a93a5",
   "metadata": {},
   "outputs": [],
   "source": []
  },
  {
   "cell_type": "code",
   "execution_count": null,
   "id": "1a546a1a",
   "metadata": {},
   "outputs": [],
   "source": []
  },
  {
   "cell_type": "code",
   "execution_count": null,
   "id": "75e55a56",
   "metadata": {},
   "outputs": [],
   "source": []
  },
  {
   "cell_type": "code",
   "execution_count": null,
   "id": "e48b6be4",
   "metadata": {},
   "outputs": [],
   "source": []
  },
  {
   "cell_type": "code",
   "execution_count": null,
   "id": "8dd18c7a",
   "metadata": {},
   "outputs": [],
   "source": []
  },
  {
   "cell_type": "code",
   "execution_count": null,
   "id": "94fbef1e",
   "metadata": {},
   "outputs": [],
   "source": []
  },
  {
   "cell_type": "code",
   "execution_count": null,
   "id": "f990d655",
   "metadata": {},
   "outputs": [],
   "source": []
  },
  {
   "cell_type": "code",
   "execution_count": null,
   "id": "fac19dbc",
   "metadata": {},
   "outputs": [],
   "source": []
  },
  {
   "cell_type": "code",
   "execution_count": null,
   "id": "9945410c",
   "metadata": {},
   "outputs": [],
   "source": []
  },
  {
   "cell_type": "code",
   "execution_count": null,
   "id": "b0543292",
   "metadata": {},
   "outputs": [],
   "source": []
  },
  {
   "cell_type": "code",
   "execution_count": null,
   "id": "f4fd8100",
   "metadata": {},
   "outputs": [],
   "source": []
  },
  {
   "cell_type": "code",
   "execution_count": null,
   "id": "d292bf13",
   "metadata": {},
   "outputs": [],
   "source": []
  },
  {
   "cell_type": "code",
   "execution_count": null,
   "id": "5fc623f1",
   "metadata": {},
   "outputs": [],
   "source": []
  },
  {
   "cell_type": "code",
   "execution_count": null,
   "id": "01c56b01",
   "metadata": {},
   "outputs": [],
   "source": []
  },
  {
   "cell_type": "code",
   "execution_count": null,
   "id": "173f5eca",
   "metadata": {},
   "outputs": [],
   "source": []
  },
  {
   "cell_type": "code",
   "execution_count": null,
   "id": "777e4164",
   "metadata": {},
   "outputs": [],
   "source": []
  }
 ],
 "metadata": {
  "kernelspec": {
   "display_name": "Python 3",
   "language": "python",
   "name": "python3"
  },
  "language_info": {
   "codemirror_mode": {
    "name": "ipython",
    "version": 3
   },
   "file_extension": ".py",
   "mimetype": "text/x-python",
   "name": "python",
   "nbconvert_exporter": "python",
   "pygments_lexer": "ipython3",
   "version": "3.7.13"
  }
 },
 "nbformat": 4,
 "nbformat_minor": 5
}
