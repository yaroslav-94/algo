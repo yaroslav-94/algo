{
 "cells": [
  {
   "cell_type": "code",
   "execution_count": null,
   "id": "94cd8f9a",
   "metadata": {},
   "outputs": [],
   "source": []
  },
  {
   "cell_type": "markdown",
   "id": "5abb4994",
   "metadata": {},
   "source": [
    "### Задача 1\n",
    "Описание: \n",
    "- url: https://leetcode.com/problems/count-negative-numbers-in-a-sorted-matrix/\n",
    "- Дан заголовок односвязного списка, вернуть средний узел связанного списка. Если есть два средних узла, вернуть второй средний узел."
   ]
  },
  {
   "cell_type": "code",
   "execution_count": 4,
   "id": "7e96aded",
   "metadata": {},
   "outputs": [],
   "source": [
    "from typing import Optional\n",
    "\n",
    "# Definition for singly-linked list.\n",
    "class ListNode:\n",
    "    def __init__(self, val=0, next=None):\n",
    "        self.val = val\n",
    "        self.next = next\n",
    "\n",
    "class Solution:\n",
    "    def middleNode(self, head: Optional[ListNode]) -> Optional[ListNode]:\n",
    "        len_list = 1\n",
    "        var = head.next\n",
    "        while var is not None:\n",
    "            var = var.next\n",
    "            len_list += 1\n",
    "        if len_list > 1:\n",
    "            len_list = len_list//2 - 1\n",
    "            var = head.next\n",
    "            while len_list > 0:\n",
    "                var = var.next\n",
    "                len_list -= 1\n",
    "        else:\n",
    "            var = head\n",
    "        return var\n",
    "    \n",
    "# a = Solution()\n",
    "# assert a.middleNode(head = [1,2,3,4,5]) == [3, 4, 5], \"Test 1\"\n",
    "# assert a.middleNode(head = [1,2,3,4,5,6]) == [4,5,6], \"Test 2\""
   ]
  },
  {
   "cell_type": "markdown",
   "id": "c3862d5a",
   "metadata": {},
   "source": [
    "### Задача 2\n",
    "Описание: \n",
    "- url: https://leetcode.com/problems/linked-list-cycle\n",
    "- Дан заголовок односвязного списка, определить есть ли в списке цикл. В связанном списке есть цикл, если в списке есть какой-то узел, к которому можно снова добраться, непрерывно следуя за следующим указателем. Внутри pos используется для обозначения индекса узла, к которому подключен следующий указатель tail. Обратите внимание, что pos не передается в качестве параметра. Вернуть True, если в связанном списке есть цикл. В противном случае вернуть False."
   ]
  },
  {
   "cell_type": "code",
   "execution_count": 5,
   "id": "cad319b9",
   "metadata": {},
   "outputs": [],
   "source": [
    "from typing import Optional\n",
    "\n",
    "# Definition for singly-linked list.\n",
    "class ListNode:\n",
    "    def __init__(self, val=0, next=None):\n",
    "        self.val = val\n",
    "        self.next = next\n",
    "\n",
    "class Solution:\n",
    "    def hasCycle(self, head: Optional[ListNode]) -> bool:\n",
    "        if head is None or head.next is None:\n",
    "                return False\n",
    "        tort = head.next\n",
    "        hare = head.next.next\n",
    "        while tort != hare:\n",
    "            if hare is None or hare.next is None:\n",
    "                return False\n",
    "            tort = tort.next\n",
    "            hare = hare.next.next\n",
    "        return True"
   ]
  },
  {
   "cell_type": "markdown",
   "id": "c05ac808",
   "metadata": {},
   "source": [
    "### Задача 3 (medium)\n",
    "Описание: \n",
    "- url: https://leetcode.com/problems/odd-even-linked-list\n",
    "- Дан заголовок односвязного списка, сгруппируйте вместе все узлы с нечетными индексами, за которыми следуют узлы с четными индексами, и верните переупорядоченный список. Первый узел считается нечетным, второй — четным и так далее. Обратите внимание, что относительный порядок внутри как четных, так и нечетных групп должен оставаться таким же, как и во входных данных. Вы должны решить задачу за O(1) дополнительную пространственную сложность и O(n) временную сложность."
   ]
  },
  {
   "cell_type": "code",
   "execution_count": 6,
   "id": "2aec10f8",
   "metadata": {},
   "outputs": [],
   "source": [
    "from typing import Optional\n",
    "\n",
    "# Definition for singly-linked list.\n",
    "class ListNode:\n",
    "    def __init__(self, val=0, next=None):\n",
    "        self.val = val\n",
    "        self.next = next\n",
    "\n",
    "class Solution:\n",
    "    def oddEvenList(self, head: Optional[ListNode]) -> Optional[ListNode]:\n",
    "        # Создаем указатели на список с четными и нечетными номерами\n",
    "        odd_head = ListNode(0)\n",
    "        odd = odd_head\n",
    "\n",
    "        even_head = ListNode(0)\n",
    "        even = even_head\n",
    "        \n",
    "        i = 1\n",
    "        while head is not None:\n",
    "            if i%2==1:\n",
    "                odd.next = head\n",
    "                odd = head\n",
    "            else:\n",
    "                even.next = head\n",
    "                even = head\n",
    "            head = head.next\n",
    "            i += 1\n",
    "            \n",
    "        # Сшиваем новые списки\n",
    "        even.next = None\n",
    "        odd.next = even_head.next\n",
    "        \n",
    "        return odd_head.next"
   ]
  },
  {
   "cell_type": "markdown",
   "id": "5804c93e",
   "metadata": {},
   "source": [
    "### Задача 4 (medium)\n",
    "Описание: \n",
    "- url: https://leetcode.com/problems/linked-list-cycle-ii\n",
    "- Дан заголовок односвязного списка, вернуть указатель с которого начинается цикл, если его нет вернуть None. В связанном списке есть цикл, если в списке есть какой-то узел, к которому можно снова добраться, непрерывно следуя за следующим указателем. Внутри pos используется для обозначения индекса узла, к которому подключен следующий указатель хвоста (0-индексированный). Это -1, если нет цикла. Обратите внимание, что pos не передается в качестве параметра. Не изменяйте связанный список."
   ]
  },
  {
   "cell_type": "code",
   "execution_count": 7,
   "id": "a4390f9a",
   "metadata": {},
   "outputs": [],
   "source": [
    "from typing import Optional\n",
    "\n",
    "# Definition for singly-linked list.\n",
    "class ListNode:\n",
    "    def __init__(self, val=0, next=None):\n",
    "        self.val = val\n",
    "        self.next = next\n",
    "\n",
    "class Solution:\n",
    "    def detectCycle(self, head: Optional[ListNode]) -> Optional[ListNode]:\n",
    "        tort = head\n",
    "        hare = head\n",
    "        while hare and hare.next:\n",
    "            hare = hare.next.next\n",
    "            tort = tort.next\n",
    "            if tort == hare:\n",
    "                break\n",
    "        if not hare or not hare.next:\n",
    "            return None\n",
    "\n",
    "        tort = head\n",
    "        while tort != hare:\n",
    "            tort = tort.next\n",
    "            hare = hare.next\n",
    "\n",
    "        return hare"
   ]
  },
  {
   "cell_type": "code",
   "execution_count": null,
   "id": "be738b92",
   "metadata": {},
   "outputs": [],
   "source": []
  },
  {
   "cell_type": "code",
   "execution_count": null,
   "id": "612eaa71",
   "metadata": {},
   "outputs": [],
   "source": []
  },
  {
   "cell_type": "code",
   "execution_count": null,
   "id": "fa9c1463",
   "metadata": {},
   "outputs": [],
   "source": []
  },
  {
   "cell_type": "code",
   "execution_count": null,
   "id": "bfb7b4e7",
   "metadata": {},
   "outputs": [],
   "source": []
  }
 ],
 "metadata": {
  "kernelspec": {
   "display_name": "Python 3",
   "language": "python",
   "name": "python3"
  },
  "language_info": {
   "codemirror_mode": {
    "name": "ipython",
    "version": 3
   },
   "file_extension": ".py",
   "mimetype": "text/x-python",
   "name": "python",
   "nbconvert_exporter": "python",
   "pygments_lexer": "ipython3",
   "version": "3.7.13"
  }
 },
 "nbformat": 4,
 "nbformat_minor": 5
}
