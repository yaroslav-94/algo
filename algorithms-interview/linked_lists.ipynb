{
 "cells": [
  {
   "cell_type": "code",
   "execution_count": null,
   "id": "94cd8f9a",
   "metadata": {},
   "outputs": [],
   "source": []
  },
  {
   "cell_type": "markdown",
   "id": "5abb4994",
   "metadata": {},
   "source": [
    "### Задача 1\n",
    "Описание: \n",
    "- url: https://leetcode.com/problems/count-negative-numbers-in-a-sorted-matrix/\n",
    "- Дан заголовок односвязного списка, вернуть средний узел связанного списка. Если есть два средних узла, вернуть второй средний узел."
   ]
  },
  {
   "cell_type": "code",
   "execution_count": null,
   "id": "7e96aded",
   "metadata": {},
   "outputs": [],
   "source": [
    "# Definition for singly-linked list.\n",
    "# class ListNode:\n",
    "#     def __init__(self, val=0, next=None):\n",
    "#         self.val = val\n",
    "#         self.next = next\n",
    "class Solution:\n",
    "    def middleNode(self, head: Optional[ListNode]) -> Optional[ListNode]:\n",
    "        len_list = 1\n",
    "        var = head.next\n",
    "        while var is not None:\n",
    "            var = var.next\n",
    "            len_list += 1\n",
    "        if len_list > 1:\n",
    "            len_list = len_list//2 - 1\n",
    "            var = head.next\n",
    "            while len_list > 0:\n",
    "                var = var.next\n",
    "                len_list -= 1\n",
    "        else:\n",
    "            var = head\n",
    "        return var\n",
    "    \n",
    "a = Solution()\n",
    "assert a.middleNode(head = [1,2,3,4,5]) == [3, 4, 5], \"Test 1\"\n",
    "assert a.middleNode(head = [1,2,3,4,5,6]) == [4,5,6], \"Test 2\""
   ]
  },
  {
   "cell_type": "code",
   "execution_count": null,
   "id": "0f835509",
   "metadata": {},
   "outputs": [],
   "source": []
  },
  {
   "cell_type": "code",
   "execution_count": null,
   "id": "2aec10f8",
   "metadata": {},
   "outputs": [],
   "source": [
    "class Solution:\n",
    "    def oddEvenList(self, head: Optional[ListNode]) -> Optional[ListNode]:\n",
    "        # создаем head для четных позиций в отдельный\n",
    "        # добавляем в него все нужные элементы\n",
    "        # в конце добавляем остатки\n",
    "        odd = head\n",
    "        even = head.next\n",
    "        even_head = even\n",
    "        while even is not None and odd is not None:\n",
    "            odd.next = even.next\n",
    "            odd = odd.next\n",
    "            even.next = odd.next\n",
    "            even = even.next\n",
    "        odd.next = even_head\n",
    "        return head\n",
    "            \n",
    "        "
   ]
  },
  {
   "cell_type": "code",
   "execution_count": null,
   "id": "1c0d4d27",
   "metadata": {},
   "outputs": [],
   "source": [
    "public class Solution {\n",
    "    public ListNode oddEvenList(ListNode head) {\n",
    "        if (head == null) return null;\n",
    "        ListNode odd = head, even = head.next, evenHead = even;\n",
    "        while (even != null && even.next != null) {\n",
    "            odd.next = even.next;\n",
    "            odd = odd.next;\n",
    "            even.next = odd.next;\n",
    "            even = even.next;\n",
    "        }\n",
    "        odd.next = evenHead;\n",
    "        return head;\n",
    "    }\n",
    "}"
   ]
  },
  {
   "cell_type": "code",
   "execution_count": null,
   "id": "a4390f9a",
   "metadata": {},
   "outputs": [],
   "source": [
    "1-2-3-4-5\n",
    "1-3-2-4-5\n",
    "1-3-4-2-5\n",
    "1-3-4-5-2"
   ]
  },
  {
   "cell_type": "code",
   "execution_count": null,
   "id": "be738b92",
   "metadata": {},
   "outputs": [],
   "source": []
  },
  {
   "cell_type": "code",
   "execution_count": null,
   "id": "9e8a7c0f",
   "metadata": {},
   "outputs": [],
   "source": []
  },
  {
   "cell_type": "code",
   "execution_count": null,
   "id": "cad319b9",
   "metadata": {},
   "outputs": [],
   "source": []
  },
  {
   "cell_type": "code",
   "execution_count": null,
   "id": "612eaa71",
   "metadata": {},
   "outputs": [],
   "source": []
  },
  {
   "cell_type": "code",
   "execution_count": null,
   "id": "fa9c1463",
   "metadata": {},
   "outputs": [],
   "source": []
  },
  {
   "cell_type": "code",
   "execution_count": null,
   "id": "bfb7b4e7",
   "metadata": {},
   "outputs": [],
   "source": []
  }
 ],
 "metadata": {
  "kernelspec": {
   "display_name": "Python 3",
   "language": "python",
   "name": "python3"
  },
  "language_info": {
   "codemirror_mode": {
    "name": "ipython",
    "version": 3
   },
   "file_extension": ".py",
   "mimetype": "text/x-python",
   "name": "python",
   "nbconvert_exporter": "python",
   "pygments_lexer": "ipython3",
   "version": "3.7.13"
  }
 },
 "nbformat": 4,
 "nbformat_minor": 5
}
