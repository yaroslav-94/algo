{
 "cells": [
  {
   "cell_type": "markdown",
   "id": "59283ff6",
   "metadata": {},
   "source": [
    "# Python lib\n",
    "Url: https://docs.python.org/3/library/heapq.html#heapq.heapify"
   ]
  },
  {
   "cell_type": "markdown",
   "id": "face787e",
   "metadata": {},
   "source": [
    "### Задача 1\n",
    "Описание: \n",
    "- url: https://leetcode.com/problems/maximum-product-of-two-elements-in-an-array/\n",
    "- Дан массив целых чисел nums. Вернуть максимальное значение (nums[i]-1)*(nums[j]-1), где i и j индексы элемнтов в массиве."
   ]
  },
  {
   "cell_type": "code",
   "execution_count": 13,
   "id": "f5074884",
   "metadata": {},
   "outputs": [],
   "source": [
    "from typing import List\n",
    "\n",
    "\n",
    "class Solution:\n",
    "    def maxProduct(self, nums: List[int]) -> int:\n",
    "        import heapq\n",
    "        \n",
    "        h = list(map(lambda x: x*-1, nums))\n",
    "        heapq.heapify(h)\n",
    "        return (-heapq.heappop(h)-1)*(-heapq.heappop(h)-1)\n",
    "    \n",
    "a = Solution()\n",
    "assert a.maxProduct(nums = [3,4,5,2]) == 12, \"Test 1\"\n",
    "assert a.maxProduct(nums = [1,5,4,5]) == 16, \"Test 2\"\n",
    "assert a.maxProduct(nums = [3,7]) == 12, \"Test 2\""
   ]
  },
  {
   "cell_type": "markdown",
   "id": "747908a1",
   "metadata": {},
   "source": [
    "### Задача 2\n",
    "Описание: \n",
    "- url: https://leetcode.com/problems/make-array-zero-by-subtracting-equal-amounts/\n",
    "- Дан неотрицательный целочисленный массив nums. За одну операцию необходимо:\n",
    "    - Выбрать положительное целое число x такое, что x меньше или равно наименьшему ненулевому элементу в nums.\n",
    "    - Вычесть x из каждого положительного элемента в nums.\n",
    "Вернутьет минимальное количество операций, чтобы сделать каждый элемент в nums равным 0."
   ]
  },
  {
   "cell_type": "code",
   "execution_count": 14,
   "id": "93df551c",
   "metadata": {},
   "outputs": [],
   "source": [
    "from typing import List\n",
    "\n",
    "\n",
    "class Solution:\n",
    "    def minimumOperations(self, nums: List[int]) -> int:\n",
    "        import heapq\n",
    "        \n",
    "        heapq.heapify(nums)\n",
    "        acc = 0\n",
    "        while nums:\n",
    "            min_el = heapq.heappop(nums)\n",
    "            if min_el != 0:\n",
    "                nums = list(map(lambda x: x-min_el, nums))\n",
    "                acc += 1\n",
    "        return acc\n",
    "        \n",
    "    \n",
    "a = Solution()\n",
    "assert a.minimumOperations(nums = [1,5,0,3,5]) == 3, \"Test 1\"\n",
    "assert a.minimumOperations(nums = [0]) == 0, \"Test 2\""
   ]
  },
  {
   "cell_type": "markdown",
   "id": "365d8a72",
   "metadata": {},
   "source": [
    "### Задача 3\n",
    "Описание: \n",
    "- url: https://leetcode.com/problems/last-stone-weight/\n",
    "- Дан массив камней с целыми числами, где stone[i] — вес i-го камня. Мы играем в игру с камнями. На каждом ходу мы выбираем два самых тяжелых камня и сталкиваем их вместе. Предположим, что два самых тяжелых камня имеют веса x и y, причем x <= y. Результат этого удара:\n",
    "    - Если x == y, оба камня уничтожаются, и\n",
    "    - Если x != y, то камень веса x уничтожается, а камень веса y имеет новый вес y - x.\n",
    "    \n",
    "В конце игры остается не более одного камня. Верните вес последнего оставшегося камня. Если камней не осталось, вернуть 0."
   ]
  },
  {
   "cell_type": "code",
   "execution_count": 15,
   "id": "ba544308",
   "metadata": {},
   "outputs": [],
   "source": [
    "from typing import List\n",
    "\n",
    "\n",
    "class Solution:\n",
    "    def lastStoneWeight(self, stones: List[int]) -> int:\n",
    "        import heapq\n",
    "        \n",
    "        h = list(map(lambda x: x*-1, stones))\n",
    "        heapq.heapify(h)\n",
    "        while len(h)>1:\n",
    "            stone1 = heapq.heappop(h)\n",
    "            stone2 = heapq.heappop(h)\n",
    "            if stone1 != stone2:\n",
    "                heapq.heappush(h, stone1-stone2)\n",
    "        \n",
    "        return -heapq.heappop(h) if h  else 0\n",
    "    \n",
    "\n",
    "a = Solution()\n",
    "assert a.lastStoneWeight(stones = [2,7,4,1,8,1]) == 1, \"Test 1\"\n",
    "assert a.lastStoneWeight(stones = [1]) == 1, \"Test 2\"\n",
    "assert a.lastStoneWeight(stones = [2, 2]) == 0, \"Test 3\""
   ]
  },
  {
   "cell_type": "markdown",
   "id": "d470a7b3",
   "metadata": {},
   "source": [
    "### Задача 4 (medium)\n",
    "Описание: \n",
    "- url: https://leetcode.com/problems/max-sum-of-a-pair-with-equal-sum-of-digits/\n",
    "- Дан непустой массив nums, состоящий из положительных целых чисел. Вы можете выбрать два индекса i и j, такие что i != j, и сумма цифр числа nums[i] равна сумме цифр nums[j]. Вернуть максимальное значение nums[i] + nums[j], которое можно получить по всем возможным индексам i и j, удовлетворяющим условиям."
   ]
  },
  {
   "cell_type": "code",
   "execution_count": 16,
   "id": "fdf170d4",
   "metadata": {},
   "outputs": [],
   "source": [
    "from typing import List\n",
    "\n",
    "\n",
    "class Solution:\n",
    "    def maximumSum(self, nums: List[int]) -> int:\n",
    "        import heapq\n",
    "        \n",
    "        h = []\n",
    "        for i in nums:\n",
    "            sum_nums = 0\n",
    "            new_num = i\n",
    "            while new_num:\n",
    "                sum_nums += new_num%10\n",
    "                new_num = new_num//10\n",
    "            h.append((-sum_nums, -i))\n",
    "            \n",
    "        heapq.heapify(h)\n",
    "        \n",
    "        answer = -1\n",
    "        old_num = heapq.heappop(h)\n",
    "        while h:\n",
    "            new_num = heapq.heappop(h)\n",
    "            if old_num[0] == new_num[0] and (-old_num[1]-new_num[1])>answer:\n",
    "                answer = -old_num[1]-new_num[1]\n",
    "            old_num = new_num\n",
    "        return answer\n",
    "        \n",
    "            \n",
    "    \n",
    "    \n",
    "a = Solution()\n",
    "assert a.maximumSum(nums = [18,43,36,13,7]) == 54, \"Test 1\"\n",
    "assert a.maximumSum(nums = [10,12,19,14]) == -1, \"Test 2\""
   ]
  },
  {
   "cell_type": "markdown",
   "id": "e6633a5e",
   "metadata": {},
   "source": [
    "### Задача 5\n",
    "Описание: \n",
    "- url: https://leetcode.com/problems/relative-ranks/\n",
    "- Дан целочисленный массив очков размера n, где score[i] — это результат i-го спортсмена в соревновании. Все результаты гарантированно уникальны. Спортсмены размещаются на основе их результатов, где спортсмен, занявший 1-е место, имеет наивысший балл, спортсмен, занявший 2-е место, имеет 2-е место и так далее. Место каждого спортсмена определяет его ранг:\n",
    "    - Спортсмену 1-го места звание «Золотая медаль».\n",
    "    - Спортсмену, занявшему 2 место, присвоено звание «Серебряная медаль».\n",
    "    - Спортсмену, занявшему 3-е место, звание «Бронзовая медаль».\n",
    "    - Для спортсменов, занявших места с 4-го по n-е, их ранг равен их номеру места (т. Е. Ранг спортсмена, занявшего x-е место, равен «x»).\n",
    "    \n",
    "Вернуть массив ответов размера n, где answer[i] — это ранг i-го спортсмена."
   ]
  },
  {
   "cell_type": "code",
   "execution_count": 17,
   "id": "1a13e5b0",
   "metadata": {},
   "outputs": [],
   "source": [
    "from typing import List\n",
    "\n",
    "\n",
    "class Solution:\n",
    "    def findRelativeRanks(self, score: List[int]) -> List[str]:\n",
    "        import heapq\n",
    "        \n",
    "        h = list(map(lambda x: x*-1, score))\n",
    "        heapq.heapify(h)\n",
    "        answer = [0 for _ in range(len(score))]\n",
    "        for i in range(len(score)):\n",
    "            val_score = -heapq.heappop(h)\n",
    "            if i == 0:\n",
    "                answer[score.index(val_score)] = \"Gold Medal\"\n",
    "            elif i == 1:\n",
    "                answer[score.index(val_score)] = \"Silver Medal\"\n",
    "            elif i == 2:\n",
    "                answer[score.index(val_score)] = \"Bronze Medal\"\n",
    "            else:\n",
    "                answer[score.index(val_score)] = str(i+1)\n",
    "\n",
    "        return answer\n",
    "    \n",
    "    \n",
    "a = Solution()\n",
    "assert a.findRelativeRanks(score = [5,4,3,2,1]) == [\"Gold Medal\",\"Silver Medal\",\"Bronze Medal\",\"4\",\"5\"], \"Test 1\"\n",
    "assert a.findRelativeRanks(score = [10,3,8,9,4]) == [\"Gold Medal\",\"5\",\"Bronze Medal\",\"Silver Medal\",\"4\"], \"Test 2\""
   ]
  },
  {
   "cell_type": "markdown",
   "id": "6f9eef72",
   "metadata": {},
   "source": [
    "### Задача 6 (medium)\n",
    "Описание: \n",
    "- url: https://leetcode.com/problems/kth-largest-element-in-an-array/\n",
    "- Дан массив целых чисел nums и целое число k, вернуть k-й по величине элемент в массиве. Обратите внимание, что это k-й по величине элемент в отсортированном порядке, а не k-й отдельный элемент. Вы должны решить его за время O(n) сложности."
   ]
  },
  {
   "cell_type": "code",
   "execution_count": 18,
   "id": "8c59e4bb",
   "metadata": {},
   "outputs": [],
   "source": [
    "from typing import List\n",
    "\n",
    "\n",
    "# class Solution:\n",
    "#     def findKthLargest(self, nums: List[int], k: int) -> int:\n",
    "#         import heapq\n",
    "        \n",
    "#         h = list(map(lambda x: x*-1, nums))\n",
    "#         heapq.heapify(h)\n",
    "#         answer = -heapq.nsmallest(k, h)[-1]\n",
    "#         return answer\n",
    "    \n",
    "    \n",
    "class Solution:\n",
    "    def findKthLargest(self, nums: List[int], k: int) -> int:\n",
    "        import heapq\n",
    "        \n",
    "        heapq.heapify(nums)\n",
    "        answer = heapq.nlargest(k, nums)[-1]\n",
    "        return answer\n",
    "    \n",
    "    \n",
    "a = Solution()\n",
    "assert a.findKthLargest(nums = [3,2,1,5,6,4], k = 2) == 5, \"Test 1\"\n",
    "assert a.findKthLargest(nums = [3,2,3,1,2,4,5,5,6], k = 4) == 4, \"Test 2 \""
   ]
  },
  {
   "cell_type": "markdown",
   "id": "a38cecd0",
   "metadata": {},
   "source": [
    "### Задача 7 (medium)\n",
    "Описание: \n",
    "- url: https://leetcode.com/problems/find-k-pairs-with-smallest-sums/\n",
    "- Даны два массива целых чисел nums1 и nums2, отсортированные в порядке возрастания, и целое число k. Определите пару (u, v), которая состоит из одного элемента из первого массива и одного элемента из второго массива. Верните k пар (u1, v1), (u2, v2), ..., (uk, vk) с наименьшими суммами."
   ]
  },
  {
   "cell_type": "code",
   "execution_count": 19,
   "id": "3b3484c1",
   "metadata": {},
   "outputs": [],
   "source": [
    "from typing import List\n",
    "\n",
    "\n",
    "class Solution:\n",
    "    def kSmallestPairs(self, nums1: List[int], nums2: List[int], k: int) -> List[List[int]]:\n",
    "        import heapq\n",
    "        \n",
    "        arr = [[nums1[i]+nums2[0],i,0] for i in range(len(nums1))]\n",
    "        heapq.heapify(arr)\n",
    "        j = 0 \n",
    "        answer = []\n",
    "        while k>0 and len(arr)>0:\n",
    "            s, i, j = heapq.heappop(arr)\n",
    "            answer.append([nums1[i], nums2[j]])\n",
    "            j += 1\n",
    "            if j<len(nums2):\n",
    "                heapq.heappush(arr, [nums1[i]+nums2[j], i, j])\n",
    "                \n",
    "            k -= 1\n",
    "        \n",
    "        return answer\n",
    "    \n",
    "    \n",
    "a = Solution()\n",
    "assert a.kSmallestPairs(nums1 = [1,1,2], nums2 = [1,2,3], k = 2) == [[1,1],[1,1]], \"Test 1\"\n",
    "assert a.kSmallestPairs(nums1 = [1,2], nums2 = [3], k = 7) == [[1,3],[2,3]], \"Test 2\"\n",
    "assert a.kSmallestPairs(nums1 = [1,7,11], nums2 = [2,4,6], k = 3) == [[1,2],[1,4],[1,6]], \"Test 3\"\n",
    "assert a.kSmallestPairs(nums1 = [1,2,4,5,6], nums2 = [3,5,7,9], k = 3) == [[1,3],[2,3],[1,5]], \"Test 4\""
   ]
  },
  {
   "cell_type": "markdown",
   "id": "c505b9b7",
   "metadata": {},
   "source": [
    "### Задача 8 (hard)\n",
    "Описание: \n",
    "- url: https://leetcode.com/problems/find-the-kth-smallest-sum-of-a-matrix-with-sorted-rows/\n",
    "- Дана матрица размера m x n, строки которой отсортированы в неубывающем порядке, и целое число k. Вы можете выбрать ровно один элемент из каждой строки, чтобы сформировать массив. Вернуть k-ю наименьшую сумму массивов среди всех возможных массивов."
   ]
  },
  {
   "cell_type": "code",
   "execution_count": 20,
   "id": "10f1434a",
   "metadata": {},
   "outputs": [
    {
     "name": "stdout",
     "output_type": "stream",
     "text": [
      "Time 0.0 s\n"
     ]
    }
   ],
   "source": [
    "from typing import List\n",
    "\n",
    "\n",
    "class Solution:\n",
    "    def kthSmallest(self, mat: List[List[int]], k: int) -> int:\n",
    "        import heapq\n",
    "        \n",
    "        def sum_two_lists(nums1: list, nums2: list, k: int):\n",
    "            \"\"\"\n",
    "            Take: 2 lists in non-decreasing order\n",
    "            Produce: list with minimum sums of 2 lists\n",
    "            Return: list with size less or equal k\n",
    "            \"\"\"\n",
    "            arr = [[nums1[i]+nums2[0],i,0] for i in range(len(nums1))]\n",
    "            heapq.heapify(arr)\n",
    "\n",
    "            answer = []\n",
    "            # execute sum and pair indexes\n",
    "            # push in heap increazed value for each root in heap\n",
    "            while k>0 and len(arr)>0:\n",
    "                s, i, j = heapq.heappop(arr)\n",
    "                answer.append(nums1[i]+nums2[j])\n",
    "                j += 1\n",
    "                if j<len(nums2):\n",
    "                    heapq.heappush(arr, [nums1[i]+nums2[j], i, j])\n",
    "                k -= 1\n",
    "                \n",
    "            return answer\n",
    "        \n",
    "        # for all pirs in strings count sum_two_lists\n",
    "        # update mat while shape more than 1, i.e. from matrix to vec\n",
    "        while len(mat)>1:\n",
    "            answer = []\n",
    "            for i in range(0, len(mat)//2, 1):\n",
    "                answer.append(sum_two_lists(mat[2*i], mat[2*i+1], k))\n",
    "\n",
    "            if len(mat)%2 == 1:\n",
    "                mat = [mat[-1]]\n",
    "                for i in range(len(answer)):\n",
    "                    mat.append(answer[i])\n",
    "            else:\n",
    "                mat = answer\n",
    "        \n",
    "        # mat is heap now\n",
    "        mat = mat[0]\n",
    "        answer = heapq.nsmallest(k, mat)\n",
    "        return answer[-1]\n",
    "        \n",
    "    \n",
    "    \n",
    "a = Solution()\n",
    "assert a.kthSmallest(mat = [[1,3,11],[2,4,6]], k = 5) == 7, \"Test 1\"\n",
    "assert a.kthSmallest(mat = [[1,3,11],[2,4,6]], k = 9) == 17, \"Test 2\"\n",
    "assert a.kthSmallest(mat = [[1,10,10],[1,4,5],[2,3,6]], k = 7) == 9, \"Test 3\"\n",
    "assert a.kthSmallest(mat = [[1,2,7,8,10],[4,4,5,5,6],[3,3,5,6,7],[2,4,7,9,9]], k = 7) == 11, \"Test 4\"\n",
    "assert a.kthSmallest(mat = [[2,7,8,10],[1,8,8,9],[5,6,10,10],[4,5,5,8],[1,3,4,8]], k = 15) == 17, \"Test 5\"\n",
    "assert a.kthSmallest(mat = [[1,10,10],[1,4,5],[2,3,6]], k = 14) == 16, \"Test 6\"\n",
    "import time\n",
    "t = time.time()\n",
    "assert a.kthSmallest(mat = [\n",
    "    [21,33,38,41,42,44,48,54,62],\n",
    "    [8,51,56,60,80,81,83,88,92],\n",
    "    [2,40,54,56,68,92,93,94,98],\n",
    "    [28,35,41,52,55,59,62,70,99],\n",
    "    [2,16,25,30,32,38,54,73,92],\n",
    "    [1,11,14,35,35,55,59,66,66],\n",
    "    [5,9,13,29,47,49,60,73,74],\n",
    "    [19,29,32,36,59,64,66,98,100]\n",
    "], k=29) == 106, \"Test 6\"\n",
    "print(\"Time {} s\".format(time.time()-t))"
   ]
  },
  {
   "cell_type": "markdown",
   "id": "7c1c9c16",
   "metadata": {},
   "source": [
    "### Задача 9\n",
    "Описание: \n",
    "- url: https://leetcode.com/problems/find-subsequence-of-length-k-with-the-largest-sum/\n",
    "- Дан целочисленный массив nums и целое число k. Вы хотите найти подпоследовательность чисел длины k, которая имеет наибольшую сумму. Возвратите любую такую подпоследовательность как целочисленный массив длины k. Подпоследовательность — это массив, который может быть получен из другого массива путем удаления некоторых элементов или их отсутствия без изменения порядка оставшихся элементов."
   ]
  },
  {
   "cell_type": "code",
   "execution_count": 21,
   "id": "0a440ae6",
   "metadata": {},
   "outputs": [],
   "source": [
    "from typing import List\n",
    "\n",
    "\n",
    "class Solution:\n",
    "    def maxSubsequence(self, nums: List[int], k: int) -> List[int]:\n",
    "        import heapq\n",
    "        \n",
    "        h = nums.copy()\n",
    "        heapq.heapify(h)\n",
    "        while len(nums)>k:\n",
    "            del_el = heapq.heappop(h)\n",
    "            del nums[nums.index(del_el)]\n",
    "        return nums\n",
    "    \n",
    "\n",
    "a = Solution()\n",
    "assert a.maxSubsequence(nums = [2,1,3,3], k = 2) == [3,3], \"Test 1\"\n",
    "assert a.maxSubsequence(nums = [-1,-2,3,4], k = 3) == [-1,3,4], \"Test 2\"\n",
    "assert a.maxSubsequence(nums = [3,4,3,3], k = 2) == [4, 3], \"Test 3\"\n",
    "assert a.maxSubsequence(nums = [-1,-2,3,4], k = 3) == [-1,3,4], \"Test 4\""
   ]
  },
  {
   "cell_type": "markdown",
   "id": "105ddcb6",
   "metadata": {},
   "source": [
    "### Задача 10 (medium)\n",
    "Описание: \n",
    "- url: https://leetcode.com/problems/maximum-score-from-removing-stones/\n",
    "- Вы играете в пасьянс с тремя кучками камней размеров a, b, и c соответственно. Каждый ход вы выбираете две разные непустые стопки, берете по одному камню из каждой и добавляете 1 очко к своему счету. Игра останавливается, когда остается менее двух непустых стопок (это означает, что больше нет доступных ходов). Даны три целых числа a, b, и c, верните максимальное количество баллов, которое вы можете получить."
   ]
  },
  {
   "cell_type": "code",
   "execution_count": 22,
   "id": "7b79ee23",
   "metadata": {},
   "outputs": [],
   "source": [
    "class Solution:\n",
    "    def maximumScore(self, a: int, b: int, c: int) -> int:\n",
    "        import heapq\n",
    "        \n",
    "        nums = [-a, -b, -c]\n",
    "        heapq.heapify(nums)\n",
    "        answer = 1\n",
    "        el_1 = heapq.heappop(nums)\n",
    "        el_2 = heapq.heappop(nums)\n",
    "        while el_1<0 and el_2<0:\n",
    "            el_1 += 1\n",
    "            el_2 += 1\n",
    "            answer += 1\n",
    "            heapq.heappush(nums, el_1)\n",
    "            heapq.heappush(nums, el_2)\n",
    "            el_1 = heapq.heappop(nums)\n",
    "            el_2 = heapq.heappop(nums)\n",
    "        return answer-1\n",
    "\n",
    "a = Solution()\n",
    "assert a.maximumScore(a = 2, b = 4, c = 6) == 6, \"Test 1\"\n",
    "assert a.maximumScore(a = 4, b = 4, c = 6) == 7, \"Test 2\"\n",
    "assert a.maximumScore(a = 1, b = 8, c = 8) == 8, \"Test 3\""
   ]
  },
  {
   "cell_type": "markdown",
   "id": "ff9f2848",
   "metadata": {},
   "source": [
    "### Задача 11 (medium)\n",
    "Описание: \n",
    "- url: https://leetcode.com/problems/remove-stones-to-minimize-the-total/\n",
    "- Дан целочисленный массив столбцов с индексом 0, где столбцы [i] представляют количество камней в i-м столбце, целое число k. Вы должны применить следующую операцию ровно k раз:\n",
    "    - Выберите любые стопки[i] и уберите из них напольные(кучки[i] / 2) камни.\n",
    "    \n",
    "Обратите внимание, что вы можете применить операцию к одной и той же стопке несколько раз. Вернуть минимально возможное общее количество камней, оставшихся после применения k операций. floor(x) — наибольшее целое число, меньшее или равное x (т. е. округляющее x в меньшую сторону)."
   ]
  },
  {
   "cell_type": "code",
   "execution_count": 7,
   "id": "e61607ca",
   "metadata": {},
   "outputs": [],
   "source": [
    "from typing import List\n",
    "\n",
    "\n",
    "class Solution:\n",
    "    def minStoneSum(self, piles: List[int], k: int) -> int:\n",
    "        import heapq\n",
    "        \n",
    "        piles = list(map(lambda x: x*-1, piles))\n",
    "        heapq.heapify(piles)\n",
    "        for _ in range(k):\n",
    "            value = heapq.heappop(piles)\n",
    "            heapq.heappush(piles, value//2)\n",
    "        return -sum(piles)\n",
    "        \n",
    "    \n",
    "\n",
    "a = Solution()\n",
    "assert a.minStoneSum(piles = [5,4,9], k = 2) == 12, \"Test 1\"\n",
    "assert a.minStoneSum(piles = [4,3,6,7], k = 3) == 12, \"Test 2\""
   ]
  },
  {
   "cell_type": "code",
   "execution_count": null,
   "id": "9b036081",
   "metadata": {},
   "outputs": [],
   "source": []
  },
  {
   "cell_type": "code",
   "execution_count": null,
   "id": "0db73d24",
   "metadata": {},
   "outputs": [],
   "source": []
  },
  {
   "cell_type": "code",
   "execution_count": null,
   "id": "37b644a0",
   "metadata": {},
   "outputs": [],
   "source": []
  },
  {
   "cell_type": "code",
   "execution_count": null,
   "id": "813bd0c5",
   "metadata": {},
   "outputs": [],
   "source": []
  },
  {
   "cell_type": "code",
   "execution_count": null,
   "id": "ab9053d5",
   "metadata": {},
   "outputs": [],
   "source": []
  },
  {
   "cell_type": "code",
   "execution_count": null,
   "id": "f2f3c5cc",
   "metadata": {},
   "outputs": [],
   "source": []
  },
  {
   "cell_type": "code",
   "execution_count": null,
   "id": "bfe09774",
   "metadata": {},
   "outputs": [],
   "source": []
  },
  {
   "cell_type": "code",
   "execution_count": null,
   "id": "6040d429",
   "metadata": {},
   "outputs": [],
   "source": []
  },
  {
   "cell_type": "code",
   "execution_count": null,
   "id": "9b2ba8ec",
   "metadata": {},
   "outputs": [],
   "source": []
  },
  {
   "cell_type": "code",
   "execution_count": null,
   "id": "e0f9932f",
   "metadata": {},
   "outputs": [],
   "source": []
  },
  {
   "cell_type": "code",
   "execution_count": null,
   "id": "7177832f",
   "metadata": {},
   "outputs": [],
   "source": []
  },
  {
   "cell_type": "code",
   "execution_count": null,
   "id": "d7036952",
   "metadata": {},
   "outputs": [],
   "source": []
  },
  {
   "cell_type": "code",
   "execution_count": null,
   "id": "8c48b911",
   "metadata": {},
   "outputs": [],
   "source": []
  },
  {
   "cell_type": "code",
   "execution_count": null,
   "id": "0963eb0a",
   "metadata": {},
   "outputs": [],
   "source": []
  }
 ],
 "metadata": {
  "kernelspec": {
   "display_name": "Python 3",
   "language": "python",
   "name": "python3"
  },
  "language_info": {
   "codemirror_mode": {
    "name": "ipython",
    "version": 3
   },
   "file_extension": ".py",
   "mimetype": "text/x-python",
   "name": "python",
   "nbconvert_exporter": "python",
   "pygments_lexer": "ipython3",
   "version": "3.7.13"
  }
 },
 "nbformat": 4,
 "nbformat_minor": 5
}
