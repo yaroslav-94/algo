{
 "cells": [
  {
   "cell_type": "markdown",
   "id": "59283ff6",
   "metadata": {},
   "source": [
    "# Python lib\n",
    "Url: https://docs.python.org/3/library/heapq.html#heapq.heapify"
   ]
  },
  {
   "cell_type": "markdown",
   "id": "face787e",
   "metadata": {},
   "source": [
    "### Задача 1\n",
    "Описание: \n",
    "- url: https://leetcode.com/problems/maximum-product-of-two-elements-in-an-array/\n",
    "- Дан массив целых чисел nums. Вернуть максимальное значение (nums[i]-1)*(nums[j]-1), где i и j индексы элемнтов в массиве."
   ]
  },
  {
   "cell_type": "code",
   "execution_count": 4,
   "id": "f5074884",
   "metadata": {},
   "outputs": [],
   "source": [
    "from typing import List\n",
    "\n",
    "\n",
    "class Solution:\n",
    "    def maxProduct(self, nums: List[int]) -> int:\n",
    "        import heapq\n",
    "        \n",
    "        h = list(map(lambda x: x*-1, nums))\n",
    "        heapq.heapify(h)\n",
    "        return (-heapq.heappop(h)-1)*(-heapq.heappop(h)-1)\n",
    "    \n",
    "a = Solution()\n",
    "assert a.maxProduct(nums = [3,4,5,2]) == 12, \"Test 1\"\n",
    "assert a.maxProduct(nums = [1,5,4,5]) == 16, \"Test 2\"\n",
    "assert a.maxProduct(nums = [3,7]) == 12, \"Test 2\""
   ]
  },
  {
   "cell_type": "markdown",
   "id": "747908a1",
   "metadata": {},
   "source": [
    "### Задача 2\n",
    "Описание: \n",
    "- url: https://leetcode.com/problems/make-array-zero-by-subtracting-equal-amounts/\n",
    "- Дан неотрицательный целочисленный массив nums. За одну операцию необходимо:\n",
    "    - Выбрать положительное целое число x такое, что x меньше или равно наименьшему ненулевому элементу в nums.\n",
    "    - Вычесть x из каждого положительного элемента в nums.\n",
    "Вернутьет минимальное количество операций, чтобы сделать каждый элемент в nums равным 0."
   ]
  },
  {
   "cell_type": "code",
   "execution_count": 5,
   "id": "93df551c",
   "metadata": {},
   "outputs": [],
   "source": [
    "from typing import List\n",
    "\n",
    "\n",
    "class Solution:\n",
    "    def minimumOperations(self, nums: List[int]) -> int:\n",
    "        import heapq\n",
    "        \n",
    "        heapq.heapify(nums)\n",
    "        acc = 0\n",
    "        while nums:\n",
    "            min_el = heapq.heappop(nums)\n",
    "            if min_el != 0:\n",
    "                nums = list(map(lambda x: x-min_el, nums))\n",
    "                acc += 1\n",
    "        return acc\n",
    "        \n",
    "    \n",
    "a = Solution()\n",
    "assert a.minimumOperations(nums = [1,5,0,3,5]) == 3, \"Test 1\"\n",
    "assert a.minimumOperations(nums = [0]) == 0, \"Test 2\""
   ]
  },
  {
   "cell_type": "code",
   "execution_count": null,
   "id": "c27b0411",
   "metadata": {},
   "outputs": [],
   "source": []
  },
  {
   "cell_type": "code",
   "execution_count": null,
   "id": "ba544308",
   "metadata": {},
   "outputs": [],
   "source": []
  },
  {
   "cell_type": "code",
   "execution_count": null,
   "id": "04812e87",
   "metadata": {},
   "outputs": [],
   "source": []
  }
 ],
 "metadata": {
  "kernelspec": {
   "display_name": "Python 3",
   "language": "python",
   "name": "python3"
  },
  "language_info": {
   "codemirror_mode": {
    "name": "ipython",
    "version": 3
   },
   "file_extension": ".py",
   "mimetype": "text/x-python",
   "name": "python",
   "nbconvert_exporter": "python",
   "pygments_lexer": "ipython3",
   "version": "3.7.13"
  }
 },
 "nbformat": 4,
 "nbformat_minor": 5
}
