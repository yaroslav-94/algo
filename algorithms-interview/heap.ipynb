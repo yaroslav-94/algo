{
 "cells": [
  {
   "cell_type": "markdown",
   "id": "59283ff6",
   "metadata": {},
   "source": [
    "# Python lib\n",
    "Url: https://docs.python.org/3/library/heapq.html#heapq.heapify"
   ]
  },
  {
   "cell_type": "markdown",
   "id": "face787e",
   "metadata": {},
   "source": [
    "### Задача 1\n",
    "Описание: \n",
    "- url: https://leetcode.com/problems/maximum-product-of-two-elements-in-an-array/\n",
    "- Дан массив целых чисел nums. Вернуть максимальное значение (nums[i]-1)*(nums[j]-1), где i и j индексы элемнтов в массиве."
   ]
  },
  {
   "cell_type": "code",
   "execution_count": 17,
   "id": "f5074884",
   "metadata": {},
   "outputs": [],
   "source": [
    "from typing import List\n",
    "\n",
    "\n",
    "class Solution:\n",
    "    def maxProduct(self, nums: List[int]) -> int:\n",
    "        import heapq\n",
    "        \n",
    "        h = list(map(lambda x: x*-1, nums))\n",
    "        heapq.heapify(h)\n",
    "        return (-heapq.heappop(h)-1)*(-heapq.heappop(h)-1)\n",
    "    \n",
    "a = Solution()\n",
    "assert a.maxProduct(nums = [3,4,5,2]) == 12, \"Test 1\"\n",
    "assert a.maxProduct(nums = [1,5,4,5]) == 16, \"Test 2\"\n",
    "assert a.maxProduct(nums = [3,7]) == 12, \"Test 2\""
   ]
  },
  {
   "cell_type": "markdown",
   "id": "747908a1",
   "metadata": {},
   "source": [
    "### Задача 2\n",
    "Описание: \n",
    "- url: https://leetcode.com/problems/make-array-zero-by-subtracting-equal-amounts/\n",
    "- Дан неотрицательный целочисленный массив nums. За одну операцию необходимо:\n",
    "    - Выбрать положительное целое число x такое, что x меньше или равно наименьшему ненулевому элементу в nums.\n",
    "    - Вычесть x из каждого положительного элемента в nums.\n",
    "Вернутьет минимальное количество операций, чтобы сделать каждый элемент в nums равным 0."
   ]
  },
  {
   "cell_type": "code",
   "execution_count": 18,
   "id": "93df551c",
   "metadata": {},
   "outputs": [],
   "source": [
    "from typing import List\n",
    "\n",
    "\n",
    "class Solution:\n",
    "    def minimumOperations(self, nums: List[int]) -> int:\n",
    "        import heapq\n",
    "        \n",
    "        heapq.heapify(nums)\n",
    "        acc = 0\n",
    "        while nums:\n",
    "            min_el = heapq.heappop(nums)\n",
    "            if min_el != 0:\n",
    "                nums = list(map(lambda x: x-min_el, nums))\n",
    "                acc += 1\n",
    "        return acc\n",
    "        \n",
    "    \n",
    "a = Solution()\n",
    "assert a.minimumOperations(nums = [1,5,0,3,5]) == 3, \"Test 1\"\n",
    "assert a.minimumOperations(nums = [0]) == 0, \"Test 2\""
   ]
  },
  {
   "cell_type": "markdown",
   "id": "365d8a72",
   "metadata": {},
   "source": [
    "### Задача 3\n",
    "Описание: \n",
    "- url: https://leetcode.com/problems/last-stone-weight/\n",
    "- Дан массив камней с целыми числами, где stone[i] — вес i-го камня. Мы играем в игру с камнями. На каждом ходу мы выбираем два самых тяжелых камня и сталкиваем их вместе. Предположим, что два самых тяжелых камня имеют веса x и y, причем x <= y. Результат этого удара:\n",
    "    - Если x == y, оба камня уничтожаются, и\n",
    "    - Если x != y, то камень веса x уничтожается, а камень веса y имеет новый вес y - x.\n",
    "    \n",
    "В конце игры остается не более одного камня. Верните вес последнего оставшегося камня. Если камней не осталось, вернуть 0."
   ]
  },
  {
   "cell_type": "code",
   "execution_count": 19,
   "id": "ba544308",
   "metadata": {},
   "outputs": [],
   "source": [
    "from typing import List\n",
    "\n",
    "\n",
    "class Solution:\n",
    "    def lastStoneWeight(self, stones: List[int]) -> int:\n",
    "        import heapq\n",
    "        \n",
    "        h = list(map(lambda x: x*-1, stones))\n",
    "        heapq.heapify(h)\n",
    "        while len(h)>1:\n",
    "            stone1 = heapq.heappop(h)\n",
    "            stone2 = heapq.heappop(h)\n",
    "            if stone1 != stone2:\n",
    "                heapq.heappush(h, stone1-stone2)\n",
    "        \n",
    "        return -heapq.heappop(h) if h  else 0\n",
    "    \n",
    "\n",
    "a = Solution()\n",
    "assert a.lastStoneWeight(stones = [2,7,4,1,8,1]) == 1, \"Test 1\"\n",
    "assert a.lastStoneWeight(stones = [1]) == 1, \"Test 2\"\n",
    "assert a.lastStoneWeight(stones = [2, 2]) == 0, \"Test 3\""
   ]
  },
  {
   "cell_type": "markdown",
   "id": "d470a7b3",
   "metadata": {},
   "source": [
    "### Задача 4 (medium)\n",
    "Описание: \n",
    "- url: https://leetcode.com/problems/max-sum-of-a-pair-with-equal-sum-of-digits/\n",
    "- Дан непустой массив nums, состоящий из положительных целых чисел. Вы можете выбрать два индекса i и j, такие что i != j, и сумма цифр числа nums[i] равна сумме цифр nums[j]. Вернуть максимальное значение nums[i] + nums[j], которое можно получить по всем возможным индексам i и j, удовлетворяющим условиям."
   ]
  },
  {
   "cell_type": "code",
   "execution_count": 20,
   "id": "fdf170d4",
   "metadata": {},
   "outputs": [],
   "source": [
    "class Solution:\n",
    "    def maximumSum(self, nums: List[int]) -> int:\n",
    "        import heapq\n",
    "        \n",
    "        h = []\n",
    "        for i in nums:\n",
    "            sum_nums = 0\n",
    "            new_num = i\n",
    "            while new_num:\n",
    "                sum_nums += new_num%10\n",
    "                new_num = new_num//10\n",
    "            h.append((-sum_nums, -i))\n",
    "            \n",
    "        heapq.heapify(h)\n",
    "        \n",
    "        answer = -1\n",
    "        old_num = heapq.heappop(h)\n",
    "        while h:\n",
    "            new_num = heapq.heappop(h)\n",
    "            if old_num[0] == new_num[0] and (-old_num[1]-new_num[1])>answer:\n",
    "                answer = -old_num[1]-new_num[1]\n",
    "            old_num = new_num\n",
    "        return answer\n",
    "        \n",
    "            \n",
    "    \n",
    "    \n",
    "a = Solution()\n",
    "assert a.maximumSum(nums = [18,43,36,13,7]) == 54, \"Test 1\"\n",
    "assert a.maximumSum(nums = [10,12,19,14]) == -1, \"Test 2\""
   ]
  },
  {
   "cell_type": "code",
   "execution_count": null,
   "id": "b502c5a3",
   "metadata": {},
   "outputs": [],
   "source": []
  },
  {
   "cell_type": "code",
   "execution_count": null,
   "id": "1a13e5b0",
   "metadata": {},
   "outputs": [],
   "source": []
  },
  {
   "cell_type": "code",
   "execution_count": null,
   "id": "454704a6",
   "metadata": {},
   "outputs": [],
   "source": []
  },
  {
   "cell_type": "code",
   "execution_count": null,
   "id": "8c59e4bb",
   "metadata": {},
   "outputs": [],
   "source": []
  },
  {
   "cell_type": "code",
   "execution_count": null,
   "id": "59c056aa",
   "metadata": {},
   "outputs": [],
   "source": []
  },
  {
   "cell_type": "code",
   "execution_count": null,
   "id": "10f1434a",
   "metadata": {},
   "outputs": [],
   "source": []
  },
  {
   "cell_type": "code",
   "execution_count": null,
   "id": "917c08ad",
   "metadata": {},
   "outputs": [],
   "source": []
  },
  {
   "cell_type": "code",
   "execution_count": null,
   "id": "0a440ae6",
   "metadata": {},
   "outputs": [],
   "source": []
  },
  {
   "cell_type": "code",
   "execution_count": null,
   "id": "00c56d1a",
   "metadata": {},
   "outputs": [],
   "source": []
  },
  {
   "cell_type": "code",
   "execution_count": null,
   "id": "7b79ee23",
   "metadata": {},
   "outputs": [],
   "source": []
  },
  {
   "cell_type": "code",
   "execution_count": null,
   "id": "68c5bf15",
   "metadata": {},
   "outputs": [],
   "source": []
  },
  {
   "cell_type": "code",
   "execution_count": null,
   "id": "e61607ca",
   "metadata": {},
   "outputs": [],
   "source": []
  },
  {
   "cell_type": "code",
   "execution_count": null,
   "id": "9b036081",
   "metadata": {},
   "outputs": [],
   "source": []
  },
  {
   "cell_type": "code",
   "execution_count": null,
   "id": "0db73d24",
   "metadata": {},
   "outputs": [],
   "source": []
  },
  {
   "cell_type": "code",
   "execution_count": null,
   "id": "37b644a0",
   "metadata": {},
   "outputs": [],
   "source": []
  },
  {
   "cell_type": "code",
   "execution_count": null,
   "id": "813bd0c5",
   "metadata": {},
   "outputs": [],
   "source": []
  },
  {
   "cell_type": "code",
   "execution_count": null,
   "id": "ab9053d5",
   "metadata": {},
   "outputs": [],
   "source": []
  },
  {
   "cell_type": "code",
   "execution_count": null,
   "id": "f2f3c5cc",
   "metadata": {},
   "outputs": [],
   "source": []
  },
  {
   "cell_type": "code",
   "execution_count": null,
   "id": "bfe09774",
   "metadata": {},
   "outputs": [],
   "source": []
  },
  {
   "cell_type": "code",
   "execution_count": null,
   "id": "6040d429",
   "metadata": {},
   "outputs": [],
   "source": []
  },
  {
   "cell_type": "code",
   "execution_count": null,
   "id": "9b2ba8ec",
   "metadata": {},
   "outputs": [],
   "source": []
  },
  {
   "cell_type": "code",
   "execution_count": null,
   "id": "e0f9932f",
   "metadata": {},
   "outputs": [],
   "source": []
  },
  {
   "cell_type": "code",
   "execution_count": null,
   "id": "7177832f",
   "metadata": {},
   "outputs": [],
   "source": []
  },
  {
   "cell_type": "code",
   "execution_count": null,
   "id": "d7036952",
   "metadata": {},
   "outputs": [],
   "source": []
  },
  {
   "cell_type": "code",
   "execution_count": null,
   "id": "8c48b911",
   "metadata": {},
   "outputs": [],
   "source": []
  },
  {
   "cell_type": "code",
   "execution_count": null,
   "id": "0963eb0a",
   "metadata": {},
   "outputs": [],
   "source": []
  }
 ],
 "metadata": {
  "kernelspec": {
   "display_name": "Python 3",
   "language": "python",
   "name": "python3"
  },
  "language_info": {
   "codemirror_mode": {
    "name": "ipython",
    "version": 3
   },
   "file_extension": ".py",
   "mimetype": "text/x-python",
   "name": "python",
   "nbconvert_exporter": "python",
   "pygments_lexer": "ipython3",
   "version": "3.7.13"
  }
 },
 "nbformat": 4,
 "nbformat_minor": 5
}
