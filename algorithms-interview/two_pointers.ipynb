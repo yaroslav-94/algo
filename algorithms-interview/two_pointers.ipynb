{
 "cells": [
  {
   "cell_type": "markdown",
   "id": "38b98c61",
   "metadata": {},
   "source": [
    "## Когда используются\n",
    "- Элементы arr — неотрицательные\n",
    "- Элементы arr расположены в порядке неубывания\n",
    "- Элементы arr расположены в порядке неубывания и в то же время неотрицательны\n",
    "- функция монотонна\n",
    "\n",
    "## Описание метода\n",
    "Метод двух указателей применяется, если мы должны найти координаты левого и правого конца отрезка, в котором некоторая вычисляемая величина имеет заданное значение. Если значение величины меньше заданной, то мы должны увеличивать правый указатель (индекс); если больше заданной, то увеличиваем левый указатель (индекс); если совпадает с заданной, то обрабатываем найденный отрезок и увеличиваем левый указатель (индекс)."
   ]
  },
  {
   "cell_type": "markdown",
   "id": "f91feef8",
   "metadata": {},
   "source": [
    "### Задача 1\n",
    "Описание: \n",
    "- url: https://leetcode.com/problems/remove-duplicates-from-sorted-array/\n",
    "- Дан целочисленный неубывающий массив. Нужно удалить in-place все дубликаты так, чтобы каждый элемент встречался только 1 раз. Порядок следования элементов должен быть сохранен\n",
    "- Комментарий 1: можно оставить впереди уникальные элементы\n",
    "- Комментарий 2: не выделять дополнительного массива для хранения уникальных элементов"
   ]
  },
  {
   "cell_type": "code",
   "execution_count": 24,
   "id": "a96b6c7d",
   "metadata": {},
   "outputs": [],
   "source": [
    "class Solution_1:\n",
    "    def removeDuplicates(self, nums: List[int]) -> int:\n",
    "        size = len(nums)\n",
    "        insertIndex = 1\n",
    "        for i in range(1, size):\n",
    "            # Found unique element\n",
    "            if nums[i - 1] != nums[i]:      \n",
    "                # Updating insertIndex in our main array\n",
    "                nums[insertIndex] = nums[i] \n",
    "                # Incrementing insertIndex count by 1 \n",
    "                insertIndex = insertIndex + 1    \n",
    "        return insertIndex\n",
    "                \n",
    "a = Solution_1()\n",
    "assert a.removeDuplicates([]) == 1, \"Test on empty list. Return {}\".format(a.removeDuplicates([]))\n",
    "assert a.removeDuplicates([1]) == 1, \"Test with 1 element in list. Return {}\".format(a.removeDuplicates([1]))\n",
    "assert a.removeDuplicates([1,1,2]) == 2, \"Test with 2 elements in list. Return {}\".format(a.removeDuplicates([1,1,2]))\n",
    "assert a.removeDuplicates([0,0,1,1,1,2,2,3,3,4]) == 5, \"Test with 5 elements in list. Return {}\".format(a.removeDuplicates([0,0,1,1,1,2,2,3,3,4]))\n",
    "\n",
    "\n",
    "class Solution_2:\n",
    "    def removeDuplicates(self, nums: List[int]) -> int:\n",
    "        \n",
    "        if nums:\n",
    "            left, right = 1, len(nums)\n",
    "            answer = 0\n",
    "            for _ in range(1, right):\n",
    "                if nums[left-1]==nums[left]:\n",
    "                    nums.pop(left)\n",
    "                    answer+=1\n",
    "                else:\n",
    "                    start=nums[left]\n",
    "                    left += 1\n",
    "            print(nums)\n",
    "            return right-answer\n",
    "        \n",
    "a = Solution_1()\n",
    "assert a.removeDuplicates([]) == 1, \"Test on empty list. Return {}\".format(a.removeDuplicates([]))\n",
    "assert a.removeDuplicates([1]) == 1, \"Test with 1 element in list. Return {}\".format(a.removeDuplicates([1]))\n",
    "assert a.removeDuplicates([1,1,2]) == 2, \"Test with 2 elements in list. Return {}\".format(a.removeDuplicates([1,1,2]))\n",
    "assert a.removeDuplicates([0,0,1,1,1,2,2,3,3,4]) == 5, \"Test with 5 elements in list. Return {}\".format(a.removeDuplicates([0,0,1,1,1,2,2,3,3,4]))\n"
   ]
  },
  {
   "cell_type": "markdown",
   "id": "3dd8209d",
   "metadata": {},
   "source": [
    "### Задача 2\n",
    "Описание:\n",
    "- https://leetcode.com/problems/remove-element/\n",
    "- Дан целочисленный массив и целое число. Нужно удалить все вхождения этого числа в массив. Вывести итоговое количество оставшихся элементов\n",
    "- Комментарий 1: первая часть массива может содержать итоговый ответ\n",
    "- Комментарий 2: не выделять дополнительного массива для хранения уникальных элементов"
   ]
  },
  {
   "cell_type": "code",
   "execution_count": 25,
   "id": "090c48be",
   "metadata": {},
   "outputs": [],
   "source": [
    "class Solution_1:\n",
    "    def removeElement(self, nums, val):\n",
    "        \"\"\"\n",
    "        :type nums: List[int]\n",
    "        :type val: int\n",
    "        :rtype: int\n",
    "        \"\"\"\n",
    "        count = 0\n",
    "        for i in range(len(nums)):\n",
    "            if nums[i] != val :\n",
    "                nums[count] = nums[i]\n",
    "                count +=1\n",
    "        return count\n",
    "    \n",
    "a = Solution_1()\n",
    "assert a.removeElement(nums=[3,2,2,3], val=3) == 2, \"Test 1\"\n",
    "assert a.removeElement(nums=[0,1,2,2,3,0,4,2], val=2) == 5, \"Test 2.\"\n",
    "assert a.removeElement(nums=[1,2,3,4,5], val=7) == 5, \"Test 3.\"\n",
    "assert a.removeElement(nums=[2], val=3) == 1, \"Test 4.\"\n",
    "\n",
    "\n",
    "class Solution_2:\n",
    "    def removeElement(self, nums: List[int], val: int) -> int:\n",
    "        left = 0\n",
    "        for _ in range(len(nums)):\n",
    "            if nums[left] == val:\n",
    "                nums.pop(left)\n",
    "            else:\n",
    "                left += 1\n",
    "        return len(nums)\n",
    "    \n",
    "a = Solution_2()\n",
    "assert a.removeElement(nums=[3,2,2,3], val=3) == 2, \"Test 1\"\n",
    "assert a.removeElement(nums=[0,1,2,2,3,0,4,2], val=2) == 5, \"Test 2.\"\n",
    "assert a.removeElement(nums=[1,2,3,4,5], val=7) == 5, \"Test 3 {}\" .format(a.removeElement(nums=[1,2,3,4,5], val=7))\n",
    "assert a.removeElement(nums=[2], val=3) == 1, \"Test 4.\""
   ]
  },
  {
   "cell_type": "markdown",
   "id": "28bf593d",
   "metadata": {},
   "source": [
    "### Задача 3\n",
    "Описание:\n",
    "- https://leetcode.com/problems/number-of-arithmetic-triplets/\n",
    "- Дан 0-индексированный строго возрастающий целочисленный массив nums и положительное целочисленное diff. Тройка (i, j, k) является арифметической тройкой, если выполняются следующие условия:\n",
    "    - i < j < к,\n",
    "    - nums[j] - nums[i] == diff \n",
    "    - nums[k] - nums[j] == diff                \n",
    "    Возвращает количество уникальных арифметических троек."
   ]
  },
  {
   "cell_type": "code",
   "execution_count": 26,
   "id": "b9a6340c",
   "metadata": {},
   "outputs": [],
   "source": [
    "from typing import List\n",
    "\n",
    "\n",
    "class Solution:\n",
    "    \"\"\"Using 3 pointers\"\"\"\n",
    "    def arithmeticTriplets(self, nums: List[int], diff: int) -> int:\n",
    "        if len(nums) < 3:\n",
    "            return 0\n",
    "        else:\n",
    "            i= 0\n",
    "            answer = 0\n",
    "            while i < len(nums)-2:\n",
    "                j = i+1\n",
    "                while j < len(nums)-1:\n",
    "                    k = j+1\n",
    "                    while k < len(nums):\n",
    "                        if (nums[k]-nums[j])==diff and (nums[j]-nums[i])==diff:\n",
    "                            answer += 1\n",
    "                        k += 1\n",
    "                    j += 1\n",
    "                i += 1\n",
    "            return answer\n",
    "    \n",
    "a = Solution()\n",
    "assert a.arithmeticTriplets(nums=[0,1,4,6,7,10], diff=3) == 2\n",
    "assert a.arithmeticTriplets(nums=[4,5,6,7,8,9], diff=2) == 2\n",
    "assert a.arithmeticTriplets(nums=[4,5], diff=2) == 0\n",
    "\n",
    "\n",
    "class Solution:\n",
    "    \"\"\"Find elements without pointers\"\"\"\n",
    "    def arithmeticTriplets(self, nums: List[int], diff: int) -> int:\n",
    "        cnt = 0\n",
    "        for num in nums:\n",
    "            if (num+diff in nums and num+diff*2 in nums):\n",
    "                cnt+=1\n",
    "        return cnt\n",
    "    \n",
    "a = Solution()\n",
    "assert a.arithmeticTriplets(nums=[0,1,4,6,7,10], diff=3) == 2\n",
    "assert a.arithmeticTriplets(nums=[4,5,6,7,8,9], diff=2) == 2\n",
    "assert a.arithmeticTriplets(nums=[4,5], diff=2) == 0"
   ]
  },
  {
   "cell_type": "markdown",
   "id": "2b4e4572",
   "metadata": {},
   "source": [
    "### Задача 4\n",
    "Описание:\n",
    "- https://leetcode.com/problems/reverse-string/\n",
    "- Напишите функцию, которая разворачивает строку. Входная строка задается как массив символов s. Вы должны сделать это, изменив входной массив на месте с дополнительной памятью O (1).\n"
   ]
  },
  {
   "cell_type": "code",
   "execution_count": 35,
   "id": "d9fa88fc",
   "metadata": {},
   "outputs": [],
   "source": [
    "class Solution:\n",
    "    def reverseString(self, s: List[str]) -> None:\n",
    "        \"\"\"\n",
    "        Do not return anything, modify s in-place instead.\n",
    "        \"\"\"\n",
    "        len_s = len(s)-1\n",
    "        for i in range(int(len_s/2)+1):\n",
    "            s[i], s[len_s-i] = s[len_s-i], s[i]\n",
    "            \n",
    "        return s\n",
    "    \n",
    "    \n",
    "a = Solution()\n",
    "assert a.reverseString(s=[\"h\",\"e\",\"l\",\"l\",\"o\"]) == [\"o\",\"l\",\"l\",\"e\",\"h\"]\n",
    "assert a.reverseString(s=[\"H\",\"a\",\"n\",\"n\",\"a\",\"h\"]) == [\"h\",\"a\",\"n\",\"n\",\"a\",\"H\"]\n",
    "assert a.reverseString(s=[\"h\",\"e\",\"l\"]) == [\"l\",\"e\",\"h\"]\n",
    "in_s = [\"A\",\" \",\"m\",\"a\",\"n\",\",\",\" \",\"a\",\" \",\"p\",\"l\",\"a\",\"n\",\",\",\" \",\"a\",\" \",\"c\",\"a\",\"n\",\"a\",\"l\",\":\",\" \",\"P\",\"a\",\"n\",\"a\",\"m\",\"a\"]\n",
    "out_s = [\"a\",\"m\",\"a\",\"n\",\"a\",\"P\",\" \",\":\",\"l\",\"a\",\"n\",\"a\",\"c\",\" \",\"a\",\" \",\",\",\"n\",\"a\",\"l\",\"p\",\" \",\"a\",\" \",\",\",\"n\",\"a\",\"m\",\" \",\"A\"]\n",
    "assert a.reverseString(s=in_s) == out_s\n",
    "\n",
    "\n",
    "class Solution:\n",
    "    def reverseString(self, s: List[str]) -> None:\n",
    "        \"\"\"\n",
    "        Do not return anything, modify s in-place instead.\n",
    "        \"\"\"\n",
    "        s.reverse()\n",
    "        return s\n",
    "    \n",
    "a = Solution()\n",
    "assert a.reverseString(s=[\"h\",\"e\",\"l\",\"l\",\"o\"]) == [\"o\",\"l\",\"l\",\"e\",\"h\"]\n",
    "assert a.reverseString(s=[\"H\",\"a\",\"n\",\"n\",\"a\",\"h\"]) == [\"h\",\"a\",\"n\",\"n\",\"a\",\"H\"]\n",
    "assert a.reverseString(s=[\"h\",\"e\",\"l\"]) == [\"l\",\"e\",\"h\"]\n",
    "in_s = [\"A\",\" \",\"m\",\"a\",\"n\",\",\",\" \",\"a\",\" \",\"p\",\"l\",\"a\",\"n\",\",\",\" \",\"a\",\" \",\"c\",\"a\",\"n\",\"a\",\"l\",\":\",\" \",\"P\",\"a\",\"n\",\"a\",\"m\",\"a\"]\n",
    "out_s = [\"a\",\"m\",\"a\",\"n\",\"a\",\"P\",\" \",\":\",\"l\",\"a\",\"n\",\"a\",\"c\",\" \",\"a\",\" \",\",\",\"n\",\"a\",\"l\",\"p\",\" \",\"a\",\" \",\",\",\"n\",\"a\",\"m\",\" \",\"A\"]\n",
    "assert a.reverseString(s=in_s) == out_s"
   ]
  },
  {
   "cell_type": "markdown",
   "id": "67dbb6ae",
   "metadata": {},
   "source": [
    "### Задача 4\n",
    "Описание:\n",
    "- https://leetcode.com/problems/remove-palindromic-subsequences/\n",
    "- Вам дана строка s, состоящая только из букв «a» и «b». За один шаг вы можете удалить одну палиндромную подпоследовательность из s. Вывести количество палиндромов в строке\n"
   ]
  },
  {
   "cell_type": "code",
   "execution_count": null,
   "id": "7f16c9e7",
   "metadata": {},
   "outputs": [],
   "source": [
    "class Solution:\n",
    "    def removePalindromeSub(self, s: str) -> int:"
   ]
  },
  {
   "cell_type": "code",
   "execution_count": null,
   "id": "1ed5a9d8",
   "metadata": {},
   "outputs": [],
   "source": []
  },
  {
   "cell_type": "code",
   "execution_count": null,
   "id": "863a653f",
   "metadata": {},
   "outputs": [],
   "source": []
  },
  {
   "cell_type": "code",
   "execution_count": null,
   "id": "b7cc8767",
   "metadata": {},
   "outputs": [],
   "source": []
  },
  {
   "cell_type": "code",
   "execution_count": null,
   "id": "a736dc5c",
   "metadata": {},
   "outputs": [],
   "source": []
  },
  {
   "cell_type": "code",
   "execution_count": null,
   "id": "34a8c501",
   "metadata": {},
   "outputs": [],
   "source": []
  },
  {
   "cell_type": "code",
   "execution_count": null,
   "id": "3c35c739",
   "metadata": {},
   "outputs": [],
   "source": []
  },
  {
   "cell_type": "code",
   "execution_count": null,
   "id": "4dd40735",
   "metadata": {},
   "outputs": [],
   "source": []
  },
  {
   "cell_type": "code",
   "execution_count": null,
   "id": "6d36cda7",
   "metadata": {},
   "outputs": [],
   "source": []
  },
  {
   "cell_type": "code",
   "execution_count": null,
   "id": "f75359f1",
   "metadata": {},
   "outputs": [],
   "source": []
  },
  {
   "cell_type": "code",
   "execution_count": null,
   "id": "2aac1085",
   "metadata": {},
   "outputs": [],
   "source": []
  },
  {
   "cell_type": "code",
   "execution_count": null,
   "id": "63d62a56",
   "metadata": {},
   "outputs": [],
   "source": []
  },
  {
   "cell_type": "code",
   "execution_count": null,
   "id": "31ed19c5",
   "metadata": {},
   "outputs": [],
   "source": []
  },
  {
   "cell_type": "code",
   "execution_count": null,
   "id": "2377320c",
   "metadata": {},
   "outputs": [],
   "source": []
  },
  {
   "cell_type": "code",
   "execution_count": null,
   "id": "54490cdd",
   "metadata": {},
   "outputs": [],
   "source": []
  },
  {
   "cell_type": "code",
   "execution_count": null,
   "id": "90bb2eaa",
   "metadata": {},
   "outputs": [],
   "source": []
  },
  {
   "cell_type": "code",
   "execution_count": null,
   "id": "4340524b",
   "metadata": {},
   "outputs": [],
   "source": []
  },
  {
   "cell_type": "code",
   "execution_count": null,
   "id": "f4ce0d6e",
   "metadata": {},
   "outputs": [],
   "source": []
  },
  {
   "cell_type": "code",
   "execution_count": null,
   "id": "58efef89",
   "metadata": {},
   "outputs": [],
   "source": []
  },
  {
   "cell_type": "code",
   "execution_count": null,
   "id": "0ff66239",
   "metadata": {},
   "outputs": [],
   "source": []
  },
  {
   "cell_type": "code",
   "execution_count": null,
   "id": "4cdadf78",
   "metadata": {},
   "outputs": [],
   "source": []
  }
 ],
 "metadata": {
  "kernelspec": {
   "display_name": "Python 3",
   "language": "python",
   "name": "python3"
  },
  "language_info": {
   "codemirror_mode": {
    "name": "ipython",
    "version": 3
   },
   "file_extension": ".py",
   "mimetype": "text/x-python",
   "name": "python",
   "nbconvert_exporter": "python",
   "pygments_lexer": "ipython3",
   "version": "3.7.13"
  }
 },
 "nbformat": 4,
 "nbformat_minor": 5
}
