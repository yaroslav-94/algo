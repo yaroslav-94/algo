{
 "cells": [
  {
   "cell_type": "code",
   "execution_count": null,
   "id": "0a79548c",
   "metadata": {},
   "outputs": [],
   "source": []
  },
  {
   "cell_type": "markdown",
   "id": "70fb5605",
   "metadata": {},
   "source": [
    "## Задача 1\n",
    "- ссылка: https://leetcode.com/problems/fibonacci-number/\n",
    "- Числа Фибоначчи, обычно обозначаемые F(n), образуют последовательность, называемую последовательностью Фибоначчи, так что каждое число является суммой двух предыдущих, начиная с 0 и 1. Дано входное число n, найти F(n)"
   ]
  },
  {
   "cell_type": "code",
   "execution_count": 1,
   "id": "dfcb1f9b",
   "metadata": {},
   "outputs": [],
   "source": [
    "class Solution:\n",
    "    def fib(self, n: int) -> int:\n",
    "        if n<=1:\n",
    "            return n\n",
    "        prev, curr = 0, 1\n",
    "        for _ in range(n):\n",
    "            prev, curr = curr, curr+prev\n",
    "        return prev\n",
    "    \n",
    "    \n",
    "a = Solution()\n",
    "assert a.fib(n=2) == 1, \"Test 1\"\n",
    "assert a.fib(n=3) == 2, \"Test 2\"\n",
    "assert a.fib(n=4) == 3, \"Test 3\""
   ]
  },
  {
   "cell_type": "markdown",
   "id": "f3465eb1",
   "metadata": {},
   "source": [
    "## Задача 2\n",
    "- ссылка: https://leetcode.com/problems/power-of-four/\n",
    "- Дано число n. Вернуть True, если n является степенью 4, иначе вернуть False"
   ]
  },
  {
   "cell_type": "code",
   "execution_count": 2,
   "id": "ee09e6fa",
   "metadata": {},
   "outputs": [],
   "source": [
    "class Solution:\n",
    "    def isPowerOfFour(self, n: int) -> bool:\n",
    "        \n",
    "        def rec_finder(n: int):\n",
    "            if n>1 and n%4==0:\n",
    "                n = n//4\n",
    "                return rec_finder(n)\n",
    "            elif n==1:\n",
    "                return True\n",
    "            else:\n",
    "                return False\n",
    "        return rec_finder(n)\n",
    "    \n",
    "    \n",
    "a = Solution()\n",
    "assert a.isPowerOfFour(n=16) == True, \"Test 1\"\n",
    "assert a.isPowerOfFour(n=5) == False, \"Test 2\"\n",
    "assert a.isPowerOfFour(n=1) == True, \"Test 3\""
   ]
  },
  {
   "cell_type": "markdown",
   "id": "e1d57e92",
   "metadata": {},
   "source": [
    "## Задача 3\n",
    "- ссылка: https://leetcode.com/problems/power-of-two/\n",
    "- Дано число n. Вернуть True, если n является степенью 2, иначе вернуть False"
   ]
  },
  {
   "cell_type": "code",
   "execution_count": 3,
   "id": "2be8eae1",
   "metadata": {},
   "outputs": [],
   "source": [
    "class Solution:\n",
    "    def isPowerOfTwo(self, n: int) -> bool:\n",
    "        def rec_finder(n: int):\n",
    "            if n>1 and n%2==0:\n",
    "                n = n//2\n",
    "                return rec_finder(n)\n",
    "            elif n==1:\n",
    "                return True\n",
    "            else:\n",
    "                return False\n",
    "        return rec_finder(n)\n",
    "    \n",
    "a = Solution()\n",
    "assert a.isPowerOfTwo(n=1) == True, \"Test 1\"\n",
    "assert a.isPowerOfTwo(n=16) == True, \"Test 2\"\n",
    "assert a.isPowerOfTwo(n=3) == False, \"Test 3\"\n",
    "assert a.isPowerOfTwo(n=6) == False, \"Test 3\""
   ]
  },
  {
   "cell_type": "markdown",
   "id": "d3d7f90f",
   "metadata": {},
   "source": [
    "## Задача 4\n",
    "- ссылка: https://leetcode.com/problems/power-of-three/\n",
    "- Дано число n. Вернуть True, если n является степенью 3, иначе вернуть False"
   ]
  },
  {
   "cell_type": "code",
   "execution_count": 4,
   "id": "319bbbbd",
   "metadata": {},
   "outputs": [],
   "source": [
    "class Solution:\n",
    "    def isPowerOfThree(self, n: int) -> bool:\n",
    "        def rec_finder(n: int):\n",
    "            if n>1 and n%3==0:\n",
    "                n = n//3\n",
    "                return rec_finder(n)\n",
    "            elif n==1:\n",
    "                return True\n",
    "            else:\n",
    "                return False\n",
    "        return rec_finder(n)\n",
    "    \n",
    "    \n",
    "a = Solution()\n",
    "assert a.isPowerOfThree(n=27) == True, \"Test 1\"\n",
    "assert a.isPowerOfThree(n=0) == False, \"Test 2\"\n",
    "assert a.isPowerOfThree(n=-1) == False, \"Test 3\""
   ]
  },
  {
   "cell_type": "markdown",
   "id": "784ad6be",
   "metadata": {},
   "source": [
    "## Задача 4 (medium)\n",
    "- ссылка: https://leetcode.com/problems/power-of-three/\n",
    "- Дано число n. Вернуть True если число представимо в виде суммы степеней 3. Иначе вернуть False. "
   ]
  },
  {
   "cell_type": "code",
   "execution_count": 5,
   "id": "929a36ca",
   "metadata": {},
   "outputs": [],
   "source": [
    "class Solution:\n",
    "    def checkPowersOfThree(self, n: int) -> bool:\n",
    "        def find_max_power(n):\n",
    "            if n>=2:\n",
    "                left, right = 0, n//3+1\n",
    "                while left+1<right:\n",
    "                    middle = (left+right)//2\n",
    "                    if 3**middle>n:\n",
    "                        right = middle\n",
    "                    elif 3**middle<n:\n",
    "                        left = middle\n",
    "                    else:\n",
    "                        left = middle\n",
    "                        break\n",
    "                if n>=2*3**left:\n",
    "                    return False\n",
    "                else:\n",
    "                    n -= 3**left\n",
    "                    return find_max_power(n)\n",
    "            else:\n",
    "                return True\n",
    "        return find_max_power(n)\n",
    "    \n",
    "    \n",
    "class Solution:\n",
    "    def checkPowersOfThree(self, n: int) -> bool:\n",
    "        while(n % 3 == 0):\n",
    "            n = n // 3\n",
    "        if(n == 1):\n",
    "            return True\n",
    "        if(n % 3 == 1):\n",
    "            return self.checkPowersOfThree(n - 1)\n",
    "        else:\n",
    "            return False\n",
    "        \n",
    "    \n",
    "a = Solution()\n",
    "assert a.checkPowersOfThree(n=12) == True, \"Test 1\"\n",
    "assert a.checkPowersOfThree(n=91) == True, \"Test 2\"\n",
    "assert a.checkPowersOfThree(n=21) == False, \"Test 3\"\n",
    "assert a.checkPowersOfThree(n=9) == True, \"Test 4\"\n",
    "assert a.checkPowersOfThree(n=11) == False, \"Test 5\"\n",
    "assert a.checkPowersOfThree(n=5752738) == False, \"Test 6\"\n"
   ]
  },
  {
   "cell_type": "markdown",
   "id": "76c84821",
   "metadata": {},
   "source": [
    "## Задача 5 (medium)\n",
    "- ссылка: https://leetcode.com/problems/find-the-winner-of-the-circular-game/\n",
    "- Есть n друзей, которые играют в игру. Друзья сидят в круге и пронумерованы от 1 до N в порядке по часовой стрелке. Более формально, перемещение по часовой стрелке из друга приводит вас к (i+1)-тоxку на 1 <= i <n, и перемещение по часовой стрелке от N Friend приводит вас к 1 -м другу.\n",
    "- Правила игры следующие:\n",
    "    - Начните с 1 -го друга.\n",
    "    - Подсчитайте следующих K друзей в направлении по часовой стрелке, включая друга, на котором вы начали. Подсчет оборачивается по кругу и может посчитать некоторых друзей более одного раза.\n",
    "    - Последний друг, которого вы считали, покидает круг и теряет игру.\n",
    "    - Если в кругу еще есть более одного друга, вернитесь к шагу 2, начиная с друга сразу по часовой стрелке друга, который только что проиграл и повторяет.\n",
    "    - Иначе, последний друг в круге выигрывает игру.\n",
    "- Учитывая количество друзей, n и целого числа K, верните победителя игры."
   ]
  },
  {
   "cell_type": "code",
   "execution_count": 6,
   "id": "5cd22dcd",
   "metadata": {},
   "outputs": [],
   "source": [
    "class Solution:\n",
    "    def findTheWinner(self, n: int, k: int) -> int:\n",
    "        answer = [i for i in range(1, n+1)]\n",
    "        \n",
    "        def drop_indexes(arr: list, k:int, sup: int):\n",
    "            if len(arr) == 1:\n",
    "                return arr[0]\n",
    "            else:\n",
    "                new_sup = (sup + len(answer))%k\n",
    "                if len(answer[k-1-sup:len(answer):k])==len(answer):\n",
    "                    return answer[-1]\n",
    "                else:\n",
    "                    del answer[k-1-sup:len(answer):k]\n",
    "                    return drop_indexes(answer, k, new_sup)\n",
    "            \n",
    "        return drop_indexes(answer, k, 0)\n",
    "\n",
    "a = Solution()\n",
    "assert a.findTheWinner(n = 5, k = 2) == 3, \"Test 1\"\n",
    "assert a.findTheWinner(n = 6, k = 5) == 1, \"Test 2\"\n",
    "assert a.findTheWinner(n=3, k=1) == 3, \"Test 3\""
   ]
  },
  {
   "cell_type": "markdown",
   "id": "116ffb30",
   "metadata": {},
   "source": [
    "## Задача 6 (medium)\n",
    "- ссылка: https://leetcode.com/problems/find-kth-bit-in-nth-binary-string/description/\n",
    "- Для двух положительных целых чисел n и k двоичная строка Sn формируется следующим образом:\n",
    "    - s[0] = \"0\"\n",
    "    - S[i] = S[i - 1] + \"1\" + reverse(invert(Si - 1)) для i> 1\n",
    "    Где + обозначает операцию конкатенации, reverse(x) возвращает перевернутую строку x, а invert(x) инвертирует все биты x (0 меняется на 1, а 1 меняется на 0).\n",
    "\n",
    "Например, первые четыре строки в приведенной выше последовательности:        \n",
    "С1 = \"0\"       \n",
    "С2 = \"011\"          \n",
    "S3 = \"0111001\"           \n",
    "S4 = \"011100110110001\"     \n",
    "\n",
    "Вернуть k-й бит в Sn. Гарантируется, что k действительно для заданного n."
   ]
  },
  {
   "cell_type": "code",
   "execution_count": 7,
   "id": "984eb274",
   "metadata": {},
   "outputs": [],
   "source": [
    "class Solution:\n",
    "    def findKthBit(self, n: int, k: int) -> str:\n",
    "        curr = '0'\n",
    "        if n>1:\n",
    "            for _ in range(n-1):\n",
    "                suf = ''.join(['1' if i=='0' else '0' for i in curr][::-1])\n",
    "                curr = curr + '1' + suf\n",
    "        return curr[k-1]\n",
    "                \n",
    "    \n",
    "a = Solution()\n",
    "assert a.findKthBit(n = 3, k = 1) == '0', \"Test 1\"\n",
    "assert a.findKthBit(n = 4, k = 11) == '1', \"Test 2\"\n",
    "assert a.findKthBit(n=2, k=3) == '1', \"Test 3\""
   ]
  },
  {
   "cell_type": "code",
   "execution_count": null,
   "id": "51bc369e",
   "metadata": {},
   "outputs": [],
   "source": []
  },
  {
   "cell_type": "code",
   "execution_count": null,
   "id": "9a3eeca4",
   "metadata": {},
   "outputs": [],
   "source": []
  }
 ],
 "metadata": {
  "kernelspec": {
   "display_name": "Python 3",
   "language": "python",
   "name": "python3"
  },
  "language_info": {
   "codemirror_mode": {
    "name": "ipython",
    "version": 3
   },
   "file_extension": ".py",
   "mimetype": "text/x-python",
   "name": "python",
   "nbconvert_exporter": "python",
   "pygments_lexer": "ipython3",
   "version": "3.7.13"
  }
 },
 "nbformat": 4,
 "nbformat_minor": 5
}
