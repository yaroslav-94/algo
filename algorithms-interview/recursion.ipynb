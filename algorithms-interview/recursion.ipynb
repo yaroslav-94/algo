{
 "cells": [
  {
   "cell_type": "code",
   "execution_count": null,
   "id": "0a79548c",
   "metadata": {},
   "outputs": [],
   "source": []
  },
  {
   "cell_type": "markdown",
   "id": "70fb5605",
   "metadata": {},
   "source": [
    "## Задача 1\n",
    "- ссылка: https://leetcode.com/problems/fibonacci-number/\n",
    "- Числа Фибоначчи, обычно обозначаемые F(n), образуют последовательность, называемую последовательностью Фибоначчи, так что каждое число является суммой двух предыдущих, начиная с 0 и 1. Дано входное число n, найти F(n)"
   ]
  },
  {
   "cell_type": "code",
   "execution_count": null,
   "id": "dfcb1f9b",
   "metadata": {},
   "outputs": [],
   "source": [
    "class Solution:\n",
    "    def fib(self, n: int) -> int:\n",
    "        if n<=1:\n",
    "            return n\n",
    "        prev, curr = 0, 1\n",
    "        for _ in range(n):\n",
    "            prev, curr = curr, curr+prev\n",
    "        return prev\n",
    "    \n",
    "    \n",
    "a = Solution()\n",
    "assert a.fib(n=2) == 1, \"Test 1\"\n",
    "assert a.fib(n=3) == 2, \"Test 2\"\n",
    "assert a.fib(n=4) == 3, \"Test 3\""
   ]
  },
  {
   "cell_type": "markdown",
   "id": "f3465eb1",
   "metadata": {},
   "source": [
    "## Задача 2\n",
    "- ссылка: https://leetcode.com/problems/power-of-four/\n",
    "- Дано число n. Вернуть True, если n является степенью 4, иначе вернуть False"
   ]
  },
  {
   "cell_type": "code",
   "execution_count": null,
   "id": "ee09e6fa",
   "metadata": {},
   "outputs": [],
   "source": [
    "class Solution:\n",
    "    def isPowerOfFour(self, n: int) -> bool:\n",
    "        \n",
    "        def rec_finder(n: int):\n",
    "            if n>1 and n%4==0:\n",
    "                n = n//4\n",
    "                return rec_finder(n)\n",
    "            elif n==1:\n",
    "                return True\n",
    "            else:\n",
    "                return False\n",
    "        return rec_finder(n)\n",
    "    \n",
    "    \n",
    "a = Solution()\n",
    "assert a.isPowerOfFour(n=16) == True, \"Test 1\"\n",
    "assert a.isPowerOfFour(n=5) == False, \"Test 2\"\n",
    "assert a.isPowerOfFour(n=1) == True, \"Test 3\""
   ]
  },
  {
   "cell_type": "markdown",
   "id": "e1d57e92",
   "metadata": {},
   "source": [
    "## Задача 3\n",
    "- ссылка: https://leetcode.com/problems/power-of-two/\n",
    "- Дано число n. Вернуть True, если n является степенью 2, иначе вернуть False"
   ]
  },
  {
   "cell_type": "code",
   "execution_count": null,
   "id": "2be8eae1",
   "metadata": {},
   "outputs": [],
   "source": [
    "class Solution:\n",
    "    def isPowerOfTwo(self, n: int) -> bool:\n",
    "        def rec_finder(n: int):\n",
    "            if n>1 and n%2==0:\n",
    "                n = n//2\n",
    "                return rec_finder(n)\n",
    "            elif n==1:\n",
    "                return True\n",
    "            else:\n",
    "                return False\n",
    "        return rec_finder(n)\n",
    "    \n",
    "a = Solution()\n",
    "assert a.isPowerOfTwo(n=1) == True, \"Test 1\"\n",
    "assert a.isPowerOfTwo(n=16) == True, \"Test 2\"\n",
    "assert a.isPowerOfTwo(n=3) == False, \"Test 3\"\n",
    "assert a.isPowerOfTwo(n=6) == False, \"Test 3\""
   ]
  },
  {
   "cell_type": "markdown",
   "id": "d3d7f90f",
   "metadata": {},
   "source": [
    "## Задача 4\n",
    "- ссылка: https://leetcode.com/problems/power-of-three/\n",
    "- Дано число n. Вернуть True, если n является степенью 3, иначе вернуть False"
   ]
  },
  {
   "cell_type": "code",
   "execution_count": null,
   "id": "319bbbbd",
   "metadata": {},
   "outputs": [],
   "source": [
    "class Solution:\n",
    "    def isPowerOfThree(self, n: int) -> bool:\n",
    "        def rec_finder(n: int):\n",
    "            if n>1 and n%3==0:\n",
    "                n = n//3\n",
    "                return rec_finder(n)\n",
    "            elif n==1:\n",
    "                return True\n",
    "            else:\n",
    "                return False\n",
    "        return rec_finder(n)\n",
    "    \n",
    "    \n",
    "a = Solution()\n",
    "assert a.isPowerOfThree(n=27) == True, \"Test 1\"\n",
    "assert a.isPowerOfThree(n=0) == False, \"Test 2\"\n",
    "assert a.isPowerOfThree(n=-1) == False, \"Test 3\""
   ]
  },
  {
   "cell_type": "markdown",
   "id": "784ad6be",
   "metadata": {},
   "source": [
    "## Задача 4 (medium)\n",
    "- ссылка: https://leetcode.com/problems/power-of-three/\n",
    "- Дано число n. Вернуть True если число представимо в виде суммы степеней 3. Иначе вернуть False. "
   ]
  },
  {
   "cell_type": "code",
   "execution_count": null,
   "id": "929a36ca",
   "metadata": {},
   "outputs": [],
   "source": [
    "class Solution:\n",
    "    def checkPowersOfThree(self, n: int) -> bool:\n",
    "        def find_max_power(n):\n",
    "            if n>=2:\n",
    "                left, right = 0, n//3+1\n",
    "                while left+1<right:\n",
    "                    middle = (left+right)//2\n",
    "                    if 3**middle>n:\n",
    "                        right = middle\n",
    "                    elif 3**middle<n:\n",
    "                        left = middle\n",
    "                    else:\n",
    "                        left = middle\n",
    "                        break\n",
    "                if n>=2*3**left:\n",
    "                    return False\n",
    "                else:\n",
    "                    n -= 3**left\n",
    "                    return find_max_power(n)\n",
    "            else:\n",
    "                return True\n",
    "        return find_max_power(n)\n",
    "    \n",
    "    \n",
    "class Solution:\n",
    "    def checkPowersOfThree(self, n: int) -> bool:\n",
    "        while(n % 3 == 0):\n",
    "            n = n // 3\n",
    "        if(n == 1):\n",
    "            return True\n",
    "        if(n % 3 == 1):\n",
    "            return self.checkPowersOfThree(n - 1)\n",
    "        else:\n",
    "            return False\n",
    "        \n",
    "    \n",
    "a = Solution()\n",
    "assert a.checkPowersOfThree(n=12) == True, \"Test 1\"\n",
    "assert a.checkPowersOfThree(n=91) == True, \"Test 2\"\n",
    "assert a.checkPowersOfThree(n=21) == False, \"Test 3\"\n",
    "assert a.checkPowersOfThree(n=9) == True, \"Test 4\"\n",
    "assert a.checkPowersOfThree(n=11) == False, \"Test 5\"\n",
    "assert a.checkPowersOfThree(n=5752738) == False, \"Test 6\"\n"
   ]
  },
  {
   "cell_type": "markdown",
   "id": "76c84821",
   "metadata": {},
   "source": [
    "## Задача 5 (medium)\n",
    "- ссылка: https://leetcode.com/problems/find-the-winner-of-the-circular-game/\n",
    "- Есть n друзей, которые играют в игру. Друзья сидят в круге и пронумерованы от 1 до N в порядке по часовой стрелке. Более формально, перемещение по часовой стрелке из друга приводит вас к (i+1)-тоxку на 1 <= i <n, и перемещение по часовой стрелке от N Friend приводит вас к 1 -м другу.\n",
    "- Правила игры следующие:\n",
    "    - Начните с 1 -го друга.\n",
    "    - Подсчитайте следующих K друзей в направлении по часовой стрелке, включая друга, на котором вы начали. Подсчет оборачивается по кругу и может посчитать некоторых друзей более одного раза.\n",
    "    - Последний друг, которого вы считали, покидает круг и теряет игру.\n",
    "    - Если в кругу еще есть более одного друга, вернитесь к шагу 2, начиная с друга сразу по часовой стрелке друга, который только что проиграл и повторяет.\n",
    "    - Иначе, последний друг в круге выигрывает игру.\n",
    "- Учитывая количество друзей, n и целого числа K, верните победителя игры."
   ]
  },
  {
   "cell_type": "code",
   "execution_count": null,
   "id": "5cd22dcd",
   "metadata": {},
   "outputs": [],
   "source": [
    "class Solution:\n",
    "    def findTheWinner(self, n: int, k: int) -> int:\n",
    "        answer = [i for i in range(1, n+1)]\n",
    "        \n",
    "        def drop_indexes(arr: list, k:int, sup: int):\n",
    "            if len(arr) == 1:\n",
    "                return arr[0]\n",
    "            else:\n",
    "                new_sup = (sup + len(answer))%k\n",
    "                if len(answer[k-1-sup:len(answer):k])==len(answer):\n",
    "                    return answer[-1]\n",
    "                else:\n",
    "                    del answer[k-1-sup:len(answer):k]\n",
    "                    return drop_indexes(answer, k, new_sup)\n",
    "            \n",
    "        return drop_indexes(answer, k, 0)\n",
    "\n",
    "a = Solution()\n",
    "assert a.findTheWinner(n = 5, k = 2) == 3, \"Test 1\"\n",
    "assert a.findTheWinner(n = 6, k = 5) == 1, \"Test 2\"\n",
    "assert a.findTheWinner(n=3, k=1) == 3, \"Test 3\""
   ]
  },
  {
   "cell_type": "markdown",
   "id": "116ffb30",
   "metadata": {},
   "source": [
    "## Задача 6 (medium)\n",
    "- ссылка: https://leetcode.com/problems/find-kth-bit-in-nth-binary-string/description/\n",
    "- Для двух положительных целых чисел n и k двоичная строка Sn формируется следующим образом:\n",
    "    - s[0] = \"0\"\n",
    "    - S[i] = S[i - 1] + \"1\" + reverse(invert(Si - 1)) для i> 1\n",
    "    Где + обозначает операцию конкатенации, reverse(x) возвращает перевернутую строку x, а invert(x) инвертирует все биты x (0 меняется на 1, а 1 меняется на 0).\n",
    "\n",
    "Например, первые четыре строки в приведенной выше последовательности:        \n",
    "С1 = \"0\"       \n",
    "С2 = \"011\"          \n",
    "S3 = \"0111001\"           \n",
    "S4 = \"011100110110001\"     \n",
    "\n",
    "Вернуть k-й бит в Sn. Гарантируется, что k действительно для заданного n."
   ]
  },
  {
   "cell_type": "code",
   "execution_count": null,
   "id": "984eb274",
   "metadata": {},
   "outputs": [],
   "source": [
    "class Solution:\n",
    "    def findKthBit(self, n: int, k: int) -> str:\n",
    "        curr = '0'\n",
    "        if n>1:\n",
    "            for _ in range(n-1):\n",
    "                suf = ''.join(['1' if i=='0' else '0' for i in curr][::-1])\n",
    "                curr = curr + '1' + suf\n",
    "        return curr[k-1]\n",
    "                \n",
    "    \n",
    "a = Solution()\n",
    "assert a.findKthBit(n = 3, k = 1) == '0', \"Test 1\"\n",
    "assert a.findKthBit(n = 4, k = 11) == '1', \"Test 2\"\n",
    "assert a.findKthBit(n=2, k=3) == '1', \"Test 3\""
   ]
  },
  {
   "cell_type": "markdown",
   "id": "d41a14c7",
   "metadata": {},
   "source": [
    "Given an integer n, return the total number of good digit strings of length n. Since the answer may be large, return it modulo 109 + 7.\n",
    "\n",
    "A digit string is a string consisting of digits 0 through 9 that may contain leading zeros."
   ]
  },
  {
   "cell_type": "code",
   "execution_count": null,
   "id": "83ffb5dd",
   "metadata": {},
   "outputs": [],
   "source": [
    "\n",
    "class Solution {\n",
    "public:\n",
    "    int kthGrammar(int N, int K) {\n",
    "        if(N==1) return 0;\n",
    "        if(K%2==0) return kthGrammar(N-1,K/2)==0 ? 1:0;\n",
    "        else return kthGrammar(N-1,(K+1)/2)==0 ? 0:1;\n",
    "    }\n",
    "};"
   ]
  },
  {
   "cell_type": "code",
   "execution_count": 27,
   "id": "9a3eeca4",
   "metadata": {
    "scrolled": false
   },
   "outputs": [],
   "source": [
    "# class Solution:\n",
    "#     def kthGrammar(self, n: int, k: int) -> int:\n",
    "#         if n==1:\n",
    "#             return '0'\n",
    "#         if k%2==0:\n",
    "#             return self.kthGrammar(n-1, k//2) == 0 \n",
    "#         else:\n",
    "#             return self.kthGrammar(n-1, (k+1)//2) == 0\n",
    "        \n",
    "class Solution:\n",
    "    def kthGrammar(self, n: int, k: int) -> int:\n",
    "        if n==1:\n",
    "            return 0\n",
    "        parent = self.kthGrammar(n-1, (int(k/2) + k%2))\n",
    "        isOdd = (k%2 == 1)\n",
    "        if parent == 1:\n",
    "            return 1 if isOdd else 0\n",
    "        else:\n",
    "            return 0 if isOdd else 1\n",
    "\n",
    "\n",
    "            \n",
    "            \n",
    "a = Solution()\n",
    "assert a.kthGrammar(n = 1, k = 1) == 0, \"Test 1\"\n",
    "assert a.kthGrammar(n = 2, k = 1) == 0, \"Test 2\"\n",
    "assert a.kthGrammar(n = 2, k = 2) == 1, \"Test 3\"\n",
    "assert a.kthGrammar(n = 3, k = 3) == 1, \"Test 4\"\n",
    "assert a.kthGrammar(n = 4, k = 5) == 1, \"Test 5\"\n",
    "assert a.kthGrammar(n = 5, k = 7) == 0, \"Test 6\"\n",
    "assert a.kthGrammar(n = 6, k = 9) == 1, \"Test 7\"\n",
    "assert a.kthGrammar(n = 30, k = 434_991_989) == 0, \"Test 8\"\n",
    "assert a.kthGrammar(n = 3, k = 2) == 1, \"Test 9\"\n",
    "assert a.kthGrammar(n = 4, k = 2) == 1, \"Test 10\"\n",
    "assert a.kthGrammar(n = 4, k = 6) == 0, \"Test 11\"\n",
    "# assert a.kthGrammar(n = 30, k = 434_991_989) == '0', \"Test 12\"\n"
   ]
  },
  {
   "cell_type": "markdown",
   "id": "975d1453",
   "metadata": {},
   "source": [
    "0\n",
    "01\n",
    "0110\n",
    "01101001\n",
    "0110100110010110\n",
    "01101001100101101001011001101001"
   ]
  },
  {
   "cell_type": "code",
   "execution_count": null,
   "id": "2a2a76ea",
   "metadata": {},
   "outputs": [],
   "source": [
    "n = 6\n",
    "\n",
    "s = '01'\n",
    "ind = 2\n",
    "while ind < n:\n",
    "    new_s = ''\n",
    "    for i in s:\n",
    "        if i=='0':\n",
    "            new_s += '01'\n",
    "        else:\n",
    "            new_s += '10'\n",
    "    s = new_s\n",
    "    ind += 1\n",
    "    \n",
    "print(s)"
   ]
  },
  {
   "cell_type": "code",
   "execution_count": null,
   "id": "a99cbad0",
   "metadata": {},
   "outputs": [],
   "source": [
    "def func(s: str):\n",
    "    answer = ''\n",
    "    if s.count('[')==1 and s.count(']')==1:\n",
    "        number = int(s[0:s.index('[')])\n",
    "        mul_str = s[s.index('[')+1:s.index(']')]\n",
    "        answer += mul_str*number\n",
    "    elif s.count('[')>1:\n",
    "#         print(s[s.index('[')+1:])\n",
    "        return func(s[s.index('[')+1:])\n",
    "    elif s.count(']')>1:\n",
    "        print(s[:s.rfind(']')-1])\n",
    "        return func(s[:s.rfind(']')-1])\n",
    "    return answer\n",
    "\n",
    "   \n",
    "s = \"3[a]2[bc]\"\n",
    "func(s)"
   ]
  },
  {
   "cell_type": "code",
   "execution_count": null,
   "id": "9be4a770",
   "metadata": {},
   "outputs": [],
   "source": [
    "def is_balanced(text, brackets=\"〈〉()[]{}\"):\n",
    "    opening, closing = brackets[::2], brackets[1::2]\n",
    "    stack = [] # keep track of opening brackets types\n",
    "    for character in text:\n",
    "        if character in opening: # bracket\n",
    "            stack.append(opening.index(character))\n",
    "        elif character in closing: # bracket\n",
    "            if stack and stack[-1] == closing.index(character):\n",
    "                stack.pop()  # remove the matched pair\n",
    "            else:\n",
    "                return False # unbalanced (no corresponding opening bracket) or\n",
    "                             # unmatched (different type) closing bracket\n",
    "    return (not stack) # no unbalanced brackets"
   ]
  },
  {
   "cell_type": "code",
   "execution_count": null,
   "id": "384dff02",
   "metadata": {},
   "outputs": [],
   "source": []
  },
  {
   "cell_type": "code",
   "execution_count": null,
   "id": "cf2feeb0",
   "metadata": {},
   "outputs": [],
   "source": []
  },
  {
   "cell_type": "code",
   "execution_count": null,
   "id": "d8024736",
   "metadata": {},
   "outputs": [],
   "source": []
  },
  {
   "cell_type": "code",
   "execution_count": null,
   "id": "79e64328",
   "metadata": {},
   "outputs": [],
   "source": []
  },
  {
   "cell_type": "code",
   "execution_count": null,
   "id": "495bc388",
   "metadata": {},
   "outputs": [],
   "source": []
  },
  {
   "cell_type": "code",
   "execution_count": null,
   "id": "41bde1db",
   "metadata": {},
   "outputs": [],
   "source": []
  }
 ],
 "metadata": {
  "kernelspec": {
   "display_name": "Python 3",
   "language": "python",
   "name": "python3"
  },
  "language_info": {
   "codemirror_mode": {
    "name": "ipython",
    "version": 3
   },
   "file_extension": ".py",
   "mimetype": "text/x-python",
   "name": "python",
   "nbconvert_exporter": "python",
   "pygments_lexer": "ipython3",
   "version": "3.7.13"
  }
 },
 "nbformat": 4,
 "nbformat_minor": 5
}
