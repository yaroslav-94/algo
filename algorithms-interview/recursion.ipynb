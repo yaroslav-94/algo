{
 "cells": [
  {
   "cell_type": "code",
   "execution_count": null,
   "id": "0a79548c",
   "metadata": {},
   "outputs": [],
   "source": []
  },
  {
   "cell_type": "markdown",
   "id": "70fb5605",
   "metadata": {},
   "source": [
    "## Задача 1\n",
    "- ссылка: https://leetcode.com/problems/fibonacci-number/\n",
    "- Числа Фибоначчи, обычно обозначаемые F(n), образуют последовательность, называемую последовательностью Фибоначчи, так что каждое число является суммой двух предыдущих, начиная с 0 и 1. Дано входное число n, найти F(n)"
   ]
  },
  {
   "cell_type": "code",
   "execution_count": 25,
   "id": "dfcb1f9b",
   "metadata": {},
   "outputs": [],
   "source": [
    "class Solution:\n",
    "    def fib(self, n: int) -> int:\n",
    "        if n<=1:\n",
    "            return n\n",
    "        prev, curr = 0, 1\n",
    "        for _ in range(n):\n",
    "            prev, curr = curr, curr+prev\n",
    "        return prev\n",
    "    \n",
    "    \n",
    "a = Solution()\n",
    "assert a.fib(n=2) == 1, \"Test 1\"\n",
    "assert a.fib(n=3) == 2, \"Test 2\"\n",
    "assert a.fib(n=4) == 3, \"Test 3\""
   ]
  },
  {
   "cell_type": "markdown",
   "id": "f3465eb1",
   "metadata": {},
   "source": [
    "## Задача 2\n",
    "- ссылка: https://leetcode.com/problems/power-of-four/\n",
    "- Дано число n. Вернуть True, если n является степенью 4, иначе вернуть False"
   ]
  },
  {
   "cell_type": "code",
   "execution_count": 26,
   "id": "ee09e6fa",
   "metadata": {},
   "outputs": [],
   "source": [
    "class Solution:\n",
    "    def isPowerOfFour(self, n: int) -> bool:\n",
    "        \n",
    "        def rec_finder(n: int):\n",
    "            if n>1 and n%4==0:\n",
    "                n = n//4\n",
    "                return rec_finder(n)\n",
    "            elif n==1:\n",
    "                return True\n",
    "            else:\n",
    "                return False\n",
    "        return rec_finder(n)\n",
    "    \n",
    "    \n",
    "a = Solution()\n",
    "assert a.isPowerOfFour(n=16) == True, \"Test 1\"\n",
    "assert a.isPowerOfFour(n=5) == False, \"Test 2\"\n",
    "assert a.isPowerOfFour(n=1) == True, \"Test 3\""
   ]
  },
  {
   "cell_type": "markdown",
   "id": "e1d57e92",
   "metadata": {},
   "source": [
    "## Задача 3\n",
    "- ссылка: https://leetcode.com/problems/power-of-two/\n",
    "- Дано число n. Вернуть True, если n является степенью 2, иначе вернуть False"
   ]
  },
  {
   "cell_type": "code",
   "execution_count": 29,
   "id": "2be8eae1",
   "metadata": {},
   "outputs": [],
   "source": [
    "class Solution:\n",
    "    def isPowerOfTwo(self, n: int) -> bool:\n",
    "        def rec_finder(n: int):\n",
    "            if n>1 and n%2==0:\n",
    "                n = n//2\n",
    "                return rec_finder(n)\n",
    "            elif n==1:\n",
    "                return True\n",
    "            else:\n",
    "                return False\n",
    "        return rec_finder(n)\n",
    "    \n",
    "a = Solution()\n",
    "assert a.isPowerOfTwo(n=1) == True, \"Test 1\"\n",
    "assert a.isPowerOfTwo(n=16) == True, \"Test 2\"\n",
    "assert a.isPowerOfTwo(n=3) == False, \"Test 3\"\n",
    "assert a.isPowerOfTwo(n=6) == False, \"Test 3\""
   ]
  },
  {
   "cell_type": "markdown",
   "id": "d3d7f90f",
   "metadata": {},
   "source": [
    "## Задача 4\n",
    "- ссылка: https://leetcode.com/problems/power-of-three/\n",
    "- Дано число n. Вернуть True, если n является степенью 3, иначе вернуть False"
   ]
  },
  {
   "cell_type": "code",
   "execution_count": 30,
   "id": "319bbbbd",
   "metadata": {},
   "outputs": [],
   "source": [
    "class Solution:\n",
    "    def isPowerOfThree(self, n: int) -> bool:\n",
    "        def rec_finder(n: int):\n",
    "            if n>1 and n%3==0:\n",
    "                n = n//3\n",
    "                return rec_finder(n)\n",
    "            elif n==1:\n",
    "                return True\n",
    "            else:\n",
    "                return False\n",
    "        return rec_finder(n)\n",
    "    \n",
    "    \n",
    "a = Solution()\n",
    "assert a.isPowerOfThree(n=27) == True, \"Test 1\"\n",
    "assert a.isPowerOfThree(n=0) == False, \"Test 2\"\n",
    "assert a.isPowerOfThree(n=-1) == False, \"Test 3\""
   ]
  },
  {
   "cell_type": "markdown",
   "id": "784ad6be",
   "metadata": {},
   "source": [
    "## Задача 4\n",
    "- ссылка: https://leetcode.com/problems/power-of-three/\n",
    "- Дано число n. Вернуть True если число представимо в виде суммы степеней 3. Иначе вернуть False. "
   ]
  },
  {
   "cell_type": "code",
   "execution_count": 57,
   "id": "d3cd66aa",
   "metadata": {},
   "outputs": [
    {
     "name": "stdout",
     "output_type": "stream",
     "text": [
      "3 9 2 3\n",
      "2.6666666666666665 0.3333333333333333 -1 0\n",
      "1.6666666666666665 1.0 0.0 1.0\n",
      "0.6666666666666665 1.0 0.0 1.0\n"
     ]
    },
    {
     "ename": "AssertionError",
     "evalue": "Test 1",
     "output_type": "error",
     "traceback": [
      "\u001b[1;31m---------------------------------------------------------------------------\u001b[0m",
      "\u001b[1;31mAssertionError\u001b[0m                            Traceback (most recent call last)",
      "\u001b[1;32m<ipython-input-57-a3d92856d886>\u001b[0m in \u001b[0;36m<module>\u001b[1;34m\u001b[0m\n\u001b[0;32m     21\u001b[0m \u001b[1;33m\u001b[0m\u001b[0m\n\u001b[0;32m     22\u001b[0m \u001b[0ma\u001b[0m \u001b[1;33m=\u001b[0m \u001b[0mSolution\u001b[0m\u001b[1;33m(\u001b[0m\u001b[1;33m)\u001b[0m\u001b[1;33m\u001b[0m\u001b[1;33m\u001b[0m\u001b[0m\n\u001b[1;32m---> 23\u001b[1;33m \u001b[1;32massert\u001b[0m \u001b[0ma\u001b[0m\u001b[1;33m.\u001b[0m\u001b[0mcheckPowersOfThree\u001b[0m\u001b[1;33m(\u001b[0m\u001b[0mn\u001b[0m\u001b[1;33m=\u001b[0m\u001b[1;36m12\u001b[0m\u001b[1;33m)\u001b[0m \u001b[1;33m==\u001b[0m \u001b[1;32mTrue\u001b[0m\u001b[1;33m,\u001b[0m \u001b[1;34m\"Test 1\"\u001b[0m\u001b[1;33m\u001b[0m\u001b[1;33m\u001b[0m\u001b[0m\n\u001b[0m\u001b[0;32m     24\u001b[0m \u001b[1;32massert\u001b[0m \u001b[0ma\u001b[0m\u001b[1;33m.\u001b[0m\u001b[0mcheckPowersOfThree\u001b[0m\u001b[1;33m(\u001b[0m\u001b[0mn\u001b[0m\u001b[1;33m=\u001b[0m\u001b[1;36m91\u001b[0m\u001b[1;33m)\u001b[0m \u001b[1;33m==\u001b[0m \u001b[1;32mTrue\u001b[0m\u001b[1;33m,\u001b[0m \u001b[1;34m\"Test 2\"\u001b[0m\u001b[1;33m\u001b[0m\u001b[1;33m\u001b[0m\u001b[0m\n\u001b[0;32m     25\u001b[0m \u001b[1;32massert\u001b[0m \u001b[0ma\u001b[0m\u001b[1;33m.\u001b[0m\u001b[0mcheckPowersOfThree\u001b[0m\u001b[1;33m(\u001b[0m\u001b[0mn\u001b[0m\u001b[1;33m=\u001b[0m\u001b[1;36m21\u001b[0m\u001b[1;33m)\u001b[0m \u001b[1;33m==\u001b[0m \u001b[1;32mFalse\u001b[0m\u001b[1;33m,\u001b[0m \u001b[1;34m\"Test 3\"\u001b[0m\u001b[1;33m\u001b[0m\u001b[1;33m\u001b[0m\u001b[0m\n",
      "\u001b[1;31mAssertionError\u001b[0m: Test 1"
     ]
    }
   ],
   "source": [
    "class Solution:\n",
    "    def checkPowersOfThree(self, n: int) -> bool:\n",
    "        # find close power of 3\n",
    "        while n>1:\n",
    "            left, right = 0, n//3+1\n",
    "            while left<right:\n",
    "                middle = (left+right)//2\n",
    "                if 3**middle>n:\n",
    "                    right = middle\n",
    "                elif 3**middle<n:\n",
    "                    left = middle+1\n",
    "                elif 3**middle==n:\n",
    "                    break\n",
    "            n -= 3**(left-1)\n",
    "            print(n, 3**(left-1), left-1, left)\n",
    "        if n == 1:\n",
    "            return True\n",
    "        else:\n",
    "            return False\n",
    "    \n",
    "    \n",
    "a = Solution()\n",
    "assert a.checkPowersOfThree(n=12) == True, \"Test 1\"\n",
    "assert a.checkPowersOfThree(n=91) == True, \"Test 2\"\n",
    "assert a.checkPowersOfThree(n=21) == False, \"Test 3\"\n",
    "assert a.checkPowersOfThree(n=9) == True, \"Test 4\""
   ]
  },
  {
   "cell_type": "code",
   "execution_count": null,
   "id": "290984fe",
   "metadata": {},
   "outputs": [],
   "source": []
  },
  {
   "cell_type": "code",
   "execution_count": null,
   "id": "929a36ca",
   "metadata": {},
   "outputs": [],
   "source": []
  },
  {
   "cell_type": "code",
   "execution_count": null,
   "id": "bbf175bd",
   "metadata": {},
   "outputs": [],
   "source": []
  },
  {
   "cell_type": "code",
   "execution_count": null,
   "id": "5cd22dcd",
   "metadata": {},
   "outputs": [],
   "source": []
  },
  {
   "cell_type": "code",
   "execution_count": null,
   "id": "304a9905",
   "metadata": {},
   "outputs": [],
   "source": []
  },
  {
   "cell_type": "code",
   "execution_count": null,
   "id": "865f201f",
   "metadata": {},
   "outputs": [],
   "source": []
  },
  {
   "cell_type": "code",
   "execution_count": null,
   "id": "7873fab9",
   "metadata": {},
   "outputs": [],
   "source": []
  },
  {
   "cell_type": "code",
   "execution_count": null,
   "id": "3395ef4a",
   "metadata": {},
   "outputs": [],
   "source": []
  },
  {
   "cell_type": "code",
   "execution_count": null,
   "id": "984eb274",
   "metadata": {},
   "outputs": [],
   "source": []
  },
  {
   "cell_type": "code",
   "execution_count": null,
   "id": "51bc369e",
   "metadata": {},
   "outputs": [],
   "source": []
  },
  {
   "cell_type": "code",
   "execution_count": null,
   "id": "9a3eeca4",
   "metadata": {},
   "outputs": [],
   "source": []
  }
 ],
 "metadata": {
  "kernelspec": {
   "display_name": "Python 3",
   "language": "python",
   "name": "python3"
  },
  "language_info": {
   "codemirror_mode": {
    "name": "ipython",
    "version": 3
   },
   "file_extension": ".py",
   "mimetype": "text/x-python",
   "name": "python",
   "nbconvert_exporter": "python",
   "pygments_lexer": "ipython3",
   "version": "3.7.13"
  }
 },
 "nbformat": 4,
 "nbformat_minor": 5
}
