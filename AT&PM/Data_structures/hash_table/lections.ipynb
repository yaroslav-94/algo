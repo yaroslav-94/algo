{
 "cells": [
  {
   "cell_type": "markdown",
   "id": "4e08ae45",
   "metadata": {},
   "source": [
    "## Хэш-таблицы\n",
    "https://neerc.ifmo.ru/wiki/index.php?title=Хеш-таблица\n",
    "\n",
    "Множество (set) - структура данных, которая позволяет добавлять и удалять ключи, проверять принадлежность    \n",
    "Словарь/ассоциативный массив (dictionary/map) - каждому ключу сопоставлены данные, ключи уникальны\n",
    "\n",
    "Прямая адресация: создаем массив из всех возможных значений и заполняем его. Проблема - много нужно держать в памяти\n",
    "\n",
    "Хэш-функции:\n",
    "- К - множество ключей\n",
    "- h: $K\\to {0, ..., m-1}$ - хэш-функция\n",
    "- h(k) - хэш-значение ключа k\n",
    "\n",
    "Коллизия - совпадение хэш-значений: $h(k_1)=h(k_2),k_1!=k_2$. Если число элементов n больше чем число значений m, то коллизии неизбежны. $\\alpha=\\frac{n}{m}$ - коэффициент заполнения\n",
    "\n",
    "### Разрешение коллизий\n",
    "- Первый способ (chaining) - храним цепочки из значений. Поиск: O(l), где l длина списка. Добавление: O(1). Удаление: O(l) Храним указатель на следующий элемент и текущее значение\n",
    "- Второй способ - открытая адресация. n<=m $h: K*{0,...,m-1}\\to {0,...,m-1}$ $\\forall k\\in K, h(k,0),...,h(k,m-1)$- перестановка 0,..., m-1. Если случилась коллизия, то то ищем следующую ячейку, которая будет свободна\n",
    "\n",
    "### Вероятностный анализ алгоритмов хэштрования\n",
    "Гипотеза простого равномерного хэширования:\n",
    "- h(k) - выбирается случайно равномерно из 0,...,m-1\n",
    "- $h(k_1)$ и $h(k_2)$ независимы для различных $k_1,k_2$\n",
    "\n",
    "Теорема: в предположении гипотезы:\n",
    "- средняя длина цепочки равна $\\alpha=\\frac{n}{m}$\n",
    "- среднее время поиска $O(1+\\alpha)$\n",
    "\n",
    "### Универсальное хэширование\n",
    "Семейство $\\mathscr{H}={h:K\\to \\{0,...,m-1\\}}$ называется универсальным семейством хэш-функций, если $\\forall k_1\\neq k_2 \\in K$ $\\frac{|\\{h\\in \\mathscr{H}:h(k_1)=h(k_2) \\}|}{|\\mathscr{H}|}\\leq \\frac{1}{m}$\n",
    "\n",
    "Среднее время поиска для универсального хэширования $O(1+\\alpha)$. Можем менять отношение для того чтобы уменьшить выделяемую память или ускорить поиск\n",
    "\n",
    "Пример такого множества\n",
    "- Пусть $K=\\{0,...,t-1\\},p\\in P, p\\geq t$. Пусть $h_{ab}=((ak+b)mod\\ p)mod\\ m$. Тогда $\\mathscr{H}=\\{h_{ab}:1\\leq a \\leq p-1,0\\leq b \\leq p-1 \\}$ является универсальным семейством\n",
    "\n"
   ]
  },
  {
   "cell_type": "code",
   "execution_count": null,
   "id": "06278874",
   "metadata": {},
   "outputs": [],
   "source": []
  },
  {
   "cell_type": "code",
   "execution_count": null,
   "id": "40f38e53",
   "metadata": {},
   "outputs": [],
   "source": []
  },
  {
   "cell_type": "code",
   "execution_count": null,
   "id": "bd74d1af",
   "metadata": {},
   "outputs": [],
   "source": []
  },
  {
   "cell_type": "code",
   "execution_count": null,
   "id": "be843bbf",
   "metadata": {},
   "outputs": [],
   "source": []
  },
  {
   "cell_type": "code",
   "execution_count": null,
   "id": "fd329f42",
   "metadata": {},
   "outputs": [],
   "source": []
  },
  {
   "cell_type": "code",
   "execution_count": null,
   "id": "0955f983",
   "metadata": {},
   "outputs": [],
   "source": []
  },
  {
   "cell_type": "code",
   "execution_count": null,
   "id": "ec778c67",
   "metadata": {},
   "outputs": [],
   "source": []
  },
  {
   "cell_type": "code",
   "execution_count": null,
   "id": "430026b2",
   "metadata": {},
   "outputs": [],
   "source": []
  },
  {
   "cell_type": "code",
   "execution_count": null,
   "id": "b143d720",
   "metadata": {},
   "outputs": [],
   "source": []
  },
  {
   "cell_type": "code",
   "execution_count": null,
   "id": "bd97c587",
   "metadata": {},
   "outputs": [],
   "source": []
  },
  {
   "cell_type": "code",
   "execution_count": null,
   "id": "8bda6fb3",
   "metadata": {},
   "outputs": [],
   "source": []
  },
  {
   "cell_type": "code",
   "execution_count": null,
   "id": "54aee126",
   "metadata": {},
   "outputs": [],
   "source": []
  },
  {
   "cell_type": "code",
   "execution_count": null,
   "id": "afb53c9c",
   "metadata": {},
   "outputs": [],
   "source": []
  },
  {
   "cell_type": "code",
   "execution_count": null,
   "id": "69cc7657",
   "metadata": {},
   "outputs": [],
   "source": []
  },
  {
   "cell_type": "code",
   "execution_count": null,
   "id": "d3da3961",
   "metadata": {},
   "outputs": [],
   "source": []
  }
 ],
 "metadata": {
  "kernelspec": {
   "display_name": "Python 3",
   "language": "python",
   "name": "python3"
  },
  "language_info": {
   "codemirror_mode": {
    "name": "ipython",
    "version": 3
   },
   "file_extension": ".py",
   "mimetype": "text/x-python",
   "name": "python",
   "nbconvert_exporter": "python",
   "pygments_lexer": "ipython3",
   "version": "3.7.13"
  }
 },
 "nbformat": 4,
 "nbformat_minor": 5
}
