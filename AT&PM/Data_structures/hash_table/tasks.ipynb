{
 "cells": [
  {
   "cell_type": "markdown",
   "id": "52771b50",
   "metadata": {},
   "source": [
    "## Хэш-таблицы"
   ]
  },
  {
   "cell_type": "markdown",
   "id": "71142b88",
   "metadata": {},
   "source": [
    "### Телефонная книга\n",
    "- telephone_book.py\n",
    "\n",
    "Реализовать структуру данных, эффективно обрабатывающую запросы вида add number name, del number и find number.\n",
    "- Вход. Последовательность запросов вида add number name, del number и find number, где number — телефонный номер, содержащий не более семи знаков, а name — короткая строка.\n",
    "- Выход. Для каждого запроса find number выведите соответствующее имя или сообщите, что такой записи нет."
   ]
  },
  {
   "cell_type": "markdown",
   "id": "bf1311cb",
   "metadata": {},
   "source": [
    "### Хеширование цепочками\n",
    "- hash_chain.py\n",
    "\n",
    "Реализовать процесс хэширования\n",
    "- Вход. Первая строка размер хеш-таблицы m. Следующая строка содержит количество запросов n. Каждая из последующих n строк содержит запрос одного из перечисленных выше четырёх типов.\n",
    "- Выход. Для каждого из запросов типа find и check выведите результат в отдельной строке."
   ]
  },
  {
   "cell_type": "code",
   "execution_count": null,
   "id": "d97846b1",
   "metadata": {},
   "outputs": [],
   "source": []
  },
  {
   "cell_type": "code",
   "execution_count": null,
   "id": "ad8446c3",
   "metadata": {},
   "outputs": [],
   "source": []
  },
  {
   "cell_type": "code",
   "execution_count": null,
   "id": "9c00f743",
   "metadata": {},
   "outputs": [],
   "source": []
  },
  {
   "cell_type": "code",
   "execution_count": null,
   "id": "4edf2064",
   "metadata": {},
   "outputs": [],
   "source": []
  },
  {
   "cell_type": "code",
   "execution_count": null,
   "id": "b177cb1b",
   "metadata": {},
   "outputs": [],
   "source": []
  },
  {
   "cell_type": "code",
   "execution_count": null,
   "id": "24854318",
   "metadata": {},
   "outputs": [],
   "source": []
  },
  {
   "cell_type": "code",
   "execution_count": null,
   "id": "76293bf1",
   "metadata": {},
   "outputs": [],
   "source": []
  },
  {
   "cell_type": "code",
   "execution_count": null,
   "id": "8396a5df",
   "metadata": {},
   "outputs": [],
   "source": []
  },
  {
   "cell_type": "code",
   "execution_count": null,
   "id": "29ba9377",
   "metadata": {},
   "outputs": [],
   "source": []
  },
  {
   "cell_type": "code",
   "execution_count": null,
   "id": "1467845d",
   "metadata": {},
   "outputs": [],
   "source": []
  }
 ],
 "metadata": {
  "kernelspec": {
   "display_name": "Python 3",
   "language": "python",
   "name": "python3"
  },
  "language_info": {
   "codemirror_mode": {
    "name": "ipython",
    "version": 3
   },
   "file_extension": ".py",
   "mimetype": "text/x-python",
   "name": "python",
   "nbconvert_exporter": "python",
   "pygments_lexer": "ipython3",
   "version": "3.7.13"
  }
 },
 "nbformat": 4,
 "nbformat_minor": 5
}
