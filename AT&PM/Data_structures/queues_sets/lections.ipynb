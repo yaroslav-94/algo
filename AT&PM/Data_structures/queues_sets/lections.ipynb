{
 "cells": [
  {
   "cell_type": "markdown",
   "id": "a29d0533",
   "metadata": {},
   "source": [
    "## Очереди с приоритетом\n",
    "- абстрактный тип данных, поддерживающий следующие операции:\n",
    "    - insert(p) - добавить элемент с приоритетом p\n",
    "    - extract_max(p) - извлечь элемент с максимальным приоритетом\n",
    "    - remove(it) - удалить\n",
    "    - get_max() - вернуть максимальный элемент\n",
    "    - change_priority(it, p) - изменить приоритет элемнта на p \n",
    "\n",
    "Простейшие реализации:        \n",
    "$\n",
    "\\begin{array}{c|c|c|}\n",
    "   & insert & extract\\_max \\\\\n",
    "  массив/список & O(1) & O(n) \\\\\n",
    "  упорядоченный\\ массив/список & O(n) & O(1) \\\\\n",
    " \\end{array}\n",
    "$\n",
    "\n",
    "### Двоичная куча\n",
    "- двоичная макс-куча - двоичное дерево (у каждой вершины не более двух сыновей), в котором значение в каждой вершине не меньше значений в ее сыновьях\n",
    "\n",
    "Выполнение операций:\n",
    "- get_max() - возвращает корень\n",
    "- insert(p) - подвесить к листу и посеять вверх\n",
    "- extract_max(p) - обменять корень с листом и просеять вниз\n",
    "- change_priority(it, p) - изменить приоритет и просеять вверх/вниз\n",
    "- remove(it) - изменить приоритет на бесконечность, просеять вверх, извлечь максимум\n",
    "\n",
    "### Полностью заполненные двоичные деревья\n",
    "- все уровни полностью заполнены, кроме, возможно последнего, который заполнен слева направо   \n",
    "\n",
    "Преимущества:\n",
    "- Высота $O(logn)$\n",
    "- Удобно хранить в массиве (родитель-[i/2], left-(2i), right-(2i+1))\n",
    "\n",
    "\n",
    "### Сортировка кучей\n",
    "- $\\theta (n log n)$ время сортировки выбором, не на месте\n",
    "```\n",
    "heap_sort(A[1..n]):      \n",
    "create empty priority queue        \n",
    "for i from 1 to n:    \n",
    "    insert(A[i])    \n",
    "for i from n downto 1:        \n",
    "    A[i] = extract_max()   \n",
    "```\n",
    "\n",
    "Перевод массива в кучу (просеиваем половину элементов ):\n",
    "```\n",
    "build_heap(A[1..n]):\n",
    "    size = n\n",
    "    for i from [n/2] downto 1:\n",
    "        sift_down(i)\n",
    "```\n",
    "\n",
    "Сортировка кучей на месте:\n",
    "```\n",
    "heap_sort(A[1..n]):\n",
    "    build_heap(A)\n",
    "    size = n\n",
    "    repeat (n-1) times:\n",
    "        swap A[1] and A[size]\n",
    "        size = size - 1\n",
    "        sift_down(1)\n",
    "```\n",
    "\n",
    "Заключение\n",
    "- Массивы с индекацией с 0 - parent=[(i-1)/2], left=2i+1, right=2i+2\n",
    "- Мин куча - поддерживаем минимум\n",
    "- d-ичная куча: высота=$log_d n$, T(sift_up)=O($log_d n$), T(sift_down)=O(d$log_d n$)"
   ]
  },
  {
   "cell_type": "code",
   "execution_count": null,
   "id": "ac10001a",
   "metadata": {},
   "outputs": [],
   "source": []
  },
  {
   "cell_type": "code",
   "execution_count": null,
   "id": "05230354",
   "metadata": {},
   "outputs": [],
   "source": []
  },
  {
   "cell_type": "code",
   "execution_count": null,
   "id": "a234bcaf",
   "metadata": {},
   "outputs": [],
   "source": []
  },
  {
   "cell_type": "code",
   "execution_count": null,
   "id": "9f5a0a4b",
   "metadata": {},
   "outputs": [],
   "source": []
  },
  {
   "cell_type": "code",
   "execution_count": null,
   "id": "36ab8e10",
   "metadata": {},
   "outputs": [],
   "source": []
  },
  {
   "cell_type": "code",
   "execution_count": null,
   "id": "44082992",
   "metadata": {},
   "outputs": [],
   "source": []
  },
  {
   "cell_type": "code",
   "execution_count": null,
   "id": "73c83357",
   "metadata": {},
   "outputs": [],
   "source": []
  },
  {
   "cell_type": "code",
   "execution_count": null,
   "id": "12916001",
   "metadata": {},
   "outputs": [],
   "source": []
  },
  {
   "cell_type": "code",
   "execution_count": null,
   "id": "929791e1",
   "metadata": {},
   "outputs": [],
   "source": []
  },
  {
   "cell_type": "code",
   "execution_count": null,
   "id": "6f0e3c67",
   "metadata": {},
   "outputs": [],
   "source": []
  },
  {
   "cell_type": "code",
   "execution_count": null,
   "id": "e6419858",
   "metadata": {},
   "outputs": [],
   "source": []
  },
  {
   "cell_type": "code",
   "execution_count": null,
   "id": "87457d0f",
   "metadata": {},
   "outputs": [],
   "source": []
  },
  {
   "cell_type": "code",
   "execution_count": null,
   "id": "4f4ecd6c",
   "metadata": {},
   "outputs": [],
   "source": []
  },
  {
   "cell_type": "code",
   "execution_count": null,
   "id": "9e0b746d",
   "metadata": {},
   "outputs": [],
   "source": []
  },
  {
   "cell_type": "code",
   "execution_count": null,
   "id": "00812e8d",
   "metadata": {},
   "outputs": [],
   "source": []
  },
  {
   "cell_type": "code",
   "execution_count": null,
   "id": "a858c42b",
   "metadata": {},
   "outputs": [],
   "source": []
  }
 ],
 "metadata": {
  "kernelspec": {
   "display_name": "Python 3",
   "language": "python",
   "name": "python3"
  },
  "language_info": {
   "codemirror_mode": {
    "name": "ipython",
    "version": 3
   },
   "file_extension": ".py",
   "mimetype": "text/x-python",
   "name": "python",
   "nbconvert_exporter": "python",
   "pygments_lexer": "ipython3",
   "version": "3.7.13"
  }
 },
 "nbformat": 4,
 "nbformat_minor": 5
}
