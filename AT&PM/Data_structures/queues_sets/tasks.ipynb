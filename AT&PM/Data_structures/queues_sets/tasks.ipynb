{
 "cells": [
  {
   "cell_type": "markdown",
   "id": "acd7251f",
   "metadata": {},
   "source": [
    "## Задача 1\n",
    "Переставить элементы заданного массива чисел так, чтобы он удовлетворял свойству мин-кучи.\n",
    "- Вход. Массив чисел A[0 . . . n − 1].\n",
    "- Выход. Переставить элементы массива так, чтобы выполнялись неравенства A[i] ≤ A[2i + 1] и A[i] ≤ A[2i + 2] для\n",
    "всех i."
   ]
  },
  {
   "cell_type": "markdown",
   "id": "1bb0c614",
   "metadata": {},
   "source": [
    "## Задача 2\n",
    "Параллельная обработка. По данным n процессорам и m задач определите, для каждой из задач, каким процессором она будет обработана.\n",
    "- Вход. Число процессоров n и последовательность чисел $t_0, . . . , t_{m−1}$, где ti — время, необходимое на обработку i-й задачи.\n",
    "- Выход. Для каждой задачи определите, какой процессор и в какое время начнёт её обрабатывать, предполагая, что каждая задача поступает на обработку первому освободившемуся процессору.\n"
   ]
  },
  {
   "cell_type": "code",
   "execution_count": null,
   "id": "576006f9",
   "metadata": {},
   "outputs": [],
   "source": []
  },
  {
   "cell_type": "code",
   "execution_count": null,
   "id": "b1654b20",
   "metadata": {},
   "outputs": [],
   "source": []
  },
  {
   "cell_type": "code",
   "execution_count": null,
   "id": "ac2dfad0",
   "metadata": {},
   "outputs": [],
   "source": []
  },
  {
   "cell_type": "code",
   "execution_count": null,
   "id": "67e91dc6",
   "metadata": {},
   "outputs": [],
   "source": [
    " "
   ]
  },
  {
   "cell_type": "code",
   "execution_count": null,
   "id": "2f251305",
   "metadata": {},
   "outputs": [],
   "source": []
  },
  {
   "cell_type": "code",
   "execution_count": null,
   "id": "370d13fc",
   "metadata": {},
   "outputs": [],
   "source": []
  },
  {
   "cell_type": "code",
   "execution_count": null,
   "id": "6d460620",
   "metadata": {},
   "outputs": [],
   "source": []
  },
  {
   "cell_type": "code",
   "execution_count": null,
   "id": "aff480d9",
   "metadata": {},
   "outputs": [],
   "source": []
  },
  {
   "cell_type": "code",
   "execution_count": null,
   "id": "07a96dab",
   "metadata": {},
   "outputs": [],
   "source": []
  },
  {
   "cell_type": "code",
   "execution_count": null,
   "id": "4cf6c2df",
   "metadata": {},
   "outputs": [],
   "source": []
  }
 ],
 "metadata": {
  "kernelspec": {
   "display_name": "Python 3",
   "language": "python",
   "name": "python3"
  },
  "language_info": {
   "codemirror_mode": {
    "name": "ipython",
    "version": 3
   },
   "file_extension": ".py",
   "mimetype": "text/x-python",
   "name": "python",
   "nbconvert_exporter": "python",
   "pygments_lexer": "ipython3",
   "version": "3.7.13"
  }
 },
 "nbformat": 4,
 "nbformat_minor": 5
}
