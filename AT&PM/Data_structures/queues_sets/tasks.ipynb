{
 "cells": [
  {
   "cell_type": "markdown",
   "id": "acd7251f",
   "metadata": {},
   "source": [
    "## Задача 1\n",
    "Переставить элементы заданного массива чисел так, чтобы он удовлетворял свойству мин-кучи.\n",
    "- Вход. Массив чисел A[0 . . . n − 1].\n",
    "- Выход. Переставить элементы массива так, чтобы выполнялись неравенства A[i] ≤ A[2i + 1] и A[i] ≤ A[2i + 2] для\n",
    "всех i."
   ]
  },
  {
   "cell_type": "markdown",
   "id": "1bb0c614",
   "metadata": {},
   "source": [
    "## Задача 2\n",
    "Параллельная обработка. По данным n процессорам и m задач определите, для каждой из задач, каким процессором она будет обработана.\n",
    "- Вход. Число процессоров n и последовательность чисел $t_0, . . . , t_{m−1}$, где ti — время, необходимое на обработку i-й задачи.\n",
    "- Выход. Для каждой задачи определите, какой процессор и в какое время начнёт её обрабатывать, предполагая, что каждая задача поступает на обработку первому освободившемуся процессору.\n"
   ]
  },
  {
   "cell_type": "code",
   "execution_count": null,
   "id": "576006f9",
   "metadata": {},
   "outputs": [],
   "source": []
  },
  {
   "cell_type": "code",
   "execution_count": null,
   "id": "b1654b20",
   "metadata": {},
   "outputs": [],
   "source": []
  },
  {
   "cell_type": "code",
   "execution_count": null,
   "id": "ac2dfad0",
   "metadata": {},
   "outputs": [],
   "source": []
  },
  {
   "cell_type": "code",
   "execution_count": null,
   "id": "67e91dc6",
   "metadata": {},
   "outputs": [],
   "source": []
  },
  {
   "cell_type": "code",
   "execution_count": null,
   "id": "2f251305",
   "metadata": {},
   "outputs": [],
   "source": []
  },
  {
   "cell_type": "code",
   "execution_count": null,
   "id": "370d13fc",
   "metadata": {},
   "outputs": [],
   "source": []
  },
  {
   "cell_type": "code",
   "execution_count": null,
   "id": "6d460620",
   "metadata": {},
   "outputs": [],
   "source": []
  },
  {
   "cell_type": "code",
   "execution_count": null,
   "id": "aff480d9",
   "metadata": {},
   "outputs": [],
   "source": []
  },
  {
   "cell_type": "code",
   "execution_count": null,
   "id": "07a96dab",
   "metadata": {},
   "outputs": [],
   "source": []
  },
  {
   "cell_type": "code",
   "execution_count": 1,
   "id": "4cf6c2df",
   "metadata": {},
   "outputs": [
    {
     "name": "stdout",
     "output_type": "stream",
     "text": [
      "5 5\n",
      "1 1 1 1 1\n",
      "3 5\n",
      "1\n",
      "2 4\n",
      "1\n",
      "1 4\n",
      "1\n",
      "5 4\n",
      "1\n",
      "5 3\n",
      "1\n"
     ]
    }
   ],
   "source": [
    "class JoinSet:\n",
    "    def __init__(self, size: int = None, arr: list = None):\n",
    "        self.parent = [0 for _ in range(size+1)]\n",
    "        self.rank = [0 for _ in range(size+1)]\n",
    "        \n",
    "    def make_set(self, i):\n",
    "        self.parent[i] = i\n",
    "        self.rank[i] = 0\n",
    "        \n",
    "    def find(self, i):\n",
    "        while i != self.parent[i]:\n",
    "            i = self.parent[i]\n",
    "        return i\n",
    "    \n",
    "    def union(self, i, j):\n",
    "        i_id = self.find(i)\n",
    "        j_id = self.find(j)\n",
    "        if i_id==j_id: \n",
    "            return\n",
    "        if self.rank[i_id]>self.rank[j_id]:\n",
    "            self.parent[j_id] = i_id\n",
    "        else:\n",
    "            self.parent[i_id] = j_id\n",
    "            if self.rank[i_id]==self.rank[j_id]:\n",
    "                self.rank[j_id] += 1\n",
    "\n",
    "\n",
    "n, e, d = list(map(int, input().split()))                \n",
    "js = JoinSet()\n",
    "\n",
    "equal = []\n",
    "for _ in range(e):\n",
    "    i, j = list(map(int, input().split()))    \n",
    "    equal.append([i, j])\n",
    "    \n",
    "negat = []\n",
    "for _ in range(d):\n",
    "    i, j = list(map(int, input().split()))    \n",
    "    negat.append([i, j])\n",
    "    \n"
   ]
  },
  {
   "cell_type": "code",
   "execution_count": 12,
   "id": "3fba3ce5",
   "metadata": {},
   "outputs": [
    {
     "name": "stdout",
     "output_type": "stream",
     "text": [
      "[0, 0, 0, 0, 0] [0, 1, 2, 3, 4]\n",
      "[0, 0, 1, 0, 0] [0, 2, 2, 3, 4]\n",
      "[0, 0, 1, 0, 0] [0, 2, 2, 2, 4]\n",
      "[0, 0, 1, 0, 0] [0, 2, 2, 2, 2]\n",
      "[0, 0, 1, 0, 0] [0, 2, 2, 2, 2]\n",
      "[0, 0, 1, 0, 0] [0, 2, 2, 2, 2]\n",
      "[0, 0, 1, 0, 0] [0, 2, 2, 2, 2]\n"
     ]
    }
   ],
   "source": [
    "class JoinSet:\n",
    "    def __init__(self, size: int = None, arr: list = None):\n",
    "        self.parent = [i for i in range(size+1)]\n",
    "        self.rank = [0 for _ in range(size+1)]\n",
    "        \n",
    "    def find(self, i):\n",
    "        while i != self.parent[i]:\n",
    "            i = self.parent[i]\n",
    "        return i\n",
    "    \n",
    "    def union(self, i, j):\n",
    "        i_id = self.find(i)\n",
    "        j_id = self.find(j)\n",
    "        if i_id==j_id: \n",
    "            return\n",
    "        if self.rank[i_id]>self.rank[j_id]:\n",
    "            self.parent[j_id] = i_id\n",
    "        else:\n",
    "            self.parent[i_id] = j_id\n",
    "            if self.rank[i_id]==self.rank[j_id]:\n",
    "                self.rank[j_id] += 1\n",
    "                \n",
    "    def not_equal(self, i, j):\n",
    "        i_id = self.find(i)\n",
    "        j_id = self.find(j)\n",
    "        if i_id==j_id: \n",
    "            return False\n",
    "        return True\n",
    "\n",
    "\n",
    "n, e, d = 4, 6, 0\n",
    "equal = [\n",
    "    [1, 2],\n",
    "    [1, 3],\n",
    "    [1, 4],\n",
    "    [2, 3],\n",
    "    [2, 4],\n",
    "    [3, 4]\n",
    "]\n",
    "js = JoinSet(size=n)\n",
    "print(js.rank, js.parent)\n",
    "for pair in equal:\n",
    "    js.union(pair[0], pair[1])\n",
    "    print(js.rank, js.parent)"
   ]
  },
  {
   "cell_type": "code",
   "execution_count": 13,
   "id": "4a9c474e",
   "metadata": {},
   "outputs": [
    {
     "name": "stdout",
     "output_type": "stream",
     "text": [
      "[0, 0, 0, 1, 0, 2, 0] [0, 5, 3, 5, 5, 5, 6]\n",
      "----------------------------------------------------------------------------------------------------\n",
      "True [0, 0, 0, 1, 0, 2, 0] [0, 5, 3, 5, 5, 5, 6]\n",
      "True [0, 0, 0, 1, 0, 2, 0] [0, 5, 3, 5, 5, 5, 6]\n",
      "False [0, 0, 0, 1, 0, 2, 0] [0, 5, 3, 5, 5, 5, 6]\n"
     ]
    }
   ],
   "source": [
    "n, e, d = 6, 5, 3\n",
    "equal = [\n",
    "    [2, 3],\n",
    "    [1, 5],\n",
    "    [2, 5],\n",
    "    [3, 4],\n",
    "    [4, 2],\n",
    "]\n",
    "raz = [\n",
    "    [6, 1],\n",
    "    [4, 6],\n",
    "    [4, 5]\n",
    "]\n",
    "\n",
    "js = JoinSet(size=n)\n",
    "for pair in equal:\n",
    "    js.union(pair[0], pair[1])\n",
    "print(js.rank, js.parent)\n",
    "print('-'*100)\n",
    "for pair in raz:\n",
    "    a = js.not_equal(pair[0], pair[1])\n",
    "    print(a, js.rank, js.parent)"
   ]
  },
  {
   "cell_type": "code",
   "execution_count": 14,
   "id": "886cceed",
   "metadata": {},
   "outputs": [
    {
     "name": "stdout",
     "output_type": "stream",
     "text": [
      "[0, 0, 1, 0, 0] [0, 2, 2, 2, 2]\n",
      "----------------------------------------------------------------------------------------------------\n",
      "False [0, 0, 1, 0, 0] [0, 2, 2, 2, 2]\n"
     ]
    }
   ],
   "source": [
    "n, e, d = 4, 6, 1\n",
    "equal = [\n",
    "    [1, 2],\n",
    "    [1, 3],\n",
    "    [1, 4],\n",
    "    [2, 3],\n",
    "    [3, 4],\n",
    "    [2, 4]\n",
    "]\n",
    "raz = [\n",
    "    [1, 2]\n",
    "]\n",
    "\n",
    "js = JoinSet(size=n)\n",
    "for pair in equal:\n",
    "    js.union(pair[0], pair[1])\n",
    "print(js.rank, js.parent)\n",
    "print('-'*100)\n",
    "for pair in raz:\n",
    "    a = js.not_equal(pair[0], pair[1])\n",
    "    print(a, js.rank, js.parent)"
   ]
  },
  {
   "cell_type": "code",
   "execution_count": null,
   "id": "c80f38d8",
   "metadata": {},
   "outputs": [],
   "source": []
  },
  {
   "cell_type": "code",
   "execution_count": null,
   "id": "68d8b8fa",
   "metadata": {},
   "outputs": [],
   "source": []
  },
  {
   "cell_type": "code",
   "execution_count": null,
   "id": "376c4364",
   "metadata": {},
   "outputs": [],
   "source": []
  },
  {
   "cell_type": "code",
   "execution_count": null,
   "id": "d1195be0",
   "metadata": {},
   "outputs": [],
   "source": []
  },
  {
   "cell_type": "code",
   "execution_count": null,
   "id": "3a98a104",
   "metadata": {},
   "outputs": [],
   "source": []
  },
  {
   "cell_type": "code",
   "execution_count": null,
   "id": "751875ba",
   "metadata": {},
   "outputs": [],
   "source": []
  },
  {
   "cell_type": "code",
   "execution_count": null,
   "id": "8bad29b5",
   "metadata": {},
   "outputs": [],
   "source": []
  },
  {
   "cell_type": "code",
   "execution_count": null,
   "id": "d4815439",
   "metadata": {},
   "outputs": [],
   "source": []
  },
  {
   "cell_type": "code",
   "execution_count": null,
   "id": "04f8dbd0",
   "metadata": {},
   "outputs": [],
   "source": []
  },
  {
   "cell_type": "code",
   "execution_count": null,
   "id": "9fd4f1de",
   "metadata": {},
   "outputs": [],
   "source": []
  },
  {
   "cell_type": "code",
   "execution_count": null,
   "id": "1bfa8fc8",
   "metadata": {},
   "outputs": [],
   "source": []
  },
  {
   "cell_type": "code",
   "execution_count": 17,
   "id": "6fddecbd",
   "metadata": {},
   "outputs": [
    {
     "name": "stdout",
     "output_type": "stream",
     "text": [
      "[0, 0, 1, 0, 0] [0, 2, 2, 2, 2]\n",
      "----------------------------------------------------------------------------------------------------\n",
      "True\n",
      "1\n"
     ]
    }
   ],
   "source": [
    "class JoinSet:\n",
    "    def __init__(self, size: int = None):\n",
    "        self.parent = [i for i in range(size + 1)]\n",
    "        self.rank = [0 for _ in range(size + 1)]\n",
    "\n",
    "    def find(self, i):\n",
    "        while i != self.parent[i]:\n",
    "            i = self.parent[i]\n",
    "        return i\n",
    "\n",
    "    def union(self, i, j):\n",
    "        i_id = self.find(i)\n",
    "        j_id = self.find(j)\n",
    "        if i_id == j_id:\n",
    "            return\n",
    "        if self.rank[i_id] > self.rank[j_id]:\n",
    "            self.parent[j_id] = i_id\n",
    "        else:\n",
    "            self.parent[i_id] = j_id\n",
    "            if self.rank[i_id] == self.rank[j_id]:\n",
    "                self.rank[j_id] += 1\n",
    "\n",
    "    def equal(self, i, j):\n",
    "        i_id = self.find(i)\n",
    "        j_id = self.find(j)\n",
    "        if i_id == j_id:\n",
    "            return True\n",
    "        return False\n",
    "    \n",
    "    \n",
    "n, e, d = 4, 6, 1\n",
    "equal = [\n",
    "    [1, 2],\n",
    "    [1, 3],\n",
    "    [1, 4],\n",
    "    [2, 3],\n",
    "    [3, 4],\n",
    "    [2, 4]\n",
    "]\n",
    "raz = [\n",
    "    [1, 2]\n",
    "]\n",
    "\n",
    "js = JoinSet(size=n)\n",
    "for pair in equal:\n",
    "    js.union(pair[0], pair[1])\n",
    "print(js.rank, js.parent)\n",
    "print('-'*100)\n",
    "answer = 1\n",
    "for pair in raz:\n",
    "    des, sou = pair\n",
    "    a = js.equal(des, sou)\n",
    "    print(a)\n",
    "    if not a:\n",
    "        answer = 0\n",
    "        break\n",
    "print(answer)"
   ]
  },
  {
   "cell_type": "code",
   "execution_count": null,
   "id": "95422606",
   "metadata": {},
   "outputs": [],
   "source": []
  }
 ],
 "metadata": {
  "kernelspec": {
   "display_name": "Python 3",
   "language": "python",
   "name": "python3"
  },
  "language_info": {
   "codemirror_mode": {
    "name": "ipython",
    "version": 3
   },
   "file_extension": ".py",
   "mimetype": "text/x-python",
   "name": "python",
   "nbconvert_exporter": "python",
   "pygments_lexer": "ipython3",
   "version": "3.7.13"
  }
 },
 "nbformat": 4,
 "nbformat_minor": 5
}
