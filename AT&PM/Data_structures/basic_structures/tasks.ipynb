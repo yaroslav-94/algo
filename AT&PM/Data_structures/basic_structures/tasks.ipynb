{
 "cells": [
  {
   "cell_type": "markdown",
   "id": "f4df9a49",
   "metadata": {},
   "source": [
    "## Базовые структуры данных"
   ]
  },
  {
   "cell_type": "markdown",
   "id": "8fe2644c",
   "metadata": {},
   "source": [
    "### Скобки в коде\n",
    "- parentheses_right.py\n",
    "\n",
    "Проверить, правильно ли расставлены скобки в данном коде.\n",
    "- Вход. Исходный код программы.\n",
    "- Выход. Проверить, верно ли расставлены скобки. Если нет, выдать индекс первой ошибки.\n",
    "\n",
    "Хорошее решение\n",
    "```python\n",
    "def run(string):\n",
    "    braces = {')': '(', '}': '{', ']': '['}\n",
    "    stack = []\n",
    "    for i, c in enumerate(string, start=1):\n",
    "        # Добавляем кортеж если скобка открывающая\n",
    "        if c in braces.values():\n",
    "            stack.append((c, i))\n",
    "        # если скобка открывающая и (список пуст или закрывающая скобка не того типа)\n",
    "        # то возвращаем индекс\n",
    "        elif c in braces and (not stack or braces[c] != stack.pop()[0]):\n",
    "            return i\n",
    "    # если список не пуст возвращаем первое значение, иначе успех\n",
    "    return stack.pop()[1] if stack else 'Success'\n",
    "\n",
    "\n",
    "if __name__ == '__main__':\n",
    "    print(run(input()))\n",
    "```"
   ]
  },
  {
   "cell_type": "markdown",
   "id": "f1e262f1",
   "metadata": {},
   "source": [
    "### Высота дерева\n",
    "- trie_height.py\n",
    "\n",
    "Вычислить высоту данного дерева.\n",
    "- Вход. Корневое дерево с вершинами {0, . . . , n−1}, заданное как последовательность $parent_0, . . . , parent_{n−1}$, где $parent_i$ —родитель i-й вершины.\n",
    "- Выход. Высота дерева.\n",
    "\n",
    "Хорошее решение\n",
    "```python\n",
    "def tree_height_bottom_up(parents):\n",
    "    depths = [-1] * (len(parents)) + [0]\n",
    "    def count_depth(i):\n",
    "        if depths[i] == -1:\n",
    "            depths[i] = count_depth(parents[i]) + 1\n",
    "        return depths[i]\n",
    "    return max(count_depth(i) for i in range(len(parents)))\n",
    "\n",
    "def main():\n",
    "    n_ = input()\n",
    "    parents = [int(i) for i in input().split()]\n",
    "    print(tree_height_bottom_up(parents))\n",
    "\n",
    "if __name__ == '__main__':\n",
    "    main()\n",
    "```"
   ]
  },
  {
   "cell_type": "markdown",
   "id": "9027a587",
   "metadata": {},
   "source": [
    "### Обработка сетевых пакетов\n",
    "- net_packet.py\n",
    "\n",
    "Реализовать обработчик сетевых пакетов.\n",
    "- Вход. Размер буфера size и число пакетов n, а также две последовательности $arrival_1, . . . , arrival_n$ и\n",
    "$duration_1, . . . , duration_n$, обозначающих время поступления и длительность обработки n пакетов.\n",
    "- Выход. Для каждого из данных n пакетов необходимо вывести время начала его обработки или −1, если пакет не был обработан (это происходит в случае, когда пакет поступает в момент, когда в буфере компьютера уже находится size пакетов).\n",
    "\n",
    "Хорошее решение\n",
    "```python\n",
    "import sys\n",
    "from collections import deque\n",
    "\n",
    "def find_answer():\n",
    "    reader = (map(int, s.split()) for s in sys.stdin)\n",
    "    size, n = next(reader)\n",
    "    times = deque()\n",
    "    for a, d in reader:\n",
    "        while times and times[0] <= a:\n",
    "                times.popleft()\n",
    "        if len(times) < size:\n",
    "            if times:\n",
    "                a = max(a, times[-1])\n",
    "            print(a)\n",
    "            times.append(a+d)\n",
    "        else:\n",
    "            print(-1)\n",
    "\n",
    "if __name__ == '__main__':\n",
    "    find_answer()\n",
    "```"
   ]
  },
  {
   "cell_type": "markdown",
   "id": "bdf5b722",
   "metadata": {},
   "source": [
    "### Стек с поддержкой максимума\n",
    "- stack_with_max.py\n",
    "\n",
    "Реализовать стек с поддержкой операций push, pop и max.\n",
    "- Вход. Последовательность запросов push, pop и max .\n",
    "- Выход. Для каждого запроса max вывести максимальное число, находящееся на стеке\n",
    "\n",
    "Хорошее решение\n",
    "```python\n",
    "import sys\n",
    "\n",
    "stack = [0]\n",
    "\n",
    "for _ in range(int(sys.stdin.readline())):\n",
    "\tcommand = sys.stdin.readline().split()\n",
    "\n",
    "\tif command[0] == 'push':\n",
    "\t\tstack.append(max(stack[-1], int(command[1])))\n",
    "\n",
    "\telif command[0] == 'pop':\n",
    "\t\tdel stack[-1]\n",
    "\n",
    "\telse:\n",
    "\t\tprint(stack[-1])\n",
    "```"
   ]
  },
  {
   "cell_type": "markdown",
   "id": "17408ec9",
   "metadata": {},
   "source": [
    "### Максимум в скользящем окне\n",
    "- \n",
    "\n",
    "Максимум в скользящем окне. Найти максимум в каждом окне размера m данного массива чисел A[1 . . . n].\n",
    "- Вход. Массив чисел A[1..n] и число $1\\leq m \\leq n$\n",
    "- Выход. Максимум подмассива $A[i..i+m-1]$ для всех $1 \\leq i \\leq n-m+1$\n",
    "\n",
    "```python\n",
    "n, lst, w = int(input()), [int(i) for i in input().split()], int(input())\n",
    "que = [0]\n",
    "for i in range(n):     \n",
    "    if i >= w and que[0] == lst[i-w]: \n",
    "        que.pop(0)\n",
    "    while que and que[-1] < lst[i]: \n",
    "        que.pop()\n",
    "    que.append(lst[i])\n",
    "    if i+1 >= w: \n",
    "        print(que[0],end=' ')\n",
    "```"
   ]
  },
  {
   "cell_type": "code",
   "execution_count": null,
   "id": "a401ca40",
   "metadata": {},
   "outputs": [],
   "source": []
  },
  {
   "cell_type": "code",
   "execution_count": null,
   "id": "13d3c981",
   "metadata": {},
   "outputs": [],
   "source": []
  },
  {
   "cell_type": "code",
   "execution_count": null,
   "id": "724e1a86",
   "metadata": {},
   "outputs": [],
   "source": []
  },
  {
   "cell_type": "code",
   "execution_count": null,
   "id": "c3453c7b",
   "metadata": {},
   "outputs": [],
   "source": []
  },
  {
   "cell_type": "code",
   "execution_count": null,
   "id": "87ec4cb4",
   "metadata": {},
   "outputs": [],
   "source": []
  },
  {
   "cell_type": "code",
   "execution_count": null,
   "id": "b93ebc93",
   "metadata": {},
   "outputs": [],
   "source": []
  },
  {
   "cell_type": "code",
   "execution_count": null,
   "id": "a6120af9",
   "metadata": {},
   "outputs": [],
   "source": []
  },
  {
   "cell_type": "code",
   "execution_count": null,
   "id": "eaac7a31",
   "metadata": {},
   "outputs": [],
   "source": []
  },
  {
   "cell_type": "code",
   "execution_count": null,
   "id": "dce96851",
   "metadata": {},
   "outputs": [],
   "source": []
  },
  {
   "cell_type": "code",
   "execution_count": null,
   "id": "602c9702",
   "metadata": {},
   "outputs": [],
   "source": []
  },
  {
   "cell_type": "code",
   "execution_count": null,
   "id": "9de41c7e",
   "metadata": {},
   "outputs": [],
   "source": []
  },
  {
   "cell_type": "code",
   "execution_count": null,
   "id": "40faa282",
   "metadata": {},
   "outputs": [],
   "source": []
  },
  {
   "cell_type": "code",
   "execution_count": null,
   "id": "521b87ea",
   "metadata": {},
   "outputs": [],
   "source": []
  },
  {
   "cell_type": "code",
   "execution_count": 10,
   "id": "e70af424",
   "metadata": {},
   "outputs": [],
   "source": []
  },
  {
   "cell_type": "code",
   "execution_count": null,
   "id": "641f9418",
   "metadata": {},
   "outputs": [],
   "source": []
  }
 ],
 "metadata": {
  "kernelspec": {
   "display_name": "Python 3",
   "language": "python",
   "name": "python3"
  },
  "language_info": {
   "codemirror_mode": {
    "name": "ipython",
    "version": 3
   },
   "file_extension": ".py",
   "mimetype": "text/x-python",
   "name": "python",
   "nbconvert_exporter": "python",
   "pygments_lexer": "ipython3",
   "version": "3.7.13"
  }
 },
 "nbformat": 4,
 "nbformat_minor": 5
}
