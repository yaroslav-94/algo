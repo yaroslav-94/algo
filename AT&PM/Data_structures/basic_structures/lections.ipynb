{
 "cells": [
  {
   "cell_type": "markdown",
   "id": "e31da0fb",
   "metadata": {},
   "source": [
    "## Базовые структуры данных\n",
    "\n",
    "### Массивы\n",
    "- константный по времени доступ по индексу\n",
    "- выделяется непрерывный кусок памяти\n",
    "- фиксированный размер\n",
    "- доступ до ячейки - берется индекс 0й ячейки и добавляется (длина_ячейки*индекс_ячейки)\n",
    "\n",
    "Операции с массивами   \n",
    "$\n",
    "\\begin{array}{c|c|c|}\n",
    "   & вставка & удаление \\\\\n",
    "  начало & O(n) & O(n) \\\\\n",
    "  конец & O(1) & O(1) \\\\\n",
    "  середина & O(n) & O(n) \\\\\n",
    " \\end{array}\n",
    "$\n",
    "\n",
    "### Списки \n",
    "Односвязный:\n",
    "- нужно хранить элемент и ссылку на следующий элемент\n",
    "- у списка есть начало и конец\n",
    "\n",
    "Двусвязный список:\n",
    "- нужно хранить значение и 2 ссылки - на предыдущий и следующий элементы\n",
    "\n",
    "Операции со списками   \n",
    "$\n",
    "\\begin{array}{c|c|c|}\n",
    "   & вставка & удаление \\\\\n",
    "  начало & O(1) & O(1) \\\\\n",
    "  конец & O(1) (если\\ есть\\ tail) & O(1)\\ (если\\ есть\\ tail) \\\\\n",
    "  середина & O(n)\\ (одно)\\ /\\ O(1)\\ (двусв) & O(1)\\ (двусв) \\\\\n",
    " \\end{array}\n",
    "$\n",
    "\n",
    "### Стек\n",
    "https://docs.python.org/3/library/queue.html\n",
    "Абстрактная структура данных. Last in, first out \n",
    "- push(key) - положить в конец (по счету)\n",
    "- key top() - возвращает элемент с верхушки\n",
    "- key pop() - возвращает элемент с верхушки и удаляет \n",
    "- bool empty() - пустой или нет\n",
    "\n",
    "Проверка скобочной последовательности - нужно использовать стек\n",
    "> Функция is_balanced(s: str):       \n",
    "&emsp;&emsp;Stack stack       \n",
    "&emsp;&emsp;for chair in s:       \n",
    "&emsp;&emsp;&emsp;&emsp;if chare $\\in$ {'(', ']'}:       \n",
    "&emsp;&emsp;&emsp;&emsp;&emsp;&emsp;stack.push(chair)       \n",
    "&emsp;&emsp;&emsp;&emsp;else:       \n",
    "&emsp;&emsp;&emsp;&emsp;&emsp;&emsp;if stack.empty():       \n",
    "&emsp;&emsp;&emsp;&emsp;&emsp;&emsp;&emsp;&emsp;return False  \n",
    "&emsp;&emsp;&emsp;&emsp;&emsp;&emsp;top=stack.pop()  \n",
    "&emsp;&emsp;&emsp;&emsp;&emsp;&emsp;if (top='[' and chair!=']') or (top='(' and chair!=')'):       \n",
    "&emsp;&emsp;&emsp;&emsp;&emsp;&emsp;&emsp;&emsp;return False       \n",
    "&emsp;&emsp;return stack.empty()       \n",
    "\n",
    "Реализация:\n",
    "- с помощью массива\n",
    "- с помощью односвязного списка\n",
    "\n",
    "Вариация:\n",
    "- с поддержкой минимума - заводим второй стек, в который кладем текущий минимум.Сравниваем новый элемент с текущим минимум и кладем минимальное значение. Затраты по памяти, но получение минимума за константу\n"
   ]
  },
  {
   "cell_type": "code",
   "execution_count": 5,
   "id": "a3693f9d",
   "metadata": {},
   "outputs": [
    {
     "data": {
      "text/plain": [
       "2"
      ]
     },
     "execution_count": 5,
     "metadata": {},
     "output_type": "execute_result"
    }
   ],
   "source": [
    "from queue import LifoQueue\n",
    "\n",
    "a = LifoQueue()\n",
    "a.put('1')\n",
    "a.put('2')\n",
    "a.put('3')\n",
    "\n",
    "a.get()\n",
    "a.qsize()"
   ]
  },
  {
   "cell_type": "code",
   "execution_count": null,
   "id": "e865347a",
   "metadata": {},
   "outputs": [],
   "source": []
  },
  {
   "cell_type": "code",
   "execution_count": null,
   "id": "ac2b5e5e",
   "metadata": {},
   "outputs": [],
   "source": []
  },
  {
   "cell_type": "code",
   "execution_count": null,
   "id": "f9e0e60d",
   "metadata": {},
   "outputs": [],
   "source": []
  },
  {
   "cell_type": "code",
   "execution_count": null,
   "id": "5cca2e4f",
   "metadata": {},
   "outputs": [],
   "source": []
  },
  {
   "cell_type": "code",
   "execution_count": null,
   "id": "4287225a",
   "metadata": {},
   "outputs": [],
   "source": []
  },
  {
   "cell_type": "code",
   "execution_count": null,
   "id": "ffa03197",
   "metadata": {},
   "outputs": [],
   "source": []
  },
  {
   "cell_type": "code",
   "execution_count": null,
   "id": "76ae1cbe",
   "metadata": {},
   "outputs": [],
   "source": []
  },
  {
   "cell_type": "code",
   "execution_count": null,
   "id": "cfa71049",
   "metadata": {},
   "outputs": [],
   "source": []
  },
  {
   "cell_type": "code",
   "execution_count": null,
   "id": "80ec6903",
   "metadata": {},
   "outputs": [],
   "source": []
  },
  {
   "cell_type": "code",
   "execution_count": null,
   "id": "22dfbb74",
   "metadata": {},
   "outputs": [],
   "source": []
  },
  {
   "cell_type": "code",
   "execution_count": null,
   "id": "e54ef048",
   "metadata": {},
   "outputs": [],
   "source": []
  },
  {
   "cell_type": "code",
   "execution_count": null,
   "id": "fbbbe746",
   "metadata": {},
   "outputs": [],
   "source": []
  },
  {
   "cell_type": "code",
   "execution_count": null,
   "id": "56aac0f5",
   "metadata": {},
   "outputs": [],
   "source": []
  },
  {
   "cell_type": "code",
   "execution_count": null,
   "id": "f797318f",
   "metadata": {},
   "outputs": [],
   "source": []
  },
  {
   "cell_type": "code",
   "execution_count": null,
   "id": "e473464e",
   "metadata": {},
   "outputs": [],
   "source": []
  },
  {
   "cell_type": "code",
   "execution_count": null,
   "id": "86d5ee40",
   "metadata": {},
   "outputs": [],
   "source": []
  }
 ],
 "metadata": {
  "kernelspec": {
   "display_name": "Python 3",
   "language": "python",
   "name": "python3"
  },
  "language_info": {
   "codemirror_mode": {
    "name": "ipython",
    "version": 3
   },
   "file_extension": ".py",
   "mimetype": "text/x-python",
   "name": "python",
   "nbconvert_exporter": "python",
   "pygments_lexer": "ipython3",
   "version": "3.7.13"
  }
 },
 "nbformat": 4,
 "nbformat_minor": 5
}
