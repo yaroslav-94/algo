{
 "cells": [
  {
   "cell_type": "markdown",
   "id": "8eb5c5c9",
   "metadata": {},
   "source": [
    "# Разделяй и властвуй\n",
    "\n",
    "Общий алгоритм:\n",
    "- задача разбивается на несколько более простых подзадач\n",
    "- подзадачи решаются рекурсивно\n",
    "- из ответов для подзадач строится ответ для исходной задачи"
   ]
  },
  {
   "cell_type": "markdown",
   "id": "811c0b99",
   "metadata": {},
   "source": [
    "## Бинарный поиск\n",
    "\n",
    "### Поиск в неупорядоченном массиве\n",
    "Описание задачи:\n",
    "- вход: массив А[1...n], k - искомый ключ\n",
    "- выход: индекс i, такой что A[i]=k, или -1, если такого i нет\n",
    "\n",
    "Описание алгоритма решения:\n",
    "```\n",
    "для i от 1 до n:\n",
    "    если A[i] = k:\n",
    "        вернуть i\n",
    "вернуть -1\n",
    "```\n",
    "\n",
    "### Поиск в упорядоченном массиве\n",
    "Описание задачи:\n",
    "- вход: упорядоченный массив А[1...n] $(A[1] \\leq A[2] \\leq ... \\leq A[n])$, k - искомый ключ\n",
    "- выход: индекс i, такой что A[i]=k, или -1, если такого i нет\n",
    "\n",
    "Описание алгоритма бинарного поиска (выполняется за log(n)):\n",
    ">    \n",
    "{A - упорядочен}          \n",
    "l = 1, r = n              \n",
    "пока l <= r   \n",
    "&emsp;&emsp;m = $\\lfloor \\frac{l+r}{2} \\rfloor$      \n",
    "&emsp;&emsp;если A[m]=k:   \n",
    "&emsp;&emsp;&emsp;&emsp;вернуть m        \n",
    "&emsp;&emsp;иначе если A[m]>k:           \n",
    "&emsp;&emsp;&emsp;&emsp;r=m-1        \n",
    "&emsp;&emsp;иначе:       \n",
    "&emsp;&emsp;&emsp;&emsp;l=m+1        \n",
    "вернуть -1      \n",
    "            \n"
   ]
  },
  {
   "cell_type": "code",
   "execution_count": null,
   "id": "06df9ecd",
   "metadata": {},
   "outputs": [],
   "source": []
  },
  {
   "cell_type": "code",
   "execution_count": null,
   "id": "e215b404",
   "metadata": {},
   "outputs": [],
   "source": []
  },
  {
   "cell_type": "code",
   "execution_count": null,
   "id": "c09da9cd",
   "metadata": {},
   "outputs": [],
   "source": []
  },
  {
   "cell_type": "code",
   "execution_count": null,
   "id": "d1b83032",
   "metadata": {},
   "outputs": [],
   "source": []
  },
  {
   "cell_type": "code",
   "execution_count": null,
   "id": "25fafb82",
   "metadata": {},
   "outputs": [],
   "source": []
  },
  {
   "cell_type": "code",
   "execution_count": null,
   "id": "d2f8594f",
   "metadata": {},
   "outputs": [],
   "source": []
  },
  {
   "cell_type": "code",
   "execution_count": null,
   "id": "d1fdf5bf",
   "metadata": {},
   "outputs": [],
   "source": []
  },
  {
   "cell_type": "code",
   "execution_count": null,
   "id": "87ab3239",
   "metadata": {},
   "outputs": [],
   "source": []
  },
  {
   "cell_type": "code",
   "execution_count": null,
   "id": "36b7d1f4",
   "metadata": {},
   "outputs": [],
   "source": []
  },
  {
   "cell_type": "code",
   "execution_count": null,
   "id": "30c960cf",
   "metadata": {},
   "outputs": [],
   "source": []
  },
  {
   "cell_type": "code",
   "execution_count": null,
   "id": "09a8e615",
   "metadata": {},
   "outputs": [],
   "source": []
  },
  {
   "cell_type": "code",
   "execution_count": null,
   "id": "55e7a7a1",
   "metadata": {},
   "outputs": [],
   "source": []
  }
 ],
 "metadata": {
  "kernelspec": {
   "display_name": "Python 3",
   "language": "python",
   "name": "python3"
  },
  "language_info": {
   "codemirror_mode": {
    "name": "ipython",
    "version": 3
   },
   "file_extension": ".py",
   "mimetype": "text/x-python",
   "name": "python",
   "nbconvert_exporter": "python",
   "pygments_lexer": "ipython3",
   "version": "3.7.13"
  }
 },
 "nbformat": 4,
 "nbformat_minor": 5
}
