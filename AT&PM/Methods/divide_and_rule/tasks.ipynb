{
 "cells": [
  {
   "cell_type": "markdown",
   "id": "afaf2ff3",
   "metadata": {},
   "source": [
    "## Бинарный поиск"
   ]
  },
  {
   "cell_type": "markdown",
   "id": "036edeaf",
   "metadata": {},
   "source": [
    "### Задача 1 (двоичный поиск)\n",
    "\n",
    "В первой строке даны целое число $1 \\le n \\le 10^5$ и массив $A[1 \\ldots n]$ из n различных натуральных чисел, не превышающих $10^9$, в порядке возрастания, во второй — целое число $1 \\le k \\le 10^5$ и k натуральных чисел $b_1, \\ldots, b_k$, не превышающих $10^9$. Для каждого i от 1 до k необходимо вывести индекс $1 \\le j \\le n$, для которого $A[j]=b_i$, или -1, если такого j нет."
   ]
  },
  {
   "cell_type": "markdown",
   "id": "f7efcc05",
   "metadata": {},
   "source": [
    "### Задача 2 (число инверсий)\n",
    "\n",
    "Первая строка содержит число $1 \\le n \\le 10^5$, вторая — массив $A[1\\ldots n]$, содержащий натуральные числа, не превосходящие $10^9$. Необходимо посчитать число пар индексов $1 \\le i \\lt j \\le n$, для которых $A[i] \\gt A[j]A[i]>A[j]$. (Такая пара элементов называется инверсией массива. Количество инверсий в массиве является в некотором смысле его мерой неупорядоченности: например, в упорядоченном по неубыванию массиве инверсий нет вообще, а в массиве, упорядоченном по убыванию, инверсию образуют каждые два элемента.)"
   ]
  },
  {
   "cell_type": "markdown",
   "id": "d16b228f",
   "metadata": {},
   "source": [
    "### Задача 3 (точки и отрезки)\n",
    "\n",
    "В первой строке задано два целых числа $1 \\le n \\le 50000$ и $1 \\le m \\le 50000$ — количество отрезков и точек на прямой, соответственно. Следующие n строк содержат по два целых числа $a_i$ и $b_i$ ($a_i \\le b_i$) — координаты концов отрезков. Последняя строка содержит m целых чисел — координаты точек. Все координаты не превышают $10^8$ по модулю. Точка считается принадлежащей отрезку, если она находится внутри него или на границе. Для каждой точки в порядке появления во вводе выведите, скольким отрезкам она принадлежит."
   ]
  },
  {
   "cell_type": "markdown",
   "id": "4917de6c",
   "metadata": {},
   "source": [
    "### Задача 4 (сортировка подсчетом)\n",
    "\n",
    "Первая строка содержит число $1 \\le n \\le 10^4$, вторая — nn натуральных чисел, не превышающих 10. Выведите упорядоченную по неубыванию последовательность этих чисел."
   ]
  },
  {
   "cell_type": "code",
   "execution_count": null,
   "id": "b543bc60",
   "metadata": {},
   "outputs": [],
   "source": []
  },
  {
   "cell_type": "code",
   "execution_count": null,
   "id": "5424372d",
   "metadata": {},
   "outputs": [],
   "source": []
  },
  {
   "cell_type": "code",
   "execution_count": null,
   "id": "509bffaa",
   "metadata": {},
   "outputs": [],
   "source": []
  },
  {
   "cell_type": "code",
   "execution_count": null,
   "id": "9ec36c9e",
   "metadata": {},
   "outputs": [],
   "source": []
  },
  {
   "cell_type": "code",
   "execution_count": null,
   "id": "ad92172b",
   "metadata": {},
   "outputs": [],
   "source": []
  },
  {
   "cell_type": "code",
   "execution_count": null,
   "id": "b694ee0c",
   "metadata": {},
   "outputs": [],
   "source": []
  },
  {
   "cell_type": "code",
   "execution_count": null,
   "id": "5b7739e8",
   "metadata": {},
   "outputs": [],
   "source": []
  },
  {
   "cell_type": "code",
   "execution_count": null,
   "id": "d2558886",
   "metadata": {},
   "outputs": [],
   "source": []
  },
  {
   "cell_type": "code",
   "execution_count": null,
   "id": "8f1f7e80",
   "metadata": {},
   "outputs": [],
   "source": []
  },
  {
   "cell_type": "code",
   "execution_count": null,
   "id": "08f3d7d2",
   "metadata": {},
   "outputs": [],
   "source": []
  },
  {
   "cell_type": "code",
   "execution_count": null,
   "id": "af494a4c",
   "metadata": {},
   "outputs": [],
   "source": []
  },
  {
   "cell_type": "code",
   "execution_count": null,
   "id": "0fa769c1",
   "metadata": {},
   "outputs": [],
   "source": []
  },
  {
   "cell_type": "code",
   "execution_count": null,
   "id": "8a7dcf2b",
   "metadata": {},
   "outputs": [],
   "source": []
  }
 ],
 "metadata": {
  "kernelspec": {
   "display_name": "Python 3",
   "language": "python",
   "name": "python3"
  },
  "language_info": {
   "codemirror_mode": {
    "name": "ipython",
    "version": 3
   },
   "file_extension": ".py",
   "mimetype": "text/x-python",
   "name": "python",
   "nbconvert_exporter": "python",
   "pygments_lexer": "ipython3",
   "version": "3.7.13"
  }
 },
 "nbformat": 4,
 "nbformat_minor": 5
}
