{
 "cells": [
  {
   "cell_type": "markdown",
   "id": "851f2bb3",
   "metadata": {},
   "source": [
    "## Жадные алгоритмы\n",
    "\n",
    "Основные идеи:\n",
    "- надежный шаг - существует оптимальное решение, согласованное с локальным жадным шагом\n",
    "- оптимальность подзадач - задача, остающаяся после жадного шага, имеет тот же тип"
   ]
  },
  {
   "cell_type": "code",
   "execution_count": null,
   "id": "f662cec1",
   "metadata": {},
   "outputs": [],
   "source": []
  },
  {
   "cell_type": "markdown",
   "id": "dcfcf111",
   "metadata": {},
   "source": [
    "### Коды Хаффмана\n",
    "Хотим закодировать входную строку символов более коротким представлением\n",
    "- используем бинарное представление для каждого символа\n",
    "- для более частых символов можем уменьшить количество кодируемых битов, так чтобы код все еще можно было расшифровать\n",
    "\n",
    "Код беспрефиксыный если никакой код другого символа не является префиксом другого кода символа\n",
    "\n",
    "Надежный шаг\n",
    "- ищем строго двоичное дерево с минимальной суммой пометок в вершинах, в котором листья помечены входными частотами, а внутренние вершины - суммами пометок их детей\n",
    "- двумя наименьшими частотами помечены истья на нижнем уровне\n",
    "- постороение оптимального шага: выбрать 2 минимальные частоты $f_i$ и $f_j$, сделать их детьми новой вершины с пометкой $f_i$+$f_j$, выкинуть частоты $f_i$ и $f_j$, добавить $f_i$+$f_j$"
   ]
  },
  {
   "cell_type": "code",
   "execution_count": null,
   "id": "6645bcee",
   "metadata": {},
   "outputs": [],
   "source": []
  },
  {
   "cell_type": "markdown",
   "id": "dd31c690",
   "metadata": {},
   "source": [
    "## Очередь с приоритетами\n",
    "Основные методы:\n",
    "- insert(p) - добавляет новый элемент с приоритетом p\n",
    "- remove(it) - удаляет элемент, на который указывает итератор it\n",
    "- get_min() - возвращает элемент с минимальным приоритетом\n",
    "- extract_min() - извлекает из очереди элемент с минимальным приоритетом\n",
    "- change_priority(it, p) - изменяет приоритет элемента, на который указывает итератор it, на p\n",
    "\n",
    "Куча (двоичная мин-куча) - двоичное дерево. Основное свойство - значение вершины <= значений ее детей. Минимальное значение хранится в корне, поэтому получение минимального элемента работает за О(1)\n",
    "\n",
    "Индексы полного двоичного дерева при записи в массив\n",
    "- текущий элемнт имеет индекс i\n",
    "- предок [i/2] (округление вниз)\n",
    "- потомки 2i и 2i+1\n",
    "\n",
    "Куча на массиве\n",
    "- полное двоичное дерево: уровни заполняются слева направо; все уровни заполнены полностью, кроме, возможно, последнего\n",
    "- естественная нумерация вершин: сверху вниз, слева направо\n",
    "- при добавлении элемента подвешиваем лист на послений уровень; при удалении отрезаем самый последний лист (перестраиваем дерево)\n",
    "- родиткли и потомки у вершины (см. выше)\n",
    "- не нужно хранить указатели на родителей и детей\n",
    "- глубина кучи О(log n), поэтому все операции работают за время О(log n)"
   ]
  },
  {
   "cell_type": "code",
   "execution_count": null,
   "id": "35525b8b",
   "metadata": {},
   "outputs": [],
   "source": []
  },
  {
   "cell_type": "code",
   "execution_count": null,
   "id": "f730ae79",
   "metadata": {},
   "outputs": [],
   "source": []
  },
  {
   "cell_type": "code",
   "execution_count": null,
   "id": "7943e60c",
   "metadata": {},
   "outputs": [],
   "source": []
  },
  {
   "cell_type": "code",
   "execution_count": null,
   "id": "904964a6",
   "metadata": {},
   "outputs": [],
   "source": []
  },
  {
   "cell_type": "code",
   "execution_count": null,
   "id": "2460ac59",
   "metadata": {},
   "outputs": [],
   "source": []
  },
  {
   "cell_type": "code",
   "execution_count": null,
   "id": "e14e6689",
   "metadata": {},
   "outputs": [],
   "source": []
  },
  {
   "cell_type": "markdown",
   "id": "2d1cc292",
   "metadata": {},
   "source": [
    "# Добить до определения кучи!"
   ]
  },
  {
   "cell_type": "markdown",
   "id": "ea4b5fb0",
   "metadata": {},
   "source": [
    "## Макс куча"
   ]
  },
  {
   "cell_type": "code",
   "execution_count": 70,
   "id": "ea4c2dfd",
   "metadata": {},
   "outputs": [
    {
     "name": "stdout",
     "output_type": "stream",
     "text": [
      "[4]\n",
      "[20, 4]\n",
      "[20, 4, 7]\n",
      "[22, 20, 7, 4]\n",
      "[22, 21, 7, 4, 20]\n",
      "[22, 21, 18, 4, 20, 7]\n",
      "[22, 21, 18, 4, 20, 7, 18]\n",
      "[52, 22, 18, 21, 20, 7, 18, 4]\n",
      "[52, 22, 18, 21, 20, 7, 18, 4, 6]\n",
      "[52, 22, 18, 21, 20, 7, 18, 4, 6, 16]\n",
      "[52, 22, 18, 21, 21, 7, 18, 4, 6, 16, 20]\n"
     ]
    }
   ],
   "source": [
    "class QueueMax:\n",
    "    def __init__(self):\n",
    "        self.data = []\n",
    "        self.size = len(self.data)\n",
    "        \n",
    "    def __prepare_queue_up(self, ind: int):\n",
    "        while (self.data[ind]>self.data[(ind-1)//2]) and (ind>0):\n",
    "            self.data[ind], self.data[(ind-1)//2] = self.data[(ind-1)//2], self.data[ind]\n",
    "            ind = (ind-1)//2\n",
    "                \n",
    "    def __prepare_queue_down(self, ind: int):\n",
    "        while 2*ind+1 < self.size:\n",
    "            left = 2*ind+1\n",
    "            right = 2*ind+2\n",
    "            j = left\n",
    "            if right<self.size and self.data[right]>self.data[left]:\n",
    "                j = right\n",
    "            if self.data[ind]>self.data[j]:\n",
    "                break\n",
    "            self.data[ind], self.data[j] = self.data[j], self.data[ind]\n",
    "            ind = j\n",
    "    \n",
    "    def extract_max(self):\n",
    "        print(self.data[0])\n",
    "        self.data[0] = self.data[-1]\n",
    "        del self.data[-1]\n",
    "        self.size = len(self.data)\n",
    "        self.__prepare_queue_down(ind=0)\n",
    "        print(self.data)\n",
    "    \n",
    "    def insert(self, num: int):\n",
    "        self.data.append(num)\n",
    "        self.size = len(self.data)\n",
    "        self.__prepare_queue_up(ind=self.size-1)\n",
    "        print(self.data)\n",
    "        \n",
    "        \n",
    "q = QueueMax()\n",
    "q.insert(4)\n",
    "q.insert(20)\n",
    "q.insert(7)\n",
    "q.insert(22)\n",
    "q.insert(21)\n",
    "q.insert(18)\n",
    "q.insert(18)\n",
    "q.insert(52)\n",
    "q.insert(6)\n",
    "q.insert(16)\n",
    "q.insert(21)"
   ]
  },
  {
   "cell_type": "markdown",
   "id": "03aa2c9f",
   "metadata": {},
   "source": [
    "                    "
   ]
  },
  {
   "cell_type": "markdown",
   "id": "97179d32",
   "metadata": {},
   "source": [
    "## Мин куча"
   ]
  },
  {
   "cell_type": "code",
   "execution_count": 71,
   "id": "e3904866",
   "metadata": {},
   "outputs": [
    {
     "name": "stdout",
     "output_type": "stream",
     "text": [
      "1\n"
     ]
    }
   ],
   "source": [
    "class MinQueue:\n",
    "    def __init__(self):\n",
    "        self.data = []\n",
    "        self.size = len(self.data)\n",
    "        \n",
    "    def __prepare_queue_up(self, ind: int):\n",
    "        while (self.data[ind]<self.data[(ind-1)//2]) and (ind>0):\n",
    "            self.data[ind], self.data[(ind-1)//2] = self.data[(ind-1)//2], self.data[ind]\n",
    "            ind = (ind-1)//2\n",
    "                \n",
    "    def __prepare_queue_down(self, ind: int):\n",
    "        while 2*ind+1 < self.size:\n",
    "            left = 2*ind+1\n",
    "            right = 2*ind+2\n",
    "            j = left\n",
    "            if right<self.size and self.data[right]<self.data[left]:\n",
    "                j = right\n",
    "            if self.data[ind]<self.data[j]:\n",
    "                break\n",
    "            self.data[ind], self.data[j] = self.data[j], self.data[ind]\n",
    "            ind = j\n",
    "            \n",
    "    def extract_min(self):\n",
    "        print(self.data[0])\n",
    "        self.data[0] = self.data[-1]\n",
    "        del self.data[-1]\n",
    "        self.size = len(self.data)\n",
    "        self.__prepare_queue_down(ind=0)\n",
    "    \n",
    "    def insert(self, num: int):\n",
    "        self.data.append(num)\n",
    "        self.size = len(self.data)\n",
    "        self.__prepare_queue_up(ind=self.size-1)\n",
    "    \n",
    "    \n",
    "q = MinQueue()\n",
    "q.insert(4)\n",
    "q.insert(20)\n",
    "q.insert(7)\n",
    "q.insert(22)\n",
    "q.insert(21)\n",
    "q.insert(18)\n",
    "q.insert(18)\n",
    "q.insert(52)\n",
    "q.insert(6)\n",
    "q.insert(16)\n",
    "q.insert(1)\n",
    "\n",
    "q.extract_min()"
   ]
  },
  {
   "cell_type": "code",
   "execution_count": null,
   "id": "43182b2a",
   "metadata": {},
   "outputs": [],
   "source": []
  }
 ],
 "metadata": {
  "kernelspec": {
   "display_name": "Python 3",
   "language": "python",
   "name": "python3"
  },
  "language_info": {
   "codemirror_mode": {
    "name": "ipython",
    "version": 3
   },
   "file_extension": ".py",
   "mimetype": "text/x-python",
   "name": "python",
   "nbconvert_exporter": "python",
   "pygments_lexer": "ipython3",
   "version": "3.7.13"
  }
 },
 "nbformat": 4,
 "nbformat_minor": 5
}
