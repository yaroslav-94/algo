{
 "cells": [
  {
   "cell_type": "markdown",
   "id": "0e474317",
   "metadata": {},
   "source": [
    "# Динамическое программирование"
   ]
  },
  {
   "cell_type": "markdown",
   "id": "3e84697b",
   "metadata": {},
   "source": [
    "## Наибольшая возрастающая последовательность\n",
    "\n",
    "### Задача 1 (наибольшая последовательнократная подпоследовательность)\n",
    "\n",
    "Дано целое число $1 \\le n \\le 10^3$ и массив $A[1\\ldots n]$ натуральных чисел, не превосходящих $2 \\cdot 10^9$. Выведите максимальное $1 \\le k \\le n$, для которого найдётся подпоследовательность $1 \\le i_1 \\lt i_2 \\lt \\ldots <i_k \\le n$ длины k, в которой каждый элемент делится на предыдущий (формально: для  всех $1 \\le j \\lt k, A[i_j]\\, |\\,A[i_{j+1}]$.\n",
    "\n",
    "### Задача 2 (наибольшая невозрастающая подпоследовательность)\n",
    "https://neerc.ifmo.ru/wiki/index.php?title=Задача_о_наибольшей_возрастающей_подпоследовательности\n",
    "\n",
    "Дано целое число $1 \\le n \\le 10^5$ и массив A[1…n], содержащий неотрицательные целые числа, не превосходящие $10^9$. Найдите наибольшую невозрастающую подпоследовательность в A. В первой строке выведите её длину k, во второй — её индексы $1\\le i_1 \\lt i_2\\lt \\ldots \\lt i_k \\le n$ (таким образом, $A[i_1] \\ge A[i_2] \\ge \\ldots \\ge A[i_n]$)."
   ]
  },
  {
   "cell_type": "code",
   "execution_count": null,
   "id": "551f308d",
   "metadata": {},
   "outputs": [],
   "source": []
  },
  {
   "cell_type": "code",
   "execution_count": null,
   "id": "3ecfb6cb",
   "metadata": {},
   "outputs": [],
   "source": []
  },
  {
   "cell_type": "code",
   "execution_count": null,
   "id": "2e54779f",
   "metadata": {},
   "outputs": [],
   "source": []
  },
  {
   "cell_type": "code",
   "execution_count": null,
   "id": "078449b5",
   "metadata": {},
   "outputs": [],
   "source": []
  },
  {
   "cell_type": "code",
   "execution_count": null,
   "id": "a23dc7e9",
   "metadata": {},
   "outputs": [],
   "source": []
  },
  {
   "cell_type": "code",
   "execution_count": null,
   "id": "1448b43f",
   "metadata": {},
   "outputs": [],
   "source": []
  },
  {
   "cell_type": "code",
   "execution_count": null,
   "id": "119bb58c",
   "metadata": {},
   "outputs": [],
   "source": []
  },
  {
   "cell_type": "code",
   "execution_count": null,
   "id": "3477bf9e",
   "metadata": {},
   "outputs": [],
   "source": []
  },
  {
   "cell_type": "code",
   "execution_count": null,
   "id": "e5c87d88",
   "metadata": {},
   "outputs": [],
   "source": []
  },
  {
   "cell_type": "code",
   "execution_count": null,
   "id": "8e7cf47a",
   "metadata": {},
   "outputs": [],
   "source": []
  },
  {
   "cell_type": "code",
   "execution_count": null,
   "id": "82702ff2",
   "metadata": {},
   "outputs": [],
   "source": []
  }
 ],
 "metadata": {
  "kernelspec": {
   "display_name": "Python 3",
   "language": "python",
   "name": "python3"
  },
  "language_info": {
   "codemirror_mode": {
    "name": "ipython",
    "version": 3
   },
   "file_extension": ".py",
   "mimetype": "text/x-python",
   "name": "python",
   "nbconvert_exporter": "python",
   "pygments_lexer": "ipython3",
   "version": "3.7.13"
  }
 },
 "nbformat": 4,
 "nbformat_minor": 5
}
