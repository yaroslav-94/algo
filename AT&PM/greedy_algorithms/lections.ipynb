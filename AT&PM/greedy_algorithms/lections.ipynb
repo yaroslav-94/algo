{
 "cells": [
  {
   "cell_type": "markdown",
   "id": "851f2bb3",
   "metadata": {},
   "source": [
    "## Жадные алгоритмы\n",
    "\n",
    "Основные идеи:\n",
    "- надежный шаг - существует оптимальное решение, согласованное с локальным жадным шагом\n",
    "- оптимальность подзадач - задача, остающаяся после жадного шага, имеет тот же тип"
   ]
  },
  {
   "cell_type": "code",
   "execution_count": null,
   "id": "f662cec1",
   "metadata": {},
   "outputs": [],
   "source": []
  },
  {
   "cell_type": "code",
   "execution_count": null,
   "id": "7f1c9c58",
   "metadata": {},
   "outputs": [],
   "source": []
  },
  {
   "cell_type": "code",
   "execution_count": null,
   "id": "6645bcee",
   "metadata": {},
   "outputs": [],
   "source": []
  },
  {
   "cell_type": "code",
   "execution_count": null,
   "id": "fe9a2541",
   "metadata": {},
   "outputs": [],
   "source": []
  }
 ],
 "metadata": {
  "kernelspec": {
   "display_name": "Python 3",
   "language": "python",
   "name": "python3"
  },
  "language_info": {
   "codemirror_mode": {
    "name": "ipython",
    "version": 3
   },
   "file_extension": ".py",
   "mimetype": "text/x-python",
   "name": "python",
   "nbconvert_exporter": "python",
   "pygments_lexer": "ipython3",
   "version": "3.7.13"
  }
 },
 "nbformat": 4,
 "nbformat_minor": 5
}
