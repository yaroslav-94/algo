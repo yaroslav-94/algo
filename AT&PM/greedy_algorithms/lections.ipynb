{
 "cells": [
  {
   "cell_type": "markdown",
   "id": "851f2bb3",
   "metadata": {},
   "source": [
    "## Жадные алгоритмы\n",
    "\n",
    "Основные идеи:\n",
    "- надежный шаг - существует оптимальное решение, согласованное с локальным жадным шагом\n",
    "- оптимальность подзадач - задача, остающаяся после жадного шага, имеет тот же тип"
   ]
  },
  {
   "cell_type": "code",
   "execution_count": null,
   "id": "f662cec1",
   "metadata": {},
   "outputs": [],
   "source": []
  },
  {
   "cell_type": "markdown",
   "id": "dcfcf111",
   "metadata": {},
   "source": [
    "### Коды Хаффмана\n",
    "Хотим закодировать входную строку символов более коротким представлением\n",
    "- используем бинарное представление для каждого символа\n",
    "- для более частых символов можем уменьшить количество кодируемых битов, так чтобы код все еще можно было расшифровать\n",
    "\n",
    "Код беспрефиксыный если никакой код другого символа не является префиксом другого кода символа\n",
    "\n",
    "Надежный шаг\n",
    "- ищем строго двоичное дерево с минимальной суммой пометок в вершинах, в котором листья помечены входными частотами, а внутренние вершины - суммами пометок их детей\n",
    "- двумя наименьшими частотами помечены истья на нижнем уровне\n",
    "- постороение оптимального шага: выбрать 2 минимальные частоты $f_i$ и $f_j$, сделать их детьми новой вершины с пометкой $f_i$+$f_j$, выкинуть частоты $f_i$ и $f_j$, добавить $f_i$+$f_j$"
   ]
  },
  {
   "cell_type": "code",
   "execution_count": null,
   "id": "6645bcee",
   "metadata": {},
   "outputs": [],
   "source": []
  },
  {
   "cell_type": "code",
   "execution_count": null,
   "id": "fe9a2541",
   "metadata": {},
   "outputs": [],
   "source": []
  },
  {
   "cell_type": "code",
   "execution_count": null,
   "id": "35525b8b",
   "metadata": {},
   "outputs": [],
   "source": []
  },
  {
   "cell_type": "code",
   "execution_count": null,
   "id": "19d7b642",
   "metadata": {},
   "outputs": [],
   "source": []
  },
  {
   "cell_type": "code",
   "execution_count": null,
   "id": "59615c7b",
   "metadata": {},
   "outputs": [],
   "source": []
  },
  {
   "cell_type": "code",
   "execution_count": null,
   "id": "7aecc29e",
   "metadata": {},
   "outputs": [],
   "source": []
  },
  {
   "cell_type": "code",
   "execution_count": null,
   "id": "c939d40c",
   "metadata": {},
   "outputs": [],
   "source": []
  },
  {
   "cell_type": "code",
   "execution_count": null,
   "id": "f730ae79",
   "metadata": {},
   "outputs": [],
   "source": []
  },
  {
   "cell_type": "code",
   "execution_count": null,
   "id": "7943e60c",
   "metadata": {},
   "outputs": [],
   "source": []
  },
  {
   "cell_type": "code",
   "execution_count": null,
   "id": "904964a6",
   "metadata": {},
   "outputs": [],
   "source": []
  },
  {
   "cell_type": "code",
   "execution_count": null,
   "id": "2460ac59",
   "metadata": {},
   "outputs": [],
   "source": []
  },
  {
   "cell_type": "code",
   "execution_count": null,
   "id": "e14e6689",
   "metadata": {},
   "outputs": [],
   "source": []
  },
  {
   "cell_type": "code",
   "execution_count": null,
   "id": "72a24c97",
   "metadata": {},
   "outputs": [],
   "source": []
  },
  {
   "cell_type": "code",
   "execution_count": null,
   "id": "d8331329",
   "metadata": {},
   "outputs": [],
   "source": []
  },
  {
   "cell_type": "code",
   "execution_count": null,
   "id": "ea4c2dfd",
   "metadata": {},
   "outputs": [],
   "source": []
  },
  {
   "cell_type": "code",
   "execution_count": null,
   "id": "e720e636",
   "metadata": {},
   "outputs": [],
   "source": []
  }
 ],
 "metadata": {
  "kernelspec": {
   "display_name": "Python 3",
   "language": "python",
   "name": "python3"
  },
  "language_info": {
   "codemirror_mode": {
    "name": "ipython",
    "version": 3
   },
   "file_extension": ".py",
   "mimetype": "text/x-python",
   "name": "python",
   "nbconvert_exporter": "python",
   "pygments_lexer": "ipython3",
   "version": "3.7.13"
  }
 },
 "nbformat": 4,
 "nbformat_minor": 5
}
