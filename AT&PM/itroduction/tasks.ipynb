{
 "cells": [
  {
   "cell_type": "markdown",
   "id": "881f9d72",
   "metadata": {},
   "source": [
    "## Числа Фиббоначи"
   ]
  },
  {
   "cell_type": "markdown",
   "id": "5354159a",
   "metadata": {},
   "source": [
    "### Задача 1\n",
    "\n",
    "Дано целое число $1 \\le n \\le 40$, необходимо вычислить n-е число Фибоначчи (напомним, что $F_0=0, F_1=1 и F_n=F_{n-1}+F_{n-2}$ при n≥2)."
   ]
  },
  {
   "cell_type": "markdown",
   "id": "0354c78b",
   "metadata": {},
   "source": [
    "### Задача 2\n",
    "\n",
    "\n",
    "Дано число $1 \\le n \\le 10^7$, необходимо найти последнюю цифру nn-го числа Фибоначчи.\n",
    "\n",
    "Как мы помним, числа Фибоначчи растут очень быстро, поэтому при их вычислении нужно быть аккуратным с переполнением. В данной задаче, впрочем, этой проблемы можно избежать, поскольку нас интересует только последняя цифра числа Фибоначчи: если $0 \\le a,b \\le 9$ — последние цифры чисел $F_i$  и $F_{i+1}$ соответственно, то $(a+b) \\bmod{10}$ — последняя цифра числа $F_{i+2}$."
   ]
  },
  {
   "cell_type": "markdown",
   "id": "30545a53",
   "metadata": {},
   "source": [
    "### Задача 3\n",
    "\n",
    "Даны целые числа $1 \\le n \\le 10^{18}$ и $2 \\le m \\le 10^5$, необходимо найти остаток от деления n-го числа Фибоначчи на m."
   ]
  },
  {
   "cell_type": "code",
   "execution_count": null,
   "id": "6743bb57",
   "metadata": {},
   "outputs": [],
   "source": []
  },
  {
   "cell_type": "markdown",
   "id": "c334c175",
   "metadata": {},
   "source": [
    "## Наибольший общий делитель"
   ]
  },
  {
   "cell_type": "markdown",
   "id": "21938564",
   "metadata": {},
   "source": [
    "### Задача 1\n",
    "\n",
    "По данным двум числам $1 \\le a, b \\le 2 \\cdot 10^9$ найдите их наибольший общий делитель."
   ]
  },
  {
   "cell_type": "code",
   "execution_count": null,
   "id": "f9c779f6",
   "metadata": {},
   "outputs": [],
   "source": []
  },
  {
   "cell_type": "markdown",
   "id": "b7e510b5",
   "metadata": {},
   "source": [
    "## О-символика\n",
    "\n",
    "Определение:   \n",
    "Пусть f, g: $\\mathbb{N} \\to \\mathbb{R}_{>0}$. Функция f растет быстре g, в записи $f(n)=O(g(n))$ или $f \\preceq g$, если существует константа с>0, что $f(n) \\leq c*g(n)$ для всех $n \\in \\mathbb{N}$ \n",
    "\n",
    "Преимущества использования:\n",
    "- характеризует зависимость времени работы от размера входных данных\n",
    "- более простые оценки\n",
    "- упрощенный анализ\n",
    "- не зависит от машины, на которой запускается алгоритм\n",
    "\n",
    "Недостатки:\n",
    "- нет информации о константах, которые могу оказаться очень большими\n",
    "\n",
    "Краткая информация:\n",
    "- f(x) = O (g(x)) - функция  f(x) растет медленнее, чем g(x)\n",
    "- f(x) = тэта (g(x))  - функция f(x) растет так же, как g(x)\n",
    "- f(x) = омега (g(x)) - функция f(x) растет быстрее, чем g(x)"
   ]
  },
  {
   "cell_type": "code",
   "execution_count": null,
   "id": "3618b3d9",
   "metadata": {},
   "outputs": [],
   "source": []
  },
  {
   "cell_type": "code",
   "execution_count": null,
   "id": "5fcebeef",
   "metadata": {},
   "outputs": [],
   "source": []
  },
  {
   "cell_type": "code",
   "execution_count": null,
   "id": "44bbc24b",
   "metadata": {},
   "outputs": [],
   "source": []
  },
  {
   "cell_type": "code",
   "execution_count": null,
   "id": "e68a9f30",
   "metadata": {},
   "outputs": [],
   "source": []
  },
  {
   "cell_type": "code",
   "execution_count": null,
   "id": "c7844b06",
   "metadata": {},
   "outputs": [],
   "source": []
  },
  {
   "cell_type": "code",
   "execution_count": null,
   "id": "6bb12b80",
   "metadata": {},
   "outputs": [],
   "source": []
  },
  {
   "cell_type": "code",
   "execution_count": null,
   "id": "c19851cc",
   "metadata": {},
   "outputs": [],
   "source": []
  },
  {
   "cell_type": "code",
   "execution_count": null,
   "id": "1243d4fc",
   "metadata": {},
   "outputs": [],
   "source": []
  },
  {
   "cell_type": "code",
   "execution_count": null,
   "id": "1fb9710b",
   "metadata": {},
   "outputs": [],
   "source": []
  }
 ],
 "metadata": {
  "kernelspec": {
   "display_name": "Python 3",
   "language": "python",
   "name": "python3"
  },
  "language_info": {
   "codemirror_mode": {
    "name": "ipython",
    "version": 3
   },
   "file_extension": ".py",
   "mimetype": "text/x-python",
   "name": "python",
   "nbconvert_exporter": "python",
   "pygments_lexer": "ipython3",
   "version": "3.7.13"
  }
 },
 "nbformat": 4,
 "nbformat_minor": 5
}
