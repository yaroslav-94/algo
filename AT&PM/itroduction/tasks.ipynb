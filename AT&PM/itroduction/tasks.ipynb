{
 "cells": [
  {
   "cell_type": "markdown",
   "id": "5354159a",
   "metadata": {},
   "source": [
    "### Задача 1\n",
    "\n",
    "Дано целое число $1 \\le n \\le 40$, необходимо вычислить n-е число Фибоначчи (напомним, что $F_0=0, F_1=1 и F_n=F_{n-1}+F_{n-2}$ при n≥2)."
   ]
  },
  {
   "cell_type": "markdown",
   "id": "0354c78b",
   "metadata": {},
   "source": [
    "### Задача 2\n",
    "\n",
    "\n",
    "Дано число $1 \\le n \\le 10^7&, необходимо найти последнюю цифру nn-го числа Фибоначчи.\n",
    "\n",
    "Как мы помним, числа Фибоначчи растут очень быстро, поэтому при их вычислении нужно быть аккуратным с переполнением. В данной задаче, впрочем, этой проблемы можно избежать, поскольку нас интересует только последняя цифра числа Фибоначчи: если $0 \\le a,b \\le 9$ — последние цифры чисел $F_i$  и $F_{i+1}$ соответственно, то $(a+b) \\bmod{10}$ — последняя цифра числа $F_{i+2}$."
   ]
  },
  {
   "cell_type": "code",
   "execution_count": null,
   "id": "85dc2952",
   "metadata": {},
   "outputs": [],
   "source": []
  },
  {
   "cell_type": "code",
   "execution_count": 8,
   "id": "6743bb57",
   "metadata": {},
   "outputs": [
    {
     "name": "stdout",
     "output_type": "stream",
     "text": [
      "[1, 1, 0, 1, 1, 0, 1, 1, 0, 1, 1, 0]\n"
     ]
    }
   ],
   "source": [
    "def fib_mod(n, m):\n",
    "    if n == 1:\n",
    "        return 1\n",
    "    elif n >= 1:\n",
    "        left, right = 1, 1\n",
    "        arr = [left % m, right % m]\n",
    "        for i in range(2, n+2):\n",
    "            left, right = right, (left + right)\n",
    "            arr.append(right%m)\n",
    "\n",
    "        return arr\n",
    "\n",
    "\n",
    "n, m = 10, 2\n",
    "# 3\n",
    "print(fib_mod(n, m))"
   ]
  },
  {
   "cell_type": "code",
   "execution_count": 11,
   "id": "8cf327bc",
   "metadata": {},
   "outputs": [
    {
     "name": "stdout",
     "output_type": "stream",
     "text": [
      "[1, 1, 2, 0, 2, 2, 1, 0, 1, 1, 2, 0, 2, 2, 1, 0, 1, 1, 2, 0, 2, 2]\n"
     ]
    }
   ],
   "source": [
    "def fib_mod(n, m):\n",
    "    if n == 1:\n",
    "        return 1\n",
    "    elif n >= 1:\n",
    "        left, right = 1, 1\n",
    "        arr = [left % m, right % m]\n",
    "        for i in range(2, 2*n+2):\n",
    "            left, right = right, (left + right)\n",
    "            arr.append(right%m)\n",
    "\n",
    "        return arr\n",
    "\n",
    "\n",
    "n, m = 10, 3\n",
    "# 8\n",
    "print(fib_mod(n, m))"
   ]
  },
  {
   "cell_type": "code",
   "execution_count": 12,
   "id": "7bb26473",
   "metadata": {},
   "outputs": [
    {
     "data": {
      "text/plain": [
       "3"
      ]
     },
     "execution_count": 12,
     "metadata": {},
     "output_type": "execute_result"
    }
   ],
   "source": [
    "10%2+3"
   ]
  },
  {
   "cell_type": "code",
   "execution_count": 13,
   "id": "f9c779f6",
   "metadata": {},
   "outputs": [
    {
     "data": {
      "text/plain": [
       "4"
      ]
     },
     "execution_count": 13,
     "metadata": {},
     "output_type": "execute_result"
    }
   ],
   "source": [
    "10%3+3"
   ]
  },
  {
   "cell_type": "code",
   "execution_count": 15,
   "id": "9a7b0a62",
   "metadata": {},
   "outputs": [
    {
     "data": {
      "text/plain": [
       "5"
      ]
     },
     "execution_count": 15,
     "metadata": {},
     "output_type": "execute_result"
    }
   ],
   "source": [
    "10%4+3"
   ]
  },
  {
   "cell_type": "code",
   "execution_count": null,
   "id": "e0450950",
   "metadata": {},
   "outputs": [],
   "source": []
  },
  {
   "cell_type": "code",
   "execution_count": null,
   "id": "3618b3d9",
   "metadata": {},
   "outputs": [],
   "source": []
  },
  {
   "cell_type": "code",
   "execution_count": 66,
   "id": "5fcebeef",
   "metadata": {},
   "outputs": [
    {
     "name": "stdout",
     "output_type": "stream",
     "text": [
      "20305\n"
     ]
    }
   ],
   "source": [
    "def fib_mod(n, m):\n",
    "    if n == 1:\n",
    "        return 1\n",
    "    elif n >= 1:\n",
    "        left, right = 1, 1\n",
    "        for i in range(2, n):\n",
    "            left, right = right % m, (left + right) % m\n",
    "        return right\n",
    "    \n",
    "n, m = 1598753, 25897\n",
    "print(fib_mod(n, m))"
   ]
  },
  {
   "cell_type": "code",
   "execution_count": 80,
   "id": "44bbc24b",
   "metadata": {},
   "outputs": [
    {
     "name": "stdout",
     "output_type": "stream",
     "text": [
      "[0, 1, 1]\n",
      "[0, 1, 1, 2, 3, 5, 8, 13, 21, 34]\n",
      "[0, 1, 1, 2, 3, 5, 8, 13, 21, 34, 55, 89, 144, 233, 377, 610, 987, 1597, 2584, 4181, 6765, 10946, 17711, 2760, 20471, 23231, 17805, 15139, 7047, 22186, 3336, 25522, 2961, 2586, 5547, 8133, 13680, 21813, 9596, 5512, 15108, 20620, 9831, 4554, 14385, 18939, 7427, 469, 7896, 8365, 16261, 24626, 14990, 13719, 2812, 16531, 19343, 9977, 3423, 13400, 16823, 4326, 21149, 25475, 20727, 20305, 15135, 9543, 24678, 8324, 7105, 15429, 22534, 12066, 8703, 20769, 3575, 24344, 2022]\n"
     ]
    },
    {
     "ename": "AssertionError",
     "evalue": "Test 3",
     "output_type": "error",
     "traceback": [
      "\u001b[1;31m---------------------------------------------------------------------------\u001b[0m",
      "\u001b[1;31mAssertionError\u001b[0m                            Traceback (most recent call last)",
      "\u001b[1;32m<ipython-input-80-d11e74ea0227>\u001b[0m in \u001b[0;36m<module>\u001b[1;34m\u001b[0m\n\u001b[0;32m     16\u001b[0m \u001b[1;32massert\u001b[0m \u001b[0mfib_mod\u001b[0m\u001b[1;33m(\u001b[0m\u001b[0mn\u001b[0m\u001b[1;33m=\u001b[0m \u001b[1;36m10\u001b[0m\u001b[1;33m,\u001b[0m \u001b[0mm\u001b[0m\u001b[1;33m=\u001b[0m \u001b[1;36m2\u001b[0m\u001b[1;33m)\u001b[0m \u001b[1;33m==\u001b[0m \u001b[1;36m1\u001b[0m\u001b[1;33m,\u001b[0m \u001b[1;34m\"Test 1\"\u001b[0m\u001b[1;33m\u001b[0m\u001b[1;33m\u001b[0m\u001b[0m\n\u001b[0;32m     17\u001b[0m \u001b[1;32massert\u001b[0m \u001b[0mfib_mod\u001b[0m\u001b[1;33m(\u001b[0m\u001b[0mn\u001b[0m\u001b[1;33m=\u001b[0m \u001b[1;36m1025\u001b[0m\u001b[1;33m,\u001b[0m \u001b[0mm\u001b[0m\u001b[1;33m=\u001b[0m \u001b[1;36m55\u001b[0m\u001b[1;33m)\u001b[0m \u001b[1;33m==\u001b[0m \u001b[1;36m5\u001b[0m\u001b[1;33m,\u001b[0m \u001b[1;34m\"Test 2\"\u001b[0m\u001b[1;33m\u001b[0m\u001b[1;33m\u001b[0m\u001b[0m\n\u001b[1;32m---> 18\u001b[1;33m \u001b[1;32massert\u001b[0m \u001b[0mfib_mod\u001b[0m\u001b[1;33m(\u001b[0m\u001b[0mn\u001b[0m\u001b[1;33m=\u001b[0m \u001b[1;36m1598753\u001b[0m\u001b[1;33m,\u001b[0m \u001b[0mm\u001b[0m\u001b[1;33m=\u001b[0m \u001b[1;36m25897\u001b[0m\u001b[1;33m)\u001b[0m \u001b[1;33m==\u001b[0m \u001b[1;36m20305\u001b[0m\u001b[1;33m,\u001b[0m \u001b[1;34m\"Test 3\"\u001b[0m\u001b[1;33m\u001b[0m\u001b[1;33m\u001b[0m\u001b[0m\n\u001b[0m",
      "\u001b[1;31mAssertionError\u001b[0m: Test 3"
     ]
    }
   ],
   "source": [
    "def fib_mod(n, m):\n",
    "    if n == 1:\n",
    "        return 1\n",
    "    elif n >= 1:\n",
    "        left, right = 1, 1\n",
    "        arr = [0, 1, 1]\n",
    "        for _ in range(2*m+1):\n",
    "            left, right = right % m, (left + right) % m\n",
    "            if right not in arr:\n",
    "                arr.append(right)\n",
    "            else:\n",
    "                break\n",
    "        print(arr)\n",
    "        return arr[n%len(arr)]\n",
    "    \n",
    "assert fib_mod(n= 10, m= 2) == 1, \"Test 1\"\n",
    "assert fib_mod(n= 1025, m= 55) == 5, \"Test 2\"\n",
    "assert fib_mod(n= 1598753, m= 25897) == 20305, \"Test 3\""
   ]
  },
  {
   "cell_type": "code",
   "execution_count": 83,
   "id": "e68a9f30",
   "metadata": {},
   "outputs": [
    {
     "ename": "AssertionError",
     "evalue": "Test 4",
     "output_type": "error",
     "traceback": [
      "\u001b[1;31m---------------------------------------------------------------------------\u001b[0m",
      "\u001b[1;31mAssertionError\u001b[0m                            Traceback (most recent call last)",
      "\u001b[1;32m<ipython-input-83-ef9b3dc6cbe6>\u001b[0m in \u001b[0;36m<module>\u001b[1;34m\u001b[0m\n\u001b[0;32m     16\u001b[0m \u001b[1;32massert\u001b[0m \u001b[0mfib_mod\u001b[0m\u001b[1;33m(\u001b[0m\u001b[0mn\u001b[0m\u001b[1;33m=\u001b[0m \u001b[1;36m1025\u001b[0m\u001b[1;33m,\u001b[0m \u001b[0mm\u001b[0m\u001b[1;33m=\u001b[0m \u001b[1;36m55\u001b[0m\u001b[1;33m)\u001b[0m \u001b[1;33m==\u001b[0m \u001b[1;36m5\u001b[0m\u001b[1;33m,\u001b[0m \u001b[1;34m\"Test 2\"\u001b[0m\u001b[1;33m\u001b[0m\u001b[1;33m\u001b[0m\u001b[0m\n\u001b[0;32m     17\u001b[0m \u001b[1;32massert\u001b[0m \u001b[0mfib_mod\u001b[0m\u001b[1;33m(\u001b[0m\u001b[0mn\u001b[0m\u001b[1;33m=\u001b[0m \u001b[1;36m1598753\u001b[0m\u001b[1;33m,\u001b[0m \u001b[0mm\u001b[0m\u001b[1;33m=\u001b[0m \u001b[1;36m25897\u001b[0m\u001b[1;33m)\u001b[0m \u001b[1;33m==\u001b[0m \u001b[1;36m20305\u001b[0m\u001b[1;33m,\u001b[0m \u001b[1;34m\"Test 3\"\u001b[0m\u001b[1;33m\u001b[0m\u001b[1;33m\u001b[0m\u001b[0m\n\u001b[1;32m---> 18\u001b[1;33m \u001b[1;32massert\u001b[0m \u001b[0mfib_mod\u001b[0m\u001b[1;33m(\u001b[0m\u001b[0mn\u001b[0m\u001b[1;33m=\u001b[0m \u001b[1;36m60282445765134413\u001b[0m\u001b[1;33m,\u001b[0m \u001b[0mm\u001b[0m\u001b[1;33m=\u001b[0m \u001b[1;36m2263\u001b[0m\u001b[1;33m)\u001b[0m \u001b[1;33m==\u001b[0m \u001b[1;36m974\u001b[0m\u001b[1;33m,\u001b[0m \u001b[1;34m\"Test 4\"\u001b[0m\u001b[1;33m\u001b[0m\u001b[1;33m\u001b[0m\u001b[0m\n\u001b[0m",
      "\u001b[1;31mAssertionError\u001b[0m: Test 4"
     ]
    }
   ],
   "source": [
    "def fib_mod(n, m):\n",
    "    if n == 1:\n",
    "        return 1\n",
    "    elif n >= 1:\n",
    "        left, right = 1, 1\n",
    "        arr = [0, 1, 1]\n",
    "        while True:\n",
    "            left, right = right % m, (left + right) % m\n",
    "            if right != 0:\n",
    "                arr.append(right)\n",
    "            else:\n",
    "                break\n",
    "        return arr[n%len(arr)]\n",
    "    \n",
    "assert fib_mod(n= 10, m= 2) == 1, \"Test 1\"\n",
    "assert fib_mod(n= 1025, m= 55) == 5, \"Test 2\"\n",
    "assert fib_mod(n= 1598753, m= 25897) == 20305, \"Test 3\"\n",
    "assert fib_mod(n= 60282445765134413, m= 2263) == 974, \"Test 4\""
   ]
  },
  {
   "cell_type": "code",
   "execution_count": null,
   "id": "c7844b06",
   "metadata": {},
   "outputs": [],
   "source": [
    "# 10 2 1\n",
    "# 1025 55 - 5\n",
    "# 12589 369 - 89\n",
    "# 1598753 25897 - 20305\n",
    "# \"n\": \"60282445765134413\", \"m\": 2263, \"expected\": 974"
   ]
  },
  {
   "cell_type": "code",
   "execution_count": null,
   "id": "6bb12b80",
   "metadata": {},
   "outputs": [],
   "source": []
  },
  {
   "cell_type": "code",
   "execution_count": null,
   "id": "c19851cc",
   "metadata": {},
   "outputs": [],
   "source": []
  },
  {
   "cell_type": "code",
   "execution_count": null,
   "id": "1243d4fc",
   "metadata": {},
   "outputs": [],
   "source": []
  },
  {
   "cell_type": "code",
   "execution_count": null,
   "id": "1fb9710b",
   "metadata": {},
   "outputs": [],
   "source": []
  }
 ],
 "metadata": {
  "kernelspec": {
   "display_name": "Python 3",
   "language": "python",
   "name": "python3"
  },
  "language_info": {
   "codemirror_mode": {
    "name": "ipython",
    "version": 3
   },
   "file_extension": ".py",
   "mimetype": "text/x-python",
   "name": "python",
   "nbconvert_exporter": "python",
   "pygments_lexer": "ipython3",
   "version": "3.7.13"
  }
 },
 "nbformat": 4,
 "nbformat_minor": 5
}
